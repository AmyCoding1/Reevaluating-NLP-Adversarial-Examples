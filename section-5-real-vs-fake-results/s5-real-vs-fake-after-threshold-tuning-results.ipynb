{
 "cells": [
  {
   "cell_type": "code",
   "execution_count": 2,
   "metadata": {
    "collapsed": true
   },
   "outputs": [],
   "source": [
    "import pandas as pd"
   ]
  },
  {
   "cell_type": "code",
   "execution_count": 4,
   "metadata": {},
   "outputs": [
    {
     "name": "stdout",
     "output_type": "stream",
     "text": [
      "Index(['HITId', 'HITTypeId', 'Title', 'Description', 'Keywords', 'Reward',\n",
      "       'CreationTime', 'MaxAssignments', 'RequesterAnnotation',\n",
      "       'AssignmentDurationInSeconds', 'AutoApprovalDelayInSeconds',\n",
      "       'Expiration', 'NumberOfSimilarHITs', 'LifetimeInSeconds',\n",
      "       'AssignmentId', 'WorkerId', 'AssignmentStatus', 'AcceptTime',\n",
      "       'SubmitTime', 'AutoApprovalTime', 'ApprovalTime', 'RejectionTime',\n",
      "       'RequesterFeedback', 'WorkTimeInSeconds', 'LifetimeApprovalRate',\n",
      "       'Last30DaysApprovalRate', 'Last7DaysApprovalRate', 'Input.index',\n",
      "       'Input.text', 'Input.label', 'Answer.sentiment.label', 'Approve',\n",
      "       'Reject'],\n",
      "      dtype='object')\n"
     ]
    },
    {
     "data": {
      "text/html": [
       "<div>\n",
       "<style scoped>\n",
       "    .dataframe tbody tr th:only-of-type {\n",
       "        vertical-align: middle;\n",
       "    }\n",
       "\n",
       "    .dataframe tbody tr th {\n",
       "        vertical-align: top;\n",
       "    }\n",
       "\n",
       "    .dataframe thead th {\n",
       "        text-align: right;\n",
       "    }\n",
       "</style>\n",
       "<table border=\"1\" class=\"dataframe\">\n",
       "  <thead>\n",
       "    <tr style=\"text-align: right;\">\n",
       "      <th></th>\n",
       "      <th>HITId</th>\n",
       "      <th>HITTypeId</th>\n",
       "      <th>Title</th>\n",
       "      <th>Description</th>\n",
       "      <th>Keywords</th>\n",
       "      <th>Reward</th>\n",
       "      <th>CreationTime</th>\n",
       "      <th>MaxAssignments</th>\n",
       "      <th>RequesterAnnotation</th>\n",
       "      <th>AssignmentDurationInSeconds</th>\n",
       "      <th>...</th>\n",
       "      <th>WorkTimeInSeconds</th>\n",
       "      <th>LifetimeApprovalRate</th>\n",
       "      <th>Last30DaysApprovalRate</th>\n",
       "      <th>Last7DaysApprovalRate</th>\n",
       "      <th>Input.index</th>\n",
       "      <th>Input.text</th>\n",
       "      <th>Input.label</th>\n",
       "      <th>Answer.sentiment.label</th>\n",
       "      <th>Approve</th>\n",
       "      <th>Reject</th>\n",
       "    </tr>\n",
       "  </thead>\n",
       "  <tbody>\n",
       "    <tr>\n",
       "      <th>0</th>\n",
       "      <td>3GL25Y6843U9M91WO89D0ND0G1TMXX</td>\n",
       "      <td>373P3486EFNQNDXGX39N28KM04A8CD</td>\n",
       "      <td>Guess reviews are real or fake</td>\n",
       "      <td>You will be randomly shown an online movie rev...</td>\n",
       "      <td>real, computer_altered, text</td>\n",
       "      <td>$0.05</td>\n",
       "      <td>Sun Dec 08 07:45:47 PST 2019</td>\n",
       "      <td>10</td>\n",
       "      <td>BatchId:3862697;OriginalHitTemplateId:928390909;</td>\n",
       "      <td>180</td>\n",
       "      <td>...</td>\n",
       "      <td>26</td>\n",
       "      <td>0% (0/0)</td>\n",
       "      <td>0% (0/0)</td>\n",
       "      <td>0% (0/0)</td>\n",
       "      <td>0</td>\n",
       "      <td>the sinister inspiration that fuelled devito's...</td>\n",
       "      <td>real</td>\n",
       "      <td>Computer-altered</td>\n",
       "      <td>NaN</td>\n",
       "      <td>NaN</td>\n",
       "    </tr>\n",
       "    <tr>\n",
       "      <th>1</th>\n",
       "      <td>3GL25Y6843U9M91WO89D0ND0G1TMXX</td>\n",
       "      <td>373P3486EFNQNDXGX39N28KM04A8CD</td>\n",
       "      <td>Guess reviews are real or fake</td>\n",
       "      <td>You will be randomly shown an online movie rev...</td>\n",
       "      <td>real, computer_altered, text</td>\n",
       "      <td>$0.05</td>\n",
       "      <td>Sun Dec 08 07:45:47 PST 2019</td>\n",
       "      <td>10</td>\n",
       "      <td>BatchId:3862697;OriginalHitTemplateId:928390909;</td>\n",
       "      <td>180</td>\n",
       "      <td>...</td>\n",
       "      <td>4</td>\n",
       "      <td>100% (229/229)</td>\n",
       "      <td>100% (6/6)</td>\n",
       "      <td>100% (6/6)</td>\n",
       "      <td>0</td>\n",
       "      <td>the sinister inspiration that fuelled devito's...</td>\n",
       "      <td>real</td>\n",
       "      <td>Real</td>\n",
       "      <td>NaN</td>\n",
       "      <td>NaN</td>\n",
       "    </tr>\n",
       "    <tr>\n",
       "      <th>2</th>\n",
       "      <td>3GL25Y6843U9M91WO89D0ND0G1TMXX</td>\n",
       "      <td>373P3486EFNQNDXGX39N28KM04A8CD</td>\n",
       "      <td>Guess reviews are real or fake</td>\n",
       "      <td>You will be randomly shown an online movie rev...</td>\n",
       "      <td>real, computer_altered, text</td>\n",
       "      <td>$0.05</td>\n",
       "      <td>Sun Dec 08 07:45:47 PST 2019</td>\n",
       "      <td>10</td>\n",
       "      <td>BatchId:3862697;OriginalHitTemplateId:928390909;</td>\n",
       "      <td>180</td>\n",
       "      <td>...</td>\n",
       "      <td>26</td>\n",
       "      <td>100% (1660/1660)</td>\n",
       "      <td>100% (160/160)</td>\n",
       "      <td>100% (160/160)</td>\n",
       "      <td>0</td>\n",
       "      <td>the sinister inspiration that fuelled devito's...</td>\n",
       "      <td>real</td>\n",
       "      <td>Real</td>\n",
       "      <td>NaN</td>\n",
       "      <td>NaN</td>\n",
       "    </tr>\n",
       "    <tr>\n",
       "      <th>3</th>\n",
       "      <td>3GL25Y6843U9M91WO89D0ND0G1TMXX</td>\n",
       "      <td>373P3486EFNQNDXGX39N28KM04A8CD</td>\n",
       "      <td>Guess reviews are real or fake</td>\n",
       "      <td>You will be randomly shown an online movie rev...</td>\n",
       "      <td>real, computer_altered, text</td>\n",
       "      <td>$0.05</td>\n",
       "      <td>Sun Dec 08 07:45:47 PST 2019</td>\n",
       "      <td>10</td>\n",
       "      <td>BatchId:3862697;OriginalHitTemplateId:928390909;</td>\n",
       "      <td>180</td>\n",
       "      <td>...</td>\n",
       "      <td>6</td>\n",
       "      <td>100% (1/1)</td>\n",
       "      <td>0% (0/0)</td>\n",
       "      <td>0% (0/0)</td>\n",
       "      <td>0</td>\n",
       "      <td>the sinister inspiration that fuelled devito's...</td>\n",
       "      <td>real</td>\n",
       "      <td>Computer-altered</td>\n",
       "      <td>NaN</td>\n",
       "      <td>NaN</td>\n",
       "    </tr>\n",
       "    <tr>\n",
       "      <th>4</th>\n",
       "      <td>3GL25Y6843U9M91WO89D0ND0G1TMXX</td>\n",
       "      <td>373P3486EFNQNDXGX39N28KM04A8CD</td>\n",
       "      <td>Guess reviews are real or fake</td>\n",
       "      <td>You will be randomly shown an online movie rev...</td>\n",
       "      <td>real, computer_altered, text</td>\n",
       "      <td>$0.05</td>\n",
       "      <td>Sun Dec 08 07:45:47 PST 2019</td>\n",
       "      <td>10</td>\n",
       "      <td>BatchId:3862697;OriginalHitTemplateId:928390909;</td>\n",
       "      <td>180</td>\n",
       "      <td>...</td>\n",
       "      <td>23</td>\n",
       "      <td>0% (0/0)</td>\n",
       "      <td>0% (0/0)</td>\n",
       "      <td>0% (0/0)</td>\n",
       "      <td>0</td>\n",
       "      <td>the sinister inspiration that fuelled devito's...</td>\n",
       "      <td>real</td>\n",
       "      <td>Real</td>\n",
       "      <td>NaN</td>\n",
       "      <td>NaN</td>\n",
       "    </tr>\n",
       "  </tbody>\n",
       "</table>\n",
       "<p>5 rows × 33 columns</p>\n",
       "</div>"
      ],
      "text/plain": [
       "                            HITId                       HITTypeId  \\\n",
       "0  3GL25Y6843U9M91WO89D0ND0G1TMXX  373P3486EFNQNDXGX39N28KM04A8CD   \n",
       "1  3GL25Y6843U9M91WO89D0ND0G1TMXX  373P3486EFNQNDXGX39N28KM04A8CD   \n",
       "2  3GL25Y6843U9M91WO89D0ND0G1TMXX  373P3486EFNQNDXGX39N28KM04A8CD   \n",
       "3  3GL25Y6843U9M91WO89D0ND0G1TMXX  373P3486EFNQNDXGX39N28KM04A8CD   \n",
       "4  3GL25Y6843U9M91WO89D0ND0G1TMXX  373P3486EFNQNDXGX39N28KM04A8CD   \n",
       "\n",
       "                            Title  \\\n",
       "0  Guess reviews are real or fake   \n",
       "1  Guess reviews are real or fake   \n",
       "2  Guess reviews are real or fake   \n",
       "3  Guess reviews are real or fake   \n",
       "4  Guess reviews are real or fake   \n",
       "\n",
       "                                         Description  \\\n",
       "0  You will be randomly shown an online movie rev...   \n",
       "1  You will be randomly shown an online movie rev...   \n",
       "2  You will be randomly shown an online movie rev...   \n",
       "3  You will be randomly shown an online movie rev...   \n",
       "4  You will be randomly shown an online movie rev...   \n",
       "\n",
       "                       Keywords Reward                  CreationTime  \\\n",
       "0  real, computer_altered, text  $0.05  Sun Dec 08 07:45:47 PST 2019   \n",
       "1  real, computer_altered, text  $0.05  Sun Dec 08 07:45:47 PST 2019   \n",
       "2  real, computer_altered, text  $0.05  Sun Dec 08 07:45:47 PST 2019   \n",
       "3  real, computer_altered, text  $0.05  Sun Dec 08 07:45:47 PST 2019   \n",
       "4  real, computer_altered, text  $0.05  Sun Dec 08 07:45:47 PST 2019   \n",
       "\n",
       "   MaxAssignments                               RequesterAnnotation  \\\n",
       "0              10  BatchId:3862697;OriginalHitTemplateId:928390909;   \n",
       "1              10  BatchId:3862697;OriginalHitTemplateId:928390909;   \n",
       "2              10  BatchId:3862697;OriginalHitTemplateId:928390909;   \n",
       "3              10  BatchId:3862697;OriginalHitTemplateId:928390909;   \n",
       "4              10  BatchId:3862697;OriginalHitTemplateId:928390909;   \n",
       "\n",
       "   AssignmentDurationInSeconds  ...    WorkTimeInSeconds LifetimeApprovalRate  \\\n",
       "0                          180  ...                   26             0% (0/0)   \n",
       "1                          180  ...                    4       100% (229/229)   \n",
       "2                          180  ...                   26     100% (1660/1660)   \n",
       "3                          180  ...                    6           100% (1/1)   \n",
       "4                          180  ...                   23             0% (0/0)   \n",
       "\n",
       "   Last30DaysApprovalRate  Last7DaysApprovalRate Input.index  \\\n",
       "0                0% (0/0)               0% (0/0)           0   \n",
       "1              100% (6/6)             100% (6/6)           0   \n",
       "2          100% (160/160)         100% (160/160)           0   \n",
       "3                0% (0/0)               0% (0/0)           0   \n",
       "4                0% (0/0)               0% (0/0)           0   \n",
       "\n",
       "                                          Input.text Input.label  \\\n",
       "0  the sinister inspiration that fuelled devito's...        real   \n",
       "1  the sinister inspiration that fuelled devito's...        real   \n",
       "2  the sinister inspiration that fuelled devito's...        real   \n",
       "3  the sinister inspiration that fuelled devito's...        real   \n",
       "4  the sinister inspiration that fuelled devito's...        real   \n",
       "\n",
       "  Answer.sentiment.label Approve Reject  \n",
       "0       Computer-altered     NaN    NaN  \n",
       "1                   Real     NaN    NaN  \n",
       "2                   Real     NaN    NaN  \n",
       "3       Computer-altered     NaN    NaN  \n",
       "4                   Real     NaN    NaN  \n",
       "\n",
       "[5 rows x 33 columns]"
      ]
     },
     "execution_count": 4,
     "metadata": {},
     "output_type": "execute_result"
    }
   ],
   "source": [
    "df = pd.read_csv('mturk-real-vs-fake.csv')\n",
    "print(df.columns)\n",
    "df.head()"
   ]
  },
  {
   "cell_type": "code",
   "execution_count": 6,
   "metadata": {},
   "outputs": [
    {
     "name": "stdout",
     "output_type": "stream",
     "text": [
      "['real' 'fake']\n",
      "['Computer-altered' 'Real']\n"
     ]
    }
   ],
   "source": [
    "print(df['Input.label'].unique())\n",
    "print(df['Answer.sentiment.label'].unique())"
   ]
  },
  {
   "cell_type": "code",
   "execution_count": 8,
   "metadata": {
    "collapsed": true
   },
   "outputs": [],
   "source": [
    "label_map = { 'Computer-altered': 'fake', 'Real': 'real'}\n",
    "df['label'] = df['Answer.sentiment.label'].map(lambda x: label_map[x])"
   ]
  },
  {
   "cell_type": "code",
   "execution_count": 9,
   "metadata": {},
   "outputs": [
    {
     "data": {
      "text/plain": [
       "True     1034\n",
       "False     726\n",
       "dtype: int64"
      ]
     },
     "execution_count": 9,
     "metadata": {},
     "output_type": "execute_result"
    }
   ],
   "source": [
    "(df['label'] == df['Input.label']).value_counts()"
   ]
  },
  {
   "cell_type": "code",
   "execution_count": 10,
   "metadata": {},
   "outputs": [
    {
     "data": {
      "text/plain": [
       "0.5875"
      ]
     },
     "execution_count": 10,
     "metadata": {},
     "output_type": "execute_result"
    }
   ],
   "source": [
    "1034 / (1034 + 726.)"
   ]
  },
  {
   "cell_type": "code",
   "execution_count": 11,
   "metadata": {},
   "outputs": [
    {
     "data": {
      "text/plain": [
       "real    1082\n",
       "fake     678\n",
       "Name: label, dtype: int64"
      ]
     },
     "execution_count": 11,
     "metadata": {},
     "output_type": "execute_result"
    }
   ],
   "source": [
    "df['label'].value_counts()"
   ]
  },
  {
   "cell_type": "code",
   "execution_count": 12,
   "metadata": {},
   "outputs": [
    {
     "data": {
      "text/plain": [
       "0.6147727272727272"
      ]
     },
     "execution_count": 12,
     "metadata": {},
     "output_type": "execute_result"
    }
   ],
   "source": [
    "1082/(1082+678.)"
   ]
  },
  {
   "cell_type": "code",
   "execution_count": 13,
   "metadata": {},
   "outputs": [
    {
     "data": {
      "text/plain": [
       "fake    416\n",
       "real    262\n",
       "Name: Input.label, dtype: int64"
      ]
     },
     "execution_count": 13,
     "metadata": {},
     "output_type": "execute_result"
    }
   ],
   "source": [
    "df[df['label'] == 'fake']['Input.label'].value_counts()"
   ]
  },
  {
   "cell_type": "code",
   "execution_count": 15,
   "metadata": {},
   "outputs": [
    {
     "data": {
      "text/plain": [
       "0.3864306784660767"
      ]
     },
     "execution_count": 15,
     "metadata": {},
     "output_type": "execute_result"
    }
   ],
   "source": [
    "262/(262+416.)"
   ]
  },
  {
   "cell_type": "code",
   "execution_count": 16,
   "metadata": {},
   "outputs": [
    {
     "data": {
      "text/plain": [
       "real    464\n",
       "fake    416\n",
       "Name: label, dtype: int64"
      ]
     },
     "execution_count": 16,
     "metadata": {},
     "output_type": "execute_result"
    }
   ],
   "source": [
    "df[df['Input.label'] == 'fake']['label'].value_counts()"
   ]
  },
  {
   "cell_type": "code",
   "execution_count": 18,
   "metadata": {},
   "outputs": [
    {
     "data": {
      "text/plain": [
       "0.4727272727272727"
      ]
     },
     "execution_count": 18,
     "metadata": {},
     "output_type": "execute_result"
    }
   ],
   "source": [
    "416/(464+416.)"
   ]
  },
  {
   "cell_type": "code",
   "execution_count": 19,
   "metadata": {},
   "outputs": [
    {
     "data": {
      "text/plain": [
       "real    1082\n",
       "fake     678\n",
       "Name: label, dtype: int64"
      ]
     },
     "execution_count": 19,
     "metadata": {},
     "output_type": "execute_result"
    }
   ],
   "source": [
    "df['label'].value_counts()"
   ]
  },
  {
   "cell_type": "code",
   "execution_count": 20,
   "metadata": {},
   "outputs": [
    {
     "data": {
      "text/plain": [
       "0.6147727272727272"
      ]
     },
     "execution_count": 20,
     "metadata": {},
     "output_type": "execute_result"
    }
   ],
   "source": [
    "1082/(1082+678.)"
   ]
  },
  {
   "cell_type": "code",
   "execution_count": 21,
   "metadata": {},
   "outputs": [
    {
     "data": {
      "text/plain": [
       "real    618\n",
       "fake    262\n",
       "Name: label, dtype: int64"
      ]
     },
     "execution_count": 21,
     "metadata": {},
     "output_type": "execute_result"
    }
   ],
   "source": [
    "df[df['Input.label'] == 'real']['label'].value_counts()"
   ]
  },
  {
   "cell_type": "code",
   "execution_count": 22,
   "metadata": {},
   "outputs": [
    {
     "data": {
      "text/plain": [
       "0.7022727272727273"
      ]
     },
     "execution_count": 22,
     "metadata": {},
     "output_type": "execute_result"
    }
   ],
   "source": [
    "618/(618+262.)"
   ]
  },
  {
   "cell_type": "code",
   "execution_count": null,
   "metadata": {
    "collapsed": true
   },
   "outputs": [],
   "source": []
  }
 ],
 "metadata": {
  "kernelspec": {
   "display_name": "Python 3",
   "language": "python",
   "name": "python3"
  },
  "language_info": {
   "codemirror_mode": {
    "name": "ipython",
    "version": 3
   },
   "file_extension": ".py",
   "mimetype": "text/x-python",
   "name": "python",
   "nbconvert_exporter": "python",
   "pygments_lexer": "ipython3",
   "version": "3.6.3"
  }
 },
 "nbformat": 4,
 "nbformat_minor": 2
}
