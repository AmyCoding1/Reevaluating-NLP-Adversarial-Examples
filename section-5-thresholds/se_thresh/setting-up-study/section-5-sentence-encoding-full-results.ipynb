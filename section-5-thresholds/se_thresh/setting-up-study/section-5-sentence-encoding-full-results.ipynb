{
 "cells": [
  {
   "cell_type": "code",
   "execution_count": 13,
   "metadata": {},
   "outputs": [],
   "source": [
    "import pandas as pd\n",
    "\n",
    "path = '/Users/jxmorris12/Research/QLab/2019-Fall/2020-ACL/github/acl-2020-results/section-5-thresholds/se_thresh/results/se-bert-and-use-results-10-percent.csv'\n",
    "df = pd.read_csv(path)"
   ]
  },
  {
   "cell_type": "code",
   "execution_count": 14,
   "metadata": {},
   "outputs": [
    {
     "data": {
      "text/html": [
       "<div>\n",
       "<style scoped>\n",
       "    .dataframe tbody tr th:only-of-type {\n",
       "        vertical-align: middle;\n",
       "    }\n",
       "\n",
       "    .dataframe tbody tr th {\n",
       "        vertical-align: top;\n",
       "    }\n",
       "\n",
       "    .dataframe thead th {\n",
       "        text-align: right;\n",
       "    }\n",
       "</style>\n",
       "<table border=\"1\" class=\"dataframe\">\n",
       "  <thead>\n",
       "    <tr style=\"text-align: right;\">\n",
       "      <th></th>\n",
       "      <th>HITId</th>\n",
       "      <th>HITTypeId</th>\n",
       "      <th>Title</th>\n",
       "      <th>Description</th>\n",
       "      <th>Keywords</th>\n",
       "      <th>Reward</th>\n",
       "      <th>CreationTime</th>\n",
       "      <th>MaxAssignments</th>\n",
       "      <th>RequesterAnnotation</th>\n",
       "      <th>AssignmentDurationInSeconds</th>\n",
       "      <th>...</th>\n",
       "      <th>Input.text1</th>\n",
       "      <th>Input.text2</th>\n",
       "      <th>Input.score_1</th>\n",
       "      <th>Input.score_2</th>\n",
       "      <th>Input.SE_Thresh</th>\n",
       "      <th>Input.dataset</th>\n",
       "      <th>Input.SE_Model</th>\n",
       "      <th>Answer.semantic-similarity.label</th>\n",
       "      <th>Approve</th>\n",
       "      <th>Reject</th>\n",
       "    </tr>\n",
       "  </thead>\n",
       "  <tbody>\n",
       "    <tr>\n",
       "      <th>0</th>\n",
       "      <td>37M4O367VJI0KQHMI2QI84MGN0A5MT</td>\n",
       "      <td>3I7X2GF4HITNMQNSI4TO4GC73O3RHH</td>\n",
       "      <td>Does changing from text1 to text2 preserve mea...</td>\n",
       "      <td>Compare two short pieces of English text and d...</td>\n",
       "      <td>meaning, semantic, similarity, text</td>\n",
       "      <td>$0.05</td>\n",
       "      <td>Sat Dec 07 13:06:41 PST 2019</td>\n",
       "      <td>10</td>\n",
       "      <td>BatchId:3862174;OriginalHitTemplateId:928390905;</td>\n",
       "      <td>180</td>\n",
       "      <td>...</td>\n",
       "      <td>The year 2005 saw no fewer than 3 filmed produ...</td>\n",
       "      <td>The year 2005 saw no less than 3 filmed produc...</td>\n",
       "      <td>0.746964</td>\n",
       "      <td>0.530846</td>\n",
       "      <td>0.96</td>\n",
       "      <td>imdb</td>\n",
       "      <td>BERT</td>\n",
       "      <td>Agree</td>\n",
       "      <td>NaN</td>\n",
       "      <td>NaN</td>\n",
       "    </tr>\n",
       "    <tr>\n",
       "      <th>1</th>\n",
       "      <td>37M4O367VJI0KQHMI2QI84MGN0A5MT</td>\n",
       "      <td>3I7X2GF4HITNMQNSI4TO4GC73O3RHH</td>\n",
       "      <td>Does changing from text1 to text2 preserve mea...</td>\n",
       "      <td>Compare two short pieces of English text and d...</td>\n",
       "      <td>meaning, semantic, similarity, text</td>\n",
       "      <td>$0.05</td>\n",
       "      <td>Sat Dec 07 13:06:41 PST 2019</td>\n",
       "      <td>10</td>\n",
       "      <td>BatchId:3862174;OriginalHitTemplateId:928390905;</td>\n",
       "      <td>180</td>\n",
       "      <td>...</td>\n",
       "      <td>The year 2005 saw no fewer than 3 filmed produ...</td>\n",
       "      <td>The year 2005 saw no less than 3 filmed produc...</td>\n",
       "      <td>0.746964</td>\n",
       "      <td>0.530846</td>\n",
       "      <td>0.96</td>\n",
       "      <td>imdb</td>\n",
       "      <td>BERT</td>\n",
       "      <td>Strongly Agree</td>\n",
       "      <td>NaN</td>\n",
       "      <td>NaN</td>\n",
       "    </tr>\n",
       "    <tr>\n",
       "      <th>2</th>\n",
       "      <td>35F6NGNVM8JJKPLPFS6RS2V48E17TB</td>\n",
       "      <td>3I7X2GF4HITNMQNSI4TO4GC73O3RHH</td>\n",
       "      <td>Does changing from text1 to text2 preserve mea...</td>\n",
       "      <td>Compare two short pieces of English text and d...</td>\n",
       "      <td>meaning, semantic, similarity, text</td>\n",
       "      <td>$0.05</td>\n",
       "      <td>Sat Dec 07 13:06:37 PST 2019</td>\n",
       "      <td>10</td>\n",
       "      <td>BatchId:3862174;OriginalHitTemplateId:928390905;</td>\n",
       "      <td>180</td>\n",
       "      <td>...</td>\n",
       "      <td>I have been using this club since it opened. I...</td>\n",
       "      <td>I have been uses this club since it open. I sw...</td>\n",
       "      <td>0.712907</td>\n",
       "      <td>0.534708</td>\n",
       "      <td>0.99</td>\n",
       "      <td>yelp-sentiment</td>\n",
       "      <td>USE</td>\n",
       "      <td>Strongly Agree</td>\n",
       "      <td>NaN</td>\n",
       "      <td>NaN</td>\n",
       "    </tr>\n",
       "    <tr>\n",
       "      <th>3</th>\n",
       "      <td>35F6NGNVM8JJKPLPFS6RS2V48E17TB</td>\n",
       "      <td>3I7X2GF4HITNMQNSI4TO4GC73O3RHH</td>\n",
       "      <td>Does changing from text1 to text2 preserve mea...</td>\n",
       "      <td>Compare two short pieces of English text and d...</td>\n",
       "      <td>meaning, semantic, similarity, text</td>\n",
       "      <td>$0.05</td>\n",
       "      <td>Sat Dec 07 13:06:37 PST 2019</td>\n",
       "      <td>10</td>\n",
       "      <td>BatchId:3862174;OriginalHitTemplateId:928390905;</td>\n",
       "      <td>180</td>\n",
       "      <td>...</td>\n",
       "      <td>I have been using this club since it opened. I...</td>\n",
       "      <td>I have been uses this club since it open. I sw...</td>\n",
       "      <td>0.712907</td>\n",
       "      <td>0.534708</td>\n",
       "      <td>0.99</td>\n",
       "      <td>yelp-sentiment</td>\n",
       "      <td>USE</td>\n",
       "      <td>Agree</td>\n",
       "      <td>NaN</td>\n",
       "      <td>NaN</td>\n",
       "    </tr>\n",
       "    <tr>\n",
       "      <th>4</th>\n",
       "      <td>35F6NGNVM8JJKPLPFS6RS2V48E17TB</td>\n",
       "      <td>3I7X2GF4HITNMQNSI4TO4GC73O3RHH</td>\n",
       "      <td>Does changing from text1 to text2 preserve mea...</td>\n",
       "      <td>Compare two short pieces of English text and d...</td>\n",
       "      <td>meaning, semantic, similarity, text</td>\n",
       "      <td>$0.05</td>\n",
       "      <td>Sat Dec 07 13:06:37 PST 2019</td>\n",
       "      <td>10</td>\n",
       "      <td>BatchId:3862174;OriginalHitTemplateId:928390905;</td>\n",
       "      <td>180</td>\n",
       "      <td>...</td>\n",
       "      <td>I have been using this club since it opened. I...</td>\n",
       "      <td>I have been uses this club since it open. I sw...</td>\n",
       "      <td>0.712907</td>\n",
       "      <td>0.534708</td>\n",
       "      <td>0.99</td>\n",
       "      <td>yelp-sentiment</td>\n",
       "      <td>USE</td>\n",
       "      <td>Strongly Agree</td>\n",
       "      <td>NaN</td>\n",
       "      <td>NaN</td>\n",
       "    </tr>\n",
       "  </tbody>\n",
       "</table>\n",
       "<p>5 rows × 39 columns</p>\n",
       "</div>"
      ],
      "text/plain": [
       "                            HITId                       HITTypeId  \\\n",
       "0  37M4O367VJI0KQHMI2QI84MGN0A5MT  3I7X2GF4HITNMQNSI4TO4GC73O3RHH   \n",
       "1  37M4O367VJI0KQHMI2QI84MGN0A5MT  3I7X2GF4HITNMQNSI4TO4GC73O3RHH   \n",
       "2  35F6NGNVM8JJKPLPFS6RS2V48E17TB  3I7X2GF4HITNMQNSI4TO4GC73O3RHH   \n",
       "3  35F6NGNVM8JJKPLPFS6RS2V48E17TB  3I7X2GF4HITNMQNSI4TO4GC73O3RHH   \n",
       "4  35F6NGNVM8JJKPLPFS6RS2V48E17TB  3I7X2GF4HITNMQNSI4TO4GC73O3RHH   \n",
       "\n",
       "                                               Title  \\\n",
       "0  Does changing from text1 to text2 preserve mea...   \n",
       "1  Does changing from text1 to text2 preserve mea...   \n",
       "2  Does changing from text1 to text2 preserve mea...   \n",
       "3  Does changing from text1 to text2 preserve mea...   \n",
       "4  Does changing from text1 to text2 preserve mea...   \n",
       "\n",
       "                                         Description  \\\n",
       "0  Compare two short pieces of English text and d...   \n",
       "1  Compare two short pieces of English text and d...   \n",
       "2  Compare two short pieces of English text and d...   \n",
       "3  Compare two short pieces of English text and d...   \n",
       "4  Compare two short pieces of English text and d...   \n",
       "\n",
       "                              Keywords Reward                  CreationTime  \\\n",
       "0  meaning, semantic, similarity, text  $0.05  Sat Dec 07 13:06:41 PST 2019   \n",
       "1  meaning, semantic, similarity, text  $0.05  Sat Dec 07 13:06:41 PST 2019   \n",
       "2  meaning, semantic, similarity, text  $0.05  Sat Dec 07 13:06:37 PST 2019   \n",
       "3  meaning, semantic, similarity, text  $0.05  Sat Dec 07 13:06:37 PST 2019   \n",
       "4  meaning, semantic, similarity, text  $0.05  Sat Dec 07 13:06:37 PST 2019   \n",
       "\n",
       "   MaxAssignments                               RequesterAnnotation  \\\n",
       "0              10  BatchId:3862174;OriginalHitTemplateId:928390905;   \n",
       "1              10  BatchId:3862174;OriginalHitTemplateId:928390905;   \n",
       "2              10  BatchId:3862174;OriginalHitTemplateId:928390905;   \n",
       "3              10  BatchId:3862174;OriginalHitTemplateId:928390905;   \n",
       "4              10  BatchId:3862174;OriginalHitTemplateId:928390905;   \n",
       "\n",
       "   AssignmentDurationInSeconds  ...    \\\n",
       "0                          180  ...     \n",
       "1                          180  ...     \n",
       "2                          180  ...     \n",
       "3                          180  ...     \n",
       "4                          180  ...     \n",
       "\n",
       "                                         Input.text1  \\\n",
       "0  The year 2005 saw no fewer than 3 filmed produ...   \n",
       "1  The year 2005 saw no fewer than 3 filmed produ...   \n",
       "2  I have been using this club since it opened. I...   \n",
       "3  I have been using this club since it opened. I...   \n",
       "4  I have been using this club since it opened. I...   \n",
       "\n",
       "                                         Input.text2  Input.score_1  \\\n",
       "0  The year 2005 saw no less than 3 filmed produc...       0.746964   \n",
       "1  The year 2005 saw no less than 3 filmed produc...       0.746964   \n",
       "2  I have been uses this club since it open. I sw...       0.712907   \n",
       "3  I have been uses this club since it open. I sw...       0.712907   \n",
       "4  I have been uses this club since it open. I sw...       0.712907   \n",
       "\n",
       "   Input.score_2 Input.SE_Thresh   Input.dataset Input.SE_Model  \\\n",
       "0       0.530846            0.96            imdb           BERT   \n",
       "1       0.530846            0.96            imdb           BERT   \n",
       "2       0.534708            0.99  yelp-sentiment            USE   \n",
       "3       0.534708            0.99  yelp-sentiment            USE   \n",
       "4       0.534708            0.99  yelp-sentiment            USE   \n",
       "\n",
       "  Answer.semantic-similarity.label Approve Reject  \n",
       "0                            Agree     NaN    NaN  \n",
       "1                   Strongly Agree     NaN    NaN  \n",
       "2                   Strongly Agree     NaN    NaN  \n",
       "3                            Agree     NaN    NaN  \n",
       "4                   Strongly Agree     NaN    NaN  \n",
       "\n",
       "[5 rows x 39 columns]"
      ]
     },
     "execution_count": 14,
     "metadata": {},
     "output_type": "execute_result"
    }
   ],
   "source": [
    "df.head()"
   ]
  },
  {
   "cell_type": "code",
   "execution_count": 24,
   "metadata": {},
   "outputs": [
    {
     "data": {
      "text/plain": [
       "Input.SE_Thresh\n",
       "0.96    421\n",
       "0.97    220\n",
       "0.98    223\n",
       "0.99    220\n",
       "Name: label, dtype: int64"
      ]
     },
     "execution_count": 24,
     "metadata": {},
     "output_type": "execute_result"
    }
   ],
   "source": [
    "df.groupby('Input.SE_Thresh').count()['label']"
   ]
  },
  {
   "cell_type": "code",
   "execution_count": null,
   "metadata": {},
   "outputs": [],
   "source": []
  },
  {
   "cell_type": "code",
   "execution_count": 15,
   "metadata": {},
   "outputs": [
    {
     "data": {
      "text/plain": [
       "1084"
      ]
     },
     "execution_count": 15,
     "metadata": {},
     "output_type": "execute_result"
    }
   ],
   "source": [
    "len(df)"
   ]
  },
  {
   "cell_type": "code",
   "execution_count": 17,
   "metadata": {},
   "outputs": [],
   "source": [
    "label_map = { 'Strongly Agree': 5, 'Agree': 4, 'Not sure': 3, 'Disagree': 2, 'Strongly Disagree': 1}\n",
    "df['label'] = df['Answer.semantic-similarity.label'].map(lambda s: label_map[s])"
   ]
  },
  {
   "cell_type": "code",
   "execution_count": 19,
   "metadata": {},
   "outputs": [
    {
     "data": {
      "text/plain": [
       "Index(['HITId', 'HITTypeId', 'Title', 'Description', 'Keywords', 'Reward',\n",
       "       'CreationTime', 'MaxAssignments', 'RequesterAnnotation',\n",
       "       'AssignmentDurationInSeconds', 'AutoApprovalDelayInSeconds',\n",
       "       'Expiration', 'NumberOfSimilarHITs', 'LifetimeInSeconds',\n",
       "       'AssignmentId', 'WorkerId', 'AssignmentStatus', 'AcceptTime',\n",
       "       'SubmitTime', 'AutoApprovalTime', 'ApprovalTime', 'RejectionTime',\n",
       "       'RequesterFeedback', 'WorkTimeInSeconds', 'LifetimeApprovalRate',\n",
       "       'Last30DaysApprovalRate', 'Last7DaysApprovalRate', 'Input.label_1',\n",
       "       'Input.label_2', 'Input.text1', 'Input.text2', 'Input.score_1',\n",
       "       'Input.score_2', 'Input.SE_Thresh', 'Input.dataset', 'Input.SE_Model',\n",
       "       'Answer.semantic-similarity.label', 'Approve', 'Reject', 'label'],\n",
       "      dtype='object')"
      ]
     },
     "execution_count": 19,
     "metadata": {},
     "output_type": "execute_result"
    }
   ],
   "source": [
    "df.columns"
   ]
  },
  {
   "cell_type": "code",
   "execution_count": 21,
   "metadata": {},
   "outputs": [
    {
     "data": {
      "text/plain": [
       "Input.SE_Thresh  Input.SE_Model\n",
       "0.96             BERT              4.623932\n",
       "                 USE               4.711230\n",
       "0.97             BERT              4.620370\n",
       "                 USE               4.669643\n",
       "0.98             BERT              4.781513\n",
       "                 USE               4.692308\n",
       "0.99             BERT              4.752066\n",
       "                 USE               4.898990\n",
       "Name: label, dtype: float64"
      ]
     },
     "execution_count": 21,
     "metadata": {},
     "output_type": "execute_result"
    }
   ],
   "source": [
    "df.groupby(('Input.SE_Thresh', 'Input.SE_Model')).label.mean()"
   ]
  }
 ],
 "metadata": {
  "kernelspec": {
   "display_name": "Python 3",
   "language": "python",
   "name": "python3"
  },
  "language_info": {
   "codemirror_mode": {
    "name": "ipython",
    "version": 3
   },
   "file_extension": ".py",
   "mimetype": "text/x-python",
   "name": "python",
   "nbconvert_exporter": "python",
   "pygments_lexer": "ipython3",
   "version": "3.6.4"
  }
 },
 "nbformat": 4,
 "nbformat_minor": 2
}
