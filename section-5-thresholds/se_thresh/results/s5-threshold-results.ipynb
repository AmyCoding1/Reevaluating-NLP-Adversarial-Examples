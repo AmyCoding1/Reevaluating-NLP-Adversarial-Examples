{
 "cells": [
  {
   "cell_type": "code",
   "execution_count": 90,
   "metadata": {},
   "outputs": [],
   "source": [
    "import matplotlib.pyplot as plt\n",
    "import numpy as np\n",
    "import pandas as pd\n",
    "import seaborn as sns\n",
    "sns.set() # Use default plots from seaborn\n",
    "sns.set_style(\"white\", {'axes.grid' : False}) # White background"
   ]
  },
  {
   "cell_type": "code",
   "execution_count": 3,
   "metadata": {},
   "outputs": [
    {
     "name": "stdout",
     "output_type": "stream",
     "text": [
      "(4000, 37)\n",
      "(9930, 39)\n"
     ]
    }
   ],
   "source": [
    "# Read MTurk results into dataframes\n",
    "s4_df = pd.read_csv('section4-original-semantic-labels.csv')\n",
    "print(s4_df.shape) \n",
    "s5_df = pd.read_csv('section5-reproduction-semantic-labels.csv')\n",
    "print(s5_df.shape)"
   ]
  },
  {
   "cell_type": "code",
   "execution_count": 4,
   "metadata": {},
   "outputs": [],
   "source": [
    "# Map responses to numerical values on Likert scale\n",
    "label_map = { 'Strongly Agree': 5, 'Agree': 4, 'Not sure': 3, 'Disagree': 2, 'Strongly Disagree': 1}\n",
    "s4_df['label'] = s4_df['Answer.semantic-similarity.label'].map(lambda s: label_map[s])\n",
    "s5_df['label'] = s5_df['Answer.semantic-similarity.label'].map(lambda s: label_map[s])"
   ]
  },
  {
   "cell_type": "code",
   "execution_count": 5,
   "metadata": {},
   "outputs": [
    {
     "name": "stdout",
     "output_type": "stream",
     "text": [
      "s4 mean: 3.13225\n",
      "s5 mean: 4.025176233635448\n"
     ]
    }
   ],
   "source": [
    "print('s4 mean:', s4_df['label'].mean())\n",
    "print('s5 mean:', s5_df['label'].mean())"
   ]
  },
  {
   "cell_type": "code",
   "execution_count": 6,
   "metadata": {},
   "outputs": [
    {
     "name": "stdout",
     "output_type": "stream",
     "text": [
      "s4.columns: Index(['HITId', 'HITTypeId', 'Title', 'Description', 'Keywords', 'Reward',\n",
      "       'CreationTime', 'MaxAssignments', 'RequesterAnnotation',\n",
      "       'AssignmentDurationInSeconds', 'AutoApprovalDelayInSeconds',\n",
      "       'Expiration', 'NumberOfSimilarHITs', 'LifetimeInSeconds',\n",
      "       'AssignmentId', 'WorkerId', 'AssignmentStatus', 'AcceptTime',\n",
      "       'SubmitTime', 'AutoApprovalTime', 'ApprovalTime', 'RejectionTime',\n",
      "       'RequesterFeedback', 'WorkTimeInSeconds', 'LifetimeApprovalRate',\n",
      "       'Last30DaysApprovalRate', 'Last7DaysApprovalRate',\n",
      "       'Input.USE_similarity', 'Input.dataset', 'Input.original_class',\n",
      "       'Input.text1', 'Input.perturbed_class', 'Input.text2', 'Input.run_type',\n",
      "       'Answer.semantic-similarity.label', 'Approve', 'Reject', 'label'],\n",
      "      dtype='object')\n",
      "s5.columns: Index(['HITId', 'HITTypeId', 'Title', 'Description', 'Keywords', 'Reward',\n",
      "       'CreationTime', 'MaxAssignments', 'RequesterAnnotation',\n",
      "       'AssignmentDurationInSeconds', 'AutoApprovalDelayInSeconds',\n",
      "       'Expiration', 'NumberOfSimilarHITs', 'LifetimeInSeconds',\n",
      "       'AssignmentId', 'WorkerId', 'AssignmentStatus', 'AcceptTime',\n",
      "       'SubmitTime', 'AutoApprovalTime', 'ApprovalTime', 'RejectionTime',\n",
      "       'RequesterFeedback', 'WorkTimeInSeconds', 'LifetimeApprovalRate',\n",
      "       'Last30DaysApprovalRate', 'Last7DaysApprovalRate', 'Input.label_1',\n",
      "       'Input.label_2', 'Input.text1', 'Input.text2', 'Input.score_1',\n",
      "       'Input.score_2', 'Input.SE_Thresh', 'Input.dataset', 'Input.SE_Model',\n",
      "       'Answer.semantic-similarity.label', 'Approve', 'Reject', 'label'],\n",
      "      dtype='object')\n"
     ]
    }
   ],
   "source": [
    "print('s4.columns:', s4_df.columns)\n",
    "print('s5.columns:', s5_df.columns)"
   ]
  },
  {
   "cell_type": "code",
   "execution_count": 7,
   "metadata": {},
   "outputs": [],
   "source": [
    "dataset_name_map = { 'movie_review': 'mr', 'yelp_polarity': 'yelp-sentiment' }\n",
    "s4_df['dataset'] = s4_df['Input.dataset'].map(lambda x: dataset_name_map.get(x,x))"
   ]
  },
  {
   "cell_type": "code",
   "execution_count": 8,
   "metadata": {},
   "outputs": [
    {
     "data": {
      "text/plain": [
       "Text(0.5,1,'Score increases by dataset')"
      ]
     },
     "execution_count": 8,
     "metadata": {},
     "output_type": "execute_result"
    },
    {
     "data": {
      "image/png": "[encoded data removed]",
      "text/plain": [
       "<matplotlib.figure.Figure at 0x107f5ea58>"
      ]
     },
     "metadata": {},
     "output_type": "display_data"
    }
   ],
   "source": [
    "s4_by_dataset = s4_df.groupby('dataset')['label'].mean().to_frame().rename(columns={ 'label': 'Original Data' })\n",
    "s5_by_dataset = s5_df.groupby('Input.dataset')['label'].mean().to_frame().rename(columns={ 'label': 'Our Data' })\n",
    "\n",
    "ax = pd.concat((s4_by_dataset, s5_by_dataset), axis=1).plot(kind='bar')\n",
    "ax.set_title('Score increases by dataset')"
   ]
  },
  {
   "cell_type": "code",
   "execution_count": 9,
   "metadata": {},
   "outputs": [
    {
     "data": {
      "image/png": "[encoded data removed]",
      "text/plain": [
       "<matplotlib.figure.Figure at 0x109b6f278>"
      ]
     },
     "metadata": {},
     "output_type": "display_data"
    }
   ],
   "source": [
    "ax = s5_df.groupby(('Input.SE_Thresh', 'Input.SE_Model'))['label'].mean().unstack(level=-1).plot(kind='bar')\n",
    "patches, labels = ax.get_legend_handles_labels()\n",
    "ax.legend(patches, labels, loc='lower right')\n",
    "# add horizontal line at y=4\n",
    "xs = np.linspace(-5, 5)\n",
    "horiz_line_data = np.array([4 for i in range(len(xs))])\n",
    "ax.plot(xs, horiz_line_data, 'r--') \n",
    "\n",
    "plt.savefig('use-thresh-bert-and-use', format='pdf')"
   ]
  },
  {
   "cell_type": "code",
   "execution_count": 10,
   "metadata": {},
   "outputs": [],
   "source": [
    "def _c(t):\n",
    "    \"\"\" converts RGB tuple to a color format matplotlib understands \"\"\"\n",
    "    if len(t) == 3: #add opacity\n",
    "        t = t + (255.0,)\n",
    "    return [tuple((x/255. for x in t),)]"
   ]
  },
  {
   "cell_type": "code",
   "execution_count": 11,
   "metadata": {},
   "outputs": [],
   "source": [
    "# original: get_ticks returns = [1.  1.5 2.  2.5 3.  3.5 4.  4.5 5. ]\n",
    "use_thresh_graph_yticks = ['', '1 - Strongly Disagree', '2 - Disagree', '3 - Not Sure', '4 - Agree', '5 - Strongly Agree']"
   ]
  },
  {
   "cell_type": "code",
   "execution_count": 106,
   "metadata": {},
   "outputs": [
    {
     "data": {
      "image/png": "[encoded data removed]",
      "text/plain": [
       "<matplotlib.figure.Figure at 0x1a1ad8d908>"
      ]
     },
     "metadata": {},
     "output_type": "display_data"
    }
   ],
   "source": [
    "# fonts\n",
    "sns.set_context(\"notebook\", font_scale=1.2, rc={\"lines.linewidth\": 2.5})\n",
    "\n",
    "# make graph\n",
    "bert_df = s5_df[s5_df['Input.SE_Model'] == 'BERT']\n",
    "ax = bert_df.groupby('Input.SE_Thresh')['label'].mean().plot(kind='bar', color=_c((75,115,164,230.)), \n",
    "                            edgecolor='black', linewidth=1.) \n",
    "\n",
    "#color=_c((75, 115, 165, 230.0)#\n",
    "#sns.color_palette(\"cubehelix\")\n",
    "# ax = bert_df.groupby('Input.SE_Thresh')['label'].mean().plot(kind='bar'), palette=\"Blues_d\")\n",
    "\n",
    "# style graph\n",
    "ax.set_ylim(0.0, 5.0) # This \n",
    "ax.set_yticklabels(use_thresh_graph_yticks)\n",
    "# ax.set_title('Human responses across sentence encoding thresholds')\n",
    "ax.set_xlabel('Minimum Cosine Similarity of BERT Sentence Embeddings')\n",
    "\n",
    "# rotate x axis labels\n",
    "# ax.set_xticklabels(ax.get_xticklabels()z, rotation=0, ha='right')\n",
    "\n",
    "# add hatches\n",
    "# Define some hatches\n",
    "hatches = ['-', '+', 'x', '\\\\', '*', 'o']\n",
    "\n",
    "# Loop over the bars\n",
    "for i,thisbar in enumerate(ax.patches):\n",
    "    # Set a different hatch for each bar\n",
    "#     thisbar.set_hatch(hatches[i] * 3)\n",
    "    thisbar.set_hatch('\\\\'*4)\n",
    "\n",
    "# add horizontal line at y=4\n",
    "xs = np.linspace(-5, 5)\n",
    "horiz_line_data = np.array([4 for i in range(len(xs))])\n",
    "# move numbers to above bars\n",
    "# for p in ax.patches:\n",
    "#     ax.annotate(format(p.get_height(), '.2f'), (p.get_x() + p.get_width() / 2., p.get_height()), \n",
    "#                 ha = 'center', va = 'center', xytext = (0, 15), textcoords = 'offset points')\n",
    "\n",
    "# plot and save\n",
    "ax.plot(xs, horiz_line_data, 'r--', color='red') \n",
    "plt.tight_layout()\n",
    "plt.savefig('bert-thresh-final.pdf', format='pdf')"
   ]
  },
  {
   "cell_type": "code",
   "execution_count": 13,
   "metadata": {},
   "outputs": [
    {
     "data": {
      "image/png": "[encoded data removed]",
      "text/plain": [
       "<matplotlib.figure.Figure at 0x1a1934b518>"
      ]
     },
     "metadata": {},
     "output_type": "display_data"
    }
   ],
   "source": [
    "# try barh instead of bar\n",
    "# i tink its worse\n",
    "bert_df = s5_df[s5_df['Input.SE_Model'] == 'BERT']\n",
    "ax = bert_df.groupby('Input.SE_Thresh')['label'].mean().plot(kind='barh', color=_c((75, 115, 165, 230.0)))\n",
    "# style graph\n",
    "ax.set_xlim(0.0, 5.0) # This \n",
    "ax.set_xticklabels(use_thresh_graph_yticks)\n",
    "# ax.set_title('Human responses across sentence encoding thresholds')\n",
    "ax.set_ylabel('Minimum Cosine Similarity of BERT Sentence Embeddings')\n",
    "# add horizontal line at y=4\n",
    "ys = np.linspace(-5, 5)\n",
    "verti_line_data = np.array([4 for i in range(len(xs))])\n",
    "# plot and save\n",
    "ax.plot(verti_line_data, ys, 'r--', color='red') \n",
    "plt.tight_layout()\n",
    "plt.savefig('bert-thresh-final-horizontal.pdf', format='pdf')"
   ]
  },
  {
   "cell_type": "code",
   "execution_count": 14,
   "metadata": {},
   "outputs": [
    {
     "data": {
      "text/plain": [
       "(9930, 40)"
      ]
     },
     "execution_count": 14,
     "metadata": {},
     "output_type": "execute_result"
    }
   ],
   "source": [
    "s5_df.shape"
   ]
  },
  {
   "cell_type": "code",
   "execution_count": 15,
   "metadata": {},
   "outputs": [
    {
     "data": {
      "text/plain": [
       "Input.run_type  Input.dataset\n",
       "alzantot        imdb             2.695\n",
       "jin             imdb             3.414\n",
       "                movie_review     3.370\n",
       "                yelp_polarity    3.050\n",
       "Name: label, dtype: float64"
      ]
     },
     "execution_count": 15,
     "metadata": {},
     "output_type": "execute_result"
    }
   ],
   "source": [
    "s4_df.groupby(('Input.run_type', 'Input.dataset'))['label'].mean()"
   ]
  },
  {
   "cell_type": "code",
   "execution_count": 16,
   "metadata": {},
   "outputs": [
    {
     "name": "stderr",
     "output_type": "stream",
     "text": [
      "/anaconda3/lib/python3.6/site-packages/ipykernel_launcher.py:1: UserWarning: Boolean Series key will be reindexed to match DataFrame index.\n",
      "  \"\"\"Entry point for launching an IPython kernel.\n"
     ]
    },
    {
     "data": {
      "text/plain": [
       "Input.dataset\n",
       "imdb              4.055102\n",
       "mr                4.181250\n",
       "yelp-sentiment    3.936842\n",
       "Name: label, dtype: float64"
      ]
     },
     "execution_count": 16,
     "metadata": {},
     "output_type": "execute_result"
    }
   ],
   "source": [
    "bert_df[s5_df['Input.SE_Thresh'] == 0.98].groupby('Input.dataset')['label'].mean()"
   ]
  },
  {
   "cell_type": "code",
   "execution_count": 33,
   "metadata": {},
   "outputs": [
    {
     "name": "stderr",
     "output_type": "stream",
     "text": [
      "/anaconda3/lib/python3.6/site-packages/ipykernel_launcher.py:1: UserWarning: Boolean Series key will be reindexed to match DataFrame index.\n",
      "  \"\"\"Entry point for launching an IPython kernel.\n"
     ]
    },
    {
     "data": {
      "text/plain": [
       "imdb              490\n",
       "mr                320\n",
       "yelp-sentiment    190\n",
       "Name: Input.dataset, dtype: int64"
      ]
     },
     "execution_count": 33,
     "metadata": {},
     "output_type": "execute_result"
    }
   ],
   "source": [
    "bert_df[s5_df['Input.SE_Thresh'] == 0.98]['Input.dataset'].value_counts()"
   ]
  },
  {
   "cell_type": "code",
   "execution_count": null,
   "metadata": {},
   "outputs": [],
   "source": []
  }
 ],
 "metadata": {
  "kernelspec": {
   "display_name": "Python 3",
   "language": "python",
   "name": "python3"
  },
  "language_info": {
   "codemirror_mode": {
    "name": "ipython",
    "version": 3
   },
   "file_extension": ".py",
   "mimetype": "text/x-python",
   "name": "python",
   "nbconvert_exporter": "python",
   "pygments_lexer": "ipython3",
   "version": "3.6.4"
  }
 },
 "nbformat": 4,
 "nbformat_minor": 2
}
