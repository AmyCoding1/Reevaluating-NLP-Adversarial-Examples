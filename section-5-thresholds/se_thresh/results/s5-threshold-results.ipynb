{
 "cells": [
  {
   "cell_type": "code",
   "execution_count": 2,
   "metadata": {},
   "outputs": [],
   "source": [
    "import matplotlib.pyplot as plt\n",
    "import numpy as np\n",
    "import pandas as pd\n",
    "import seaborn as sns\n",
    "sns.set() # Use default plots from seaborn\n",
    "sns.set_style(\"white\", {'axes.grid' : False}) # White background"
   ]
  },
  {
   "cell_type": "code",
   "execution_count": 3,
   "metadata": {},
   "outputs": [
    {
     "name": "stdout",
     "output_type": "stream",
     "text": [
      "(4000, 37)\n",
      "(9930, 39)\n"
     ]
    }
   ],
   "source": [
    "# Read MTurk results into dataframes\n",
    "s4_df = pd.read_csv('section4-original-semantic-labels.csv')\n",
    "print(s4_df.shape) \n",
    "s5_df = pd.read_csv('section5-reproduction-semantic-labels.csv')\n",
    "print(s5_df.shape)"
   ]
  },
  {
   "cell_type": "code",
   "execution_count": 4,
   "metadata": {},
   "outputs": [],
   "source": [
    "# Map responses to numerical values on Likert scale\n",
    "label_map = { 'Strongly Agree': 5, 'Agree': 4, 'Not sure': 3, 'Disagree': 2, 'Strongly Disagree': 1}\n",
    "s4_df['label'] = s4_df['Answer.semantic-similarity.label'].map(lambda s: label_map[s])\n",
    "s5_df['label'] = s5_df['Answer.semantic-similarity.label'].map(lambda s: label_map[s])"
   ]
  },
  {
   "cell_type": "code",
   "execution_count": 5,
   "metadata": {},
   "outputs": [
    {
     "name": "stdout",
     "output_type": "stream",
     "text": [
      "s4 mean: 3.13225\n",
      "s5 mean: 4.025176233635448\n"
     ]
    }
   ],
   "source": [
    "print('s4 mean:', s4_df['label'].mean())\n",
    "print('s5 mean:', s5_df['label'].mean())"
   ]
  },
  {
   "cell_type": "code",
   "execution_count": 6,
   "metadata": {},
   "outputs": [
    {
     "name": "stdout",
     "output_type": "stream",
     "text": [
      "s4.columns: Index(['HITId', 'HITTypeId', 'Title', 'Description', 'Keywords', 'Reward',\n",
      "       'CreationTime', 'MaxAssignments', 'RequesterAnnotation',\n",
      "       'AssignmentDurationInSeconds', 'AutoApprovalDelayInSeconds',\n",
      "       'Expiration', 'NumberOfSimilarHITs', 'LifetimeInSeconds',\n",
      "       'AssignmentId', 'WorkerId', 'AssignmentStatus', 'AcceptTime',\n",
      "       'SubmitTime', 'AutoApprovalTime', 'ApprovalTime', 'RejectionTime',\n",
      "       'RequesterFeedback', 'WorkTimeInSeconds', 'LifetimeApprovalRate',\n",
      "       'Last30DaysApprovalRate', 'Last7DaysApprovalRate',\n",
      "       'Input.USE_similarity', 'Input.dataset', 'Input.original_class',\n",
      "       'Input.text1', 'Input.perturbed_class', 'Input.text2', 'Input.run_type',\n",
      "       'Answer.semantic-similarity.label', 'Approve', 'Reject', 'label'],\n",
      "      dtype='object')\n",
      "s5.columns: Index(['HITId', 'HITTypeId', 'Title', 'Description', 'Keywords', 'Reward',\n",
      "       'CreationTime', 'MaxAssignments', 'RequesterAnnotation',\n",
      "       'AssignmentDurationInSeconds', 'AutoApprovalDelayInSeconds',\n",
      "       'Expiration', 'NumberOfSimilarHITs', 'LifetimeInSeconds',\n",
      "       'AssignmentId', 'WorkerId', 'AssignmentStatus', 'AcceptTime',\n",
      "       'SubmitTime', 'AutoApprovalTime', 'ApprovalTime', 'RejectionTime',\n",
      "       'RequesterFeedback', 'WorkTimeInSeconds', 'LifetimeApprovalRate',\n",
      "       'Last30DaysApprovalRate', 'Last7DaysApprovalRate', 'Input.label_1',\n",
      "       'Input.label_2', 'Input.text1', 'Input.text2', 'Input.score_1',\n",
      "       'Input.score_2', 'Input.SE_Thresh', 'Input.dataset', 'Input.SE_Model',\n",
      "       'Answer.semantic-similarity.label', 'Approve', 'Reject', 'label'],\n",
      "      dtype='object')\n"
     ]
    }
   ],
   "source": [
    "print('s4.columns:', s4_df.columns)\n",
    "print('s5.columns:', s5_df.columns)"
   ]
  },
  {
   "cell_type": "code",
   "execution_count": 7,
   "metadata": {},
   "outputs": [],
   "source": [
    "dataset_name_map = { 'movie_review': 'mr', 'yelp_polarity': 'yelp-sentiment' }\n",
    "s4_df['dataset'] = s4_df['Input.dataset'].map(lambda x: dataset_name_map.get(x,x))"
   ]
  },
  {
   "cell_type": "code",
   "execution_count": 8,
   "metadata": {},
   "outputs": [
    {
     "data": {
      "text/plain": [
       "Text(0.5, 1.0, 'Score increases by dataset')"
      ]
     },
     "execution_count": 8,
     "metadata": {},
     "output_type": "execute_result"
    },
    {
     "data": {
      "image/png": "[encoded data removed]",
      "text/plain": [
       "<Figure size 432x288 with 1 Axes>"
      ]
     },
     "metadata": {},
     "output_type": "display_data"
    }
   ],
   "source": [
    "s4_by_dataset = s4_df.groupby('dataset')['label'].mean().to_frame().rename(columns={ 'label': 'Original Data' })\n",
    "s5_by_dataset = s5_df.groupby('Input.dataset')['label'].mean().to_frame().rename(columns={ 'label': 'Our Data' })\n",
    "\n",
    "ax = pd.concat((s4_by_dataset, s5_by_dataset), axis=1).plot(kind='bar')\n",
    "ax.set_title('Score increases by dataset')"
   ]
  },
  {
   "cell_type": "code",
   "execution_count": 17,
   "metadata": {},
   "outputs": [
    {
     "data": {
      "text/plain": [
       "Index(['HITId', 'HITTypeId', 'Title', 'Description', 'Keywords', 'Reward',\n",
       "       'CreationTime', 'MaxAssignments', 'RequesterAnnotation',\n",
       "       'AssignmentDurationInSeconds', 'AutoApprovalDelayInSeconds',\n",
       "       'Expiration', 'NumberOfSimilarHITs', 'LifetimeInSeconds',\n",
       "       'AssignmentId', 'WorkerId', 'AssignmentStatus', 'AcceptTime',\n",
       "       'SubmitTime', 'AutoApprovalTime', 'ApprovalTime', 'RejectionTime',\n",
       "       'RequesterFeedback', 'WorkTimeInSeconds', 'LifetimeApprovalRate',\n",
       "       'Last30DaysApprovalRate', 'Last7DaysApprovalRate', 'Input.label_1',\n",
       "       'Input.label_2', 'Input.text1', 'Input.text2', 'Input.score_1',\n",
       "       'Input.score_2', 'Input.SE_Thresh', 'Input.dataset', 'Input.SE_Model',\n",
       "       'Answer.semantic-similarity.label', 'Approve', 'Reject', 'label'],\n",
       "      dtype='object')"
      ]
     },
     "execution_count": 17,
     "metadata": {},
     "output_type": "execute_result"
    }
   ],
   "source": [
    "s5_df.columns"
   ]
  },
  {
   "cell_type": "code",
   "execution_count": 18,
   "metadata": {},
   "outputs": [
    {
     "data": {
      "image/png": "[encoded data removed]",
      "text/plain": [
       "<Figure size 432x288 with 1 Axes>"
      ]
     },
     "metadata": {},
     "output_type": "display_data"
    }
   ],
   "source": [
    "ax = s5_df.groupby(['Input.SE_Thresh', 'Input.SE_Model'])['label'].mean().unstack(level=-1).plot(kind='bar')\n",
    "patches, labels = ax.get_legend_handles_labels()\n",
    "ax.legend(patches, labels, loc='lower right')\n",
    "# add horizontal line at y=4\n",
    "xs = np.linspace(-5, 5)\n",
    "horiz_line_data = np.array([4 for i in range(len(xs))])\n",
    "ax.plot(xs, horiz_line_data, 'r--') \n",
    "\n",
    "plt.savefig('use-thresh-bert-and-use', format='pdf')"
   ]
  },
  {
   "cell_type": "code",
   "execution_count": 11,
   "metadata": {},
   "outputs": [],
   "source": [
    "def _c(t):\n",
    "    \"\"\" converts RGB tuple to a color format matplotlib understands \"\"\"\n",
    "    if len(t) == 3: #add opacity\n",
    "        t = t + (255.0,)\n",
    "    return [tuple((x/255. for x in t),)]"
   ]
  },
  {
   "cell_type": "code",
   "execution_count": 12,
   "metadata": {},
   "outputs": [],
   "source": [
    "# original: get_ticks returns = [1.  1.5 2.  2.5 3.  3.5 4.  4.5 5. ]\n",
    "use_thresh_graph_yticks = ['', '1 - Strongly Disagree', '2 - Disagree', '3 - Not Sure', '4 - Agree', '5 - Strongly Agree']"
   ]
  },
  {
   "cell_type": "code",
   "execution_count": 13,
   "metadata": {},
   "outputs": [
    {
     "data": {
      "image/png": "[encoded data removed]",
      "text/plain": [
       "<Figure size 432x288 with 1 Axes>"
      ]
     },
     "metadata": {},
     "output_type": "display_data"
    }
   ],
   "source": [
    "# fonts\n",
    "sns.set_context(\"notebook\", font_scale=1.2, rc={\"lines.linewidth\": 2.5})\n",
    "\n",
    "# make graph\n",
    "bert_df = s5_df[s5_df['Input.SE_Model'] == 'BERT']\n",
    "ax = bert_df.groupby('Input.SE_Thresh')['label'].mean().plot(kind='bar', color=_c((75,115,164,230.)), \n",
    "                            edgecolor='black', linewidth=1.) \n",
    "\n",
    "#color=_c((75, 115, 165, 230.0)#\n",
    "#sns.color_palette(\"cubehelix\")\n",
    "# ax = bert_df.groupby('Input.SE_Thresh')['label'].mean().plot(kind='bar'), palette=\"Blues_d\")\n",
    "\n",
    "# style graph\n",
    "ax.set_ylim(0.0, 5.0) # This \n",
    "ax.set_yticklabels(use_thresh_graph_yticks)\n",
    "# ax.set_title('Human responses across sentence encoding thresholds')\n",
    "ax.set_xlabel('Minimum Cosine Similarity of BERT Sentence Embeddings')\n",
    "\n",
    "# rotate x axis labels\n",
    "# ax.set_xticklabels(ax.get_xticklabels()z, rotation=0, ha='right')\n",
    "\n",
    "# add hatches\n",
    "# Define some hatches\n",
    "hatches = ['-', '+', 'x', '\\\\', '*', 'o']\n",
    "\n",
    "# Loop over the bars\n",
    "for i,thisbar in enumerate(ax.patches):\n",
    "    # Set a different hatch for each bar\n",
    "#     thisbar.set_hatch(hatches[i] * 3)\n",
    "    thisbar.set_hatch('\\\\'*4)\n",
    "\n",
    "# add horizontal line at y=4\n",
    "xs = np.linspace(-5, 5)\n",
    "horiz_line_data = np.array([4 for i in range(len(xs))])\n",
    "# move numbers to above bars\n",
    "# for p in ax.patches:\n",
    "#     ax.annotate(format(p.get_height(), '.2f'), (p.get_x() + p.get_width() / 2., p.get_height()), \n",
    "#                 ha = 'center', va = 'center', xytext = (0, 15), textcoords = 'offset points')\n",
    "\n",
    "# plot and save\n",
    "ax.plot(xs, horiz_line_data, 'r--', color='red') \n",
    "plt.tight_layout()\n",
    "plt.savefig('bert-thresh-final.pdf', format='pdf')"
   ]
  },
  {
   "cell_type": "code",
   "execution_count": 14,
   "metadata": {},
   "outputs": [
    {
     "data": {
      "image/png": "[encoded data removed]",
      "text/plain": [
       "<Figure size 432x288 with 1 Axes>"
      ]
     },
     "metadata": {},
     "output_type": "display_data"
    }
   ],
   "source": [
    "# try barh instead of bar\n",
    "# i tink its worse\n",
    "bert_df = s5_df[s5_df['Input.SE_Model'] == 'BERT']\n",
    "ax = bert_df.groupby('Input.SE_Thresh')['label'].mean().plot(kind='barh', color=_c((75, 115, 165, 230.0)))\n",
    "# style graph\n",
    "ax.set_xlim(0.0, 5.0) # This \n",
    "ax.set_xticklabels(use_thresh_graph_yticks)\n",
    "# ax.set_title('Human responses across sentence encoding thresholds')\n",
    "ax.set_ylabel('Minimum Cosine Similarity of BERT Sentence Embeddings')\n",
    "# add horizontal line at y=4\n",
    "ys = np.linspace(-5, 5)\n",
    "verti_line_data = np.array([4 for i in range(len(xs))])\n",
    "# plot and save\n",
    "ax.plot(verti_line_data, ys, 'r--', color='red') \n",
    "plt.tight_layout()\n",
    "plt.savefig('bert-thresh-final-horizontal.pdf', format='pdf')"
   ]
  },
  {
   "cell_type": "code",
   "execution_count": null,
   "metadata": {},
   "outputs": [],
   "source": []
  },
  {
   "cell_type": "code",
   "execution_count": 15,
   "metadata": {},
   "outputs": [
    {
     "data": {
      "text/plain": [
       "(9930, 40)"
      ]
     },
     "execution_count": 15,
     "metadata": {},
     "output_type": "execute_result"
    }
   ],
   "source": [
    "s5_df.shape"
   ]
  },
  {
   "cell_type": "code",
   "execution_count": 20,
   "metadata": {},
   "outputs": [
    {
     "data": {
      "text/plain": [
       "Input.run_type  Input.dataset\n",
       "alzantot        imdb             2.695\n",
       "jin             imdb             3.414\n",
       "                movie_review     3.370\n",
       "                yelp_polarity    3.050\n",
       "Name: label, dtype: float64"
      ]
     },
     "execution_count": 20,
     "metadata": {},
     "output_type": "execute_result"
    }
   ],
   "source": [
    "s4_df.groupby(['Input.run_type', 'Input.dataset'])['label'].mean()"
   ]
  },
  {
   "cell_type": "code",
   "execution_count": 21,
   "metadata": {},
   "outputs": [
    {
     "name": "stderr",
     "output_type": "stream",
     "text": [
      "/u/edl9cy/.conda/envs/text-attack/lib/python3.7/site-packages/ipykernel_launcher.py:1: UserWarning: Boolean Series key will be reindexed to match DataFrame index.\n",
      "  \"\"\"Entry point for launching an IPython kernel.\n"
     ]
    },
    {
     "data": {
      "text/plain": [
       "Input.dataset\n",
       "imdb              4.055102\n",
       "mr                4.181250\n",
       "yelp-sentiment    3.936842\n",
       "Name: label, dtype: float64"
      ]
     },
     "execution_count": 21,
     "metadata": {},
     "output_type": "execute_result"
    }
   ],
   "source": [
    "bert_df[s5_df['Input.SE_Thresh'] == 0.98].groupby('Input.dataset')['label'].mean()"
   ]
  },
  {
   "cell_type": "code",
   "execution_count": 22,
   "metadata": {},
   "outputs": [
    {
     "name": "stderr",
     "output_type": "stream",
     "text": [
      "/u/edl9cy/.conda/envs/text-attack/lib/python3.7/site-packages/ipykernel_launcher.py:1: UserWarning: Boolean Series key will be reindexed to match DataFrame index.\n",
      "  \"\"\"Entry point for launching an IPython kernel.\n"
     ]
    },
    {
     "data": {
      "text/plain": [
       "imdb              490\n",
       "mr                320\n",
       "yelp-sentiment    190\n",
       "Name: Input.dataset, dtype: int64"
      ]
     },
     "execution_count": 22,
     "metadata": {},
     "output_type": "execute_result"
    }
   ],
   "source": [
    "bert_df[s5_df['Input.SE_Thresh'] == 0.98]['Input.dataset'].value_counts()"
   ]
  },
  {
   "cell_type": "code",
   "execution_count": 23,
   "metadata": {},
   "outputs": [
    {
     "name": "stderr",
     "output_type": "stream",
     "text": [
      "/u/edl9cy/.conda/envs/text-attack/lib/python3.7/site-packages/ipykernel_launcher.py:1: UserWarning: Boolean Series key will be reindexed to match DataFrame index.\n",
      "  \"\"\"Entry point for launching an IPython kernel.\n"
     ]
    }
   ],
   "source": [
    "chosen_df = bert_df[s5_df['Input.SE_Thresh'] == 0.98]"
   ]
  },
  {
   "cell_type": "code",
   "execution_count": 24,
   "metadata": {},
   "outputs": [
    {
     "data": {
      "text/html": [
       "<div>\n",
       "<style scoped>\n",
       "    .dataframe tbody tr th:only-of-type {\n",
       "        vertical-align: middle;\n",
       "    }\n",
       "\n",
       "    .dataframe tbody tr th {\n",
       "        vertical-align: top;\n",
       "    }\n",
       "\n",
       "    .dataframe thead th {\n",
       "        text-align: right;\n",
       "    }\n",
       "</style>\n",
       "<table border=\"1\" class=\"dataframe\">\n",
       "  <thead>\n",
       "    <tr style=\"text-align: right;\">\n",
       "      <th></th>\n",
       "      <th>HITId</th>\n",
       "      <th>HITTypeId</th>\n",
       "      <th>Title</th>\n",
       "      <th>Description</th>\n",
       "      <th>Keywords</th>\n",
       "      <th>Reward</th>\n",
       "      <th>CreationTime</th>\n",
       "      <th>MaxAssignments</th>\n",
       "      <th>RequesterAnnotation</th>\n",
       "      <th>AssignmentDurationInSeconds</th>\n",
       "      <th>...</th>\n",
       "      <th>Input.text2</th>\n",
       "      <th>Input.score_1</th>\n",
       "      <th>Input.score_2</th>\n",
       "      <th>Input.SE_Thresh</th>\n",
       "      <th>Input.dataset</th>\n",
       "      <th>Input.SE_Model</th>\n",
       "      <th>Answer.semantic-similarity.label</th>\n",
       "      <th>Approve</th>\n",
       "      <th>Reject</th>\n",
       "      <th>label</th>\n",
       "    </tr>\n",
       "  </thead>\n",
       "  <tbody>\n",
       "    <tr>\n",
       "      <th>70</th>\n",
       "      <td>3EGKVCRQFWS23NN92F565L9F66DYBG</td>\n",
       "      <td>3I7X2GF4HITNMQNSI4TO4GC73O3RHH</td>\n",
       "      <td>Does changing from text1 to text2 preserve mea...</td>\n",
       "      <td>Compare two short pieces of English text and d...</td>\n",
       "      <td>meaning, semantic, similarity, text</td>\n",
       "      <td>$0.05</td>\n",
       "      <td>Sat Dec 07 14:31:39 PST 2019</td>\n",
       "      <td>10</td>\n",
       "      <td>BatchId:3862237;OriginalHitTemplateId:928390905;</td>\n",
       "      <td>180</td>\n",
       "      <td>...</td>\n",
       "      <td>When I began watching The Muppets Take Manhatt...</td>\n",
       "      <td>0.921641</td>\n",
       "      <td>0.705677</td>\n",
       "      <td>0.98</td>\n",
       "      <td>imdb</td>\n",
       "      <td>BERT</td>\n",
       "      <td>Not sure</td>\n",
       "      <td>NaN</td>\n",
       "      <td>NaN</td>\n",
       "      <td>3</td>\n",
       "    </tr>\n",
       "    <tr>\n",
       "      <th>71</th>\n",
       "      <td>3EGKVCRQFWS23NN92F565L9F66DYBG</td>\n",
       "      <td>3I7X2GF4HITNMQNSI4TO4GC73O3RHH</td>\n",
       "      <td>Does changing from text1 to text2 preserve mea...</td>\n",
       "      <td>Compare two short pieces of English text and d...</td>\n",
       "      <td>meaning, semantic, similarity, text</td>\n",
       "      <td>$0.05</td>\n",
       "      <td>Sat Dec 07 14:31:39 PST 2019</td>\n",
       "      <td>10</td>\n",
       "      <td>BatchId:3862237;OriginalHitTemplateId:928390905;</td>\n",
       "      <td>180</td>\n",
       "      <td>...</td>\n",
       "      <td>When I began watching The Muppets Take Manhatt...</td>\n",
       "      <td>0.921641</td>\n",
       "      <td>0.705677</td>\n",
       "      <td>0.98</td>\n",
       "      <td>imdb</td>\n",
       "      <td>BERT</td>\n",
       "      <td>Agree</td>\n",
       "      <td>NaN</td>\n",
       "      <td>NaN</td>\n",
       "      <td>4</td>\n",
       "    </tr>\n",
       "    <tr>\n",
       "      <th>72</th>\n",
       "      <td>3EGKVCRQFWS23NN92F565L9F66DYBG</td>\n",
       "      <td>3I7X2GF4HITNMQNSI4TO4GC73O3RHH</td>\n",
       "      <td>Does changing from text1 to text2 preserve mea...</td>\n",
       "      <td>Compare two short pieces of English text and d...</td>\n",
       "      <td>meaning, semantic, similarity, text</td>\n",
       "      <td>$0.05</td>\n",
       "      <td>Sat Dec 07 14:31:39 PST 2019</td>\n",
       "      <td>10</td>\n",
       "      <td>BatchId:3862237;OriginalHitTemplateId:928390905;</td>\n",
       "      <td>180</td>\n",
       "      <td>...</td>\n",
       "      <td>When I began watching The Muppets Take Manhatt...</td>\n",
       "      <td>0.921641</td>\n",
       "      <td>0.705677</td>\n",
       "      <td>0.98</td>\n",
       "      <td>imdb</td>\n",
       "      <td>BERT</td>\n",
       "      <td>Strongly Agree</td>\n",
       "      <td>NaN</td>\n",
       "      <td>NaN</td>\n",
       "      <td>5</td>\n",
       "    </tr>\n",
       "    <tr>\n",
       "      <th>73</th>\n",
       "      <td>3EGKVCRQFWS23NN92F565L9F66DYBG</td>\n",
       "      <td>3I7X2GF4HITNMQNSI4TO4GC73O3RHH</td>\n",
       "      <td>Does changing from text1 to text2 preserve mea...</td>\n",
       "      <td>Compare two short pieces of English text and d...</td>\n",
       "      <td>meaning, semantic, similarity, text</td>\n",
       "      <td>$0.05</td>\n",
       "      <td>Sat Dec 07 14:31:39 PST 2019</td>\n",
       "      <td>10</td>\n",
       "      <td>BatchId:3862237;OriginalHitTemplateId:928390905;</td>\n",
       "      <td>180</td>\n",
       "      <td>...</td>\n",
       "      <td>When I began watching The Muppets Take Manhatt...</td>\n",
       "      <td>0.921641</td>\n",
       "      <td>0.705677</td>\n",
       "      <td>0.98</td>\n",
       "      <td>imdb</td>\n",
       "      <td>BERT</td>\n",
       "      <td>Agree</td>\n",
       "      <td>NaN</td>\n",
       "      <td>NaN</td>\n",
       "      <td>4</td>\n",
       "    </tr>\n",
       "    <tr>\n",
       "      <th>74</th>\n",
       "      <td>3EGKVCRQFWS23NN92F565L9F66DYBG</td>\n",
       "      <td>3I7X2GF4HITNMQNSI4TO4GC73O3RHH</td>\n",
       "      <td>Does changing from text1 to text2 preserve mea...</td>\n",
       "      <td>Compare two short pieces of English text and d...</td>\n",
       "      <td>meaning, semantic, similarity, text</td>\n",
       "      <td>$0.05</td>\n",
       "      <td>Sat Dec 07 14:31:39 PST 2019</td>\n",
       "      <td>10</td>\n",
       "      <td>BatchId:3862237;OriginalHitTemplateId:928390905;</td>\n",
       "      <td>180</td>\n",
       "      <td>...</td>\n",
       "      <td>When I began watching The Muppets Take Manhatt...</td>\n",
       "      <td>0.921641</td>\n",
       "      <td>0.705677</td>\n",
       "      <td>0.98</td>\n",
       "      <td>imdb</td>\n",
       "      <td>BERT</td>\n",
       "      <td>Agree</td>\n",
       "      <td>NaN</td>\n",
       "      <td>NaN</td>\n",
       "      <td>4</td>\n",
       "    </tr>\n",
       "  </tbody>\n",
       "</table>\n",
       "<p>5 rows × 40 columns</p>\n",
       "</div>"
      ],
      "text/plain": [
       "                             HITId                       HITTypeId  \\\n",
       "70  3EGKVCRQFWS23NN92F565L9F66DYBG  3I7X2GF4HITNMQNSI4TO4GC73O3RHH   \n",
       "71  3EGKVCRQFWS23NN92F565L9F66DYBG  3I7X2GF4HITNMQNSI4TO4GC73O3RHH   \n",
       "72  3EGKVCRQFWS23NN92F565L9F66DYBG  3I7X2GF4HITNMQNSI4TO4GC73O3RHH   \n",
       "73  3EGKVCRQFWS23NN92F565L9F66DYBG  3I7X2GF4HITNMQNSI4TO4GC73O3RHH   \n",
       "74  3EGKVCRQFWS23NN92F565L9F66DYBG  3I7X2GF4HITNMQNSI4TO4GC73O3RHH   \n",
       "\n",
       "                                                Title  \\\n",
       "70  Does changing from text1 to text2 preserve mea...   \n",
       "71  Does changing from text1 to text2 preserve mea...   \n",
       "72  Does changing from text1 to text2 preserve mea...   \n",
       "73  Does changing from text1 to text2 preserve mea...   \n",
       "74  Does changing from text1 to text2 preserve mea...   \n",
       "\n",
       "                                          Description  \\\n",
       "70  Compare two short pieces of English text and d...   \n",
       "71  Compare two short pieces of English text and d...   \n",
       "72  Compare two short pieces of English text and d...   \n",
       "73  Compare two short pieces of English text and d...   \n",
       "74  Compare two short pieces of English text and d...   \n",
       "\n",
       "                               Keywords Reward                  CreationTime  \\\n",
       "70  meaning, semantic, similarity, text  $0.05  Sat Dec 07 14:31:39 PST 2019   \n",
       "71  meaning, semantic, similarity, text  $0.05  Sat Dec 07 14:31:39 PST 2019   \n",
       "72  meaning, semantic, similarity, text  $0.05  Sat Dec 07 14:31:39 PST 2019   \n",
       "73  meaning, semantic, similarity, text  $0.05  Sat Dec 07 14:31:39 PST 2019   \n",
       "74  meaning, semantic, similarity, text  $0.05  Sat Dec 07 14:31:39 PST 2019   \n",
       "\n",
       "    MaxAssignments                               RequesterAnnotation  \\\n",
       "70              10  BatchId:3862237;OriginalHitTemplateId:928390905;   \n",
       "71              10  BatchId:3862237;OriginalHitTemplateId:928390905;   \n",
       "72              10  BatchId:3862237;OriginalHitTemplateId:928390905;   \n",
       "73              10  BatchId:3862237;OriginalHitTemplateId:928390905;   \n",
       "74              10  BatchId:3862237;OriginalHitTemplateId:928390905;   \n",
       "\n",
       "    AssignmentDurationInSeconds  ...  \\\n",
       "70                          180  ...   \n",
       "71                          180  ...   \n",
       "72                          180  ...   \n",
       "73                          180  ...   \n",
       "74                          180  ...   \n",
       "\n",
       "                                          Input.text2 Input.score_1  \\\n",
       "70  When I began watching The Muppets Take Manhatt...      0.921641   \n",
       "71  When I began watching The Muppets Take Manhatt...      0.921641   \n",
       "72  When I began watching The Muppets Take Manhatt...      0.921641   \n",
       "73  When I began watching The Muppets Take Manhatt...      0.921641   \n",
       "74  When I began watching The Muppets Take Manhatt...      0.921641   \n",
       "\n",
       "    Input.score_2  Input.SE_Thresh Input.dataset Input.SE_Model  \\\n",
       "70       0.705677             0.98          imdb           BERT   \n",
       "71       0.705677             0.98          imdb           BERT   \n",
       "72       0.705677             0.98          imdb           BERT   \n",
       "73       0.705677             0.98          imdb           BERT   \n",
       "74       0.705677             0.98          imdb           BERT   \n",
       "\n",
       "   Answer.semantic-similarity.label Approve Reject label  \n",
       "70                         Not sure     NaN    NaN     3  \n",
       "71                            Agree     NaN    NaN     4  \n",
       "72                   Strongly Agree     NaN    NaN     5  \n",
       "73                            Agree     NaN    NaN     4  \n",
       "74                            Agree     NaN    NaN     4  \n",
       "\n",
       "[5 rows x 40 columns]"
      ]
     },
     "execution_count": 24,
     "metadata": {},
     "output_type": "execute_result"
    }
   ],
   "source": [
    "chosen_df.head()"
   ]
  },
  {
   "cell_type": "code",
   "execution_count": 25,
   "metadata": {},
   "outputs": [
    {
     "data": {
      "text/plain": [
       "<pandas.core.groupby.generic.DataFrameGroupBy object at 0x7f6ba07dc090>"
      ]
     },
     "execution_count": 25,
     "metadata": {},
     "output_type": "execute_result"
    }
   ],
   "source": [
    "chosen_df.groupby('Input.text2')"
   ]
  },
  {
   "cell_type": "code",
   "execution_count": 26,
   "metadata": {},
   "outputs": [
    {
     "data": {
      "text/html": [
       "<div>\n",
       "<style scoped>\n",
       "    .dataframe tbody tr th:only-of-type {\n",
       "        vertical-align: middle;\n",
       "    }\n",
       "\n",
       "    .dataframe tbody tr th {\n",
       "        vertical-align: top;\n",
       "    }\n",
       "\n",
       "    .dataframe thead th {\n",
       "        text-align: right;\n",
       "    }\n",
       "</style>\n",
       "<table border=\"1\" class=\"dataframe\">\n",
       "  <thead>\n",
       "    <tr style=\"text-align: right;\">\n",
       "      <th></th>\n",
       "      <th>min</th>\n",
       "      <th>max</th>\n",
       "      <th>std</th>\n",
       "      <th>count</th>\n",
       "      <th>nunique</th>\n",
       "      <th>&lt;lambda_0&gt;</th>\n",
       "    </tr>\n",
       "    <tr>\n",
       "      <th>Input.text2</th>\n",
       "      <th></th>\n",
       "      <th></th>\n",
       "      <th></th>\n",
       "      <th></th>\n",
       "      <th></th>\n",
       "      <th></th>\n",
       "    </tr>\n",
       "  </thead>\n",
       "  <tbody>\n",
       "    <tr>\n",
       "      <th>\"Home Room\" like \"Zero Day\" and \"Elephant\", was inspired by the recent wave of school shootings. But unlike the other two films, \"Home Room\" focuses on two survivors (not the shooters or those killed) in the aftermath of a shooting. Making it less exploitive and more useful because little effort is wasted in asking questions for which there are no answers. Don't give up on this little film during the first 20 minutes, it is supposed to set up the real story but plays like a rejected \"Hill Street Blues\" episode. It is lame but bear with it, at least it pads the running length enough to get the film classified as a feature. I recommended skipping this entirely and just jumping ahead to the hospital scenes-there is nothing here that you can't pick up from the remainder of the film. Like a lot of good little films this was creatively a one-man show as Paul F. Ryan was both the writer and the director. While this arrangement does not guarantee a good film, it is usually a good sign because it will mean a certain unity of construction and execution that is often lacking in big budget dramatic features. Because the script of \"Home Room\" is its real strength it is fortunate that the writer also executed the production and insured that his vision made it onto the screen. Ryan takes a huge chance with the ending which tests the limits of the average viewer's sentimentality tolerance. He runs it right up to the edge but against all logic leaves you crying instead of cringing. Why the ending works is some combination of the audience need for a reward at the end of this kind of journey, the song (Sarah McLaughlin's \"Sweet Surrender\") he goes out on, and the amazing editing of the final minute. The other strength of the film is the casting of Busy Phillips (Alicia) and Erika Christensen (Deanna) as the main protagonists. Although Phillips plays her standard alienated surly teen and Christensen her intelligent daughter of a good family, they both bring more intensity to their roles than ever before. The family life of both girls is more than satisfactory and of little interest to Ryan. What is happening here is all about the two of them despite a lame side story about a police detective wondering around town trying to tie Alicia to the lone shooter. If they ever re-cut and trim the film this side story should be condensed. A story about two extremely disparate girls bonding and helping each other is hardly a novel idea and Ryan could have easily steered this film into clich and predictability. But instead his script has them engaging in a fascinating and convincing sparring match, slowly chipping away at each other and sharing moments of vulnerability, only to retreat back inside themselves. Deanna's \"I'm dying inside\" line just tears you apart-I can't think of a moment in any other film that I felt as intensely as that one. She desperately needs a connection that Alicia just as desperately resists. Deanna only makes progress when she retreats. The viewer keeps expecting the group hug that never seems to happen. Ultimately this not only generates a lot of suspense but leaves you admiring both characters and the two actresses who brought them to life. Then again, what do I know? I'm only a child.</th>\n",
       "      <td>2</td>\n",
       "      <td>5</td>\n",
       "      <td>1.080123</td>\n",
       "      <td>10</td>\n",
       "      <td>3</td>\n",
       "      <td>5</td>\n",
       "    </tr>\n",
       "    <tr>\n",
       "      <th>. . . the photo's cleverness is paradoxically muted by the very people who are intended to make it shine .</th>\n",
       "      <td>3</td>\n",
       "      <td>5</td>\n",
       "      <td>0.823273</td>\n",
       "      <td>10</td>\n",
       "      <td>3</td>\n",
       "      <td>5</td>\n",
       "    </tr>\n",
       "    <tr>\n",
       "      <th>...not that all Disney films are garbage. Anyway, I saw \"Legend of Boggy Creek\" first and absolutely loved the film. When I heard it had 2 sequels, I was ecstatic. I finally discovered a copy of this and watched it one night. I don't see how they can make a G-rated sequel to a horror films. The original is a film/documentary about the Fauke Monster, and can scare anyone. \"Returned\" is for children and should not be watched by anyone. I don't remember the plot too well, as it's been quite some time since I watched it and I will not watch it again, but... It's about these hunters come to town and they go searching to kill Bigfoot. Three little child sneek out of the homes to stop them. A big monsoon happens through. The hunters got hurt, are rescued by the kids. Then they all hide out in a boat with a big piece of tarp on top and try to wait out the storm. Then all of a sudden, Bigfoot comes and does something really sick. I don't wanna ruin the ending for any of yas, but it's not scary. Well....</th>\n",
       "      <td>3</td>\n",
       "      <td>5</td>\n",
       "      <td>0.699206</td>\n",
       "      <td>10</td>\n",
       "      <td>3</td>\n",
       "      <td>5</td>\n",
       "    </tr>\n",
       "    <tr>\n",
       "      <th>A great opportunity for and Indy director to make an interesting films about a rock musician on the brink of stardom. It could have been a decent film if it would have dealt with John Livien's traumatic past and how it is torturing his psyche. Instead, it is a ridiculous try to identify John Livien's life with John Lennon's. John Livien's suicida mother's hero was John Lennon and she wished for him to become as powerful and prolific as Lennon himself. Instead of focusing on John Lennon's musical brilliance, and his wonderful ability to bare himself for others to learn something about their own life, it showed Lennon's legacy to be that of a confused, drug addicted soul, who should looked upon as a God instead a man. I am a huge John Lennon fan and this movie reminding me of another \"crazy\" person obsessed with Lennon, Lennon's killer , Mark David Chapman. Lennon was a man who was brutally murdered by someone else who had an identity crisis with Lennon. Do we need to be reminded of that? John Lennon gave so much to the world with his music and honesty and I was repulsed to see another disturbed person, as the main character in this movie obsessed by Lennon, and not show his beautiful contributions to the world. Yoko Ono graciously honored John Lennon's memory,by making the memorial in Central Park to give his fans a chance to pay their respects, and remember John. Instead the director of this movie chose to use that site to have the killer attempt to commit suicide. I found this so disturbing and disrespectful to Lennon's memory. He was a man of peace who died a brutal senseless death, and to see such violence near this site felt like a revisiting a terrible wound for any Lennon fan. It ruined the movie completely for me . It could have been a decent movie, but it left me with a bitter taste in my mouth. Let John Lennon, and his family rest in peace and not be reminded of his vicious murder by this irresponsible movie.</th>\n",
       "      <td>2</td>\n",
       "      <td>5</td>\n",
       "      <td>0.966092</td>\n",
       "      <td>10</td>\n",
       "      <td>3</td>\n",
       "      <td>5</td>\n",
       "    </tr>\n",
       "    <tr>\n",
       "      <th>ALRIGHT, so check this out. I know I ha been long dormant with the Yelp reviews (bad daughter, BAD GIRLS!), so to make it up to ya'll, I am now embarking on a casino-by-casino tour of my newest hometown of LV, NV, and will include reviews of each as I tour them. Now, these will not include room stays, but just schlepping around the premises - eating, drinking, and checking out anything that moves or doesn't move. Got it? ALRIGHT, letting's proceed... Revisited #21: walk in this small place (which is wedged between Harrah's and the Venetian), and you will forget you are on the fabulous La Vegas Strip, and you'll shortly think you are at a divey off-strip casino that hasn't changed it's d\\u00e9cor in 40 years; this place is a real hole, and a total anachronism; I'm sure some people adores cheap &amp; smokey retro joints like this, but I said it's time to nuke it!; attached to the luxurious Best Western, whose lobby looks like, well, an ancient Best Western; the \"store\" is cheezy &amp; cheap Vegas crap; there are supposedly $1 Michelob bottles at the bar, but somehow I resisted; and the top-shelf steakhouse here is...wait for it...The Outback!; best craft beer listings = check this out, I actually saw the following 4-tap draft beer line-up - Bud, Bud Light, Coors Light, Miller Lite; luckily just then, a wormhole opened up in the fabric of the universe and I escaped out onto The Strip, never to return!</th>\n",
       "      <td>1</td>\n",
       "      <td>5</td>\n",
       "      <td>1.178511</td>\n",
       "      <td>10</td>\n",
       "      <td>5</td>\n",
       "      <td>4</td>\n",
       "    </tr>\n",
       "    <tr>\n",
       "      <th>...</th>\n",
       "      <td>...</td>\n",
       "      <td>...</td>\n",
       "      <td>...</td>\n",
       "      <td>...</td>\n",
       "      <td>...</td>\n",
       "      <td>...</td>\n",
       "    </tr>\n",
       "    <tr>\n",
       "      <th>there are touching moments in etoiles , but for the most portions this is a dull , dour documentary on what should to be a joyful or at least riveting subject .</th>\n",
       "      <td>1</td>\n",
       "      <td>5</td>\n",
       "      <td>1.229273</td>\n",
       "      <td>10</td>\n",
       "      <td>3</td>\n",
       "      <td>5</td>\n",
       "    </tr>\n",
       "    <tr>\n",
       "      <th>there's a solid woman- finding-herself story somewhere in here , but you'd have to dig quite deep to uncover it .</th>\n",
       "      <td>3</td>\n",
       "      <td>5</td>\n",
       "      <td>0.632456</td>\n",
       "      <td>10</td>\n",
       "      <td>2</td>\n",
       "      <td>5</td>\n",
       "    </tr>\n",
       "    <tr>\n",
       "      <th>this hideously earnest inversion of the concubine love triangle eschews the previous film's historical panorama and roiling pathos for bug-eyed mugging and gay-niche condescension .</th>\n",
       "      <td>1</td>\n",
       "      <td>5</td>\n",
       "      <td>1.197219</td>\n",
       "      <td>10</td>\n",
       "      <td>3</td>\n",
       "      <td>4</td>\n",
       "    </tr>\n",
       "    <tr>\n",
       "      <th>too clumsy in essential moments . . . to make a big splash .</th>\n",
       "      <td>3</td>\n",
       "      <td>5</td>\n",
       "      <td>0.674949</td>\n",
       "      <td>10</td>\n",
       "      <td>3</td>\n",
       "      <td>5</td>\n",
       "    </tr>\n",
       "    <tr>\n",
       "      <th>when it's all wet , blue crush is highly enjoyable . when it's on dry land , although , this surfer-girl melodrama commence gasping like a beached grouper .</th>\n",
       "      <td>3</td>\n",
       "      <td>5</td>\n",
       "      <td>0.699206</td>\n",
       "      <td>10</td>\n",
       "      <td>3</td>\n",
       "      <td>5</td>\n",
       "    </tr>\n",
       "  </tbody>\n",
       "</table>\n",
       "<p>100 rows × 6 columns</p>\n",
       "</div>"
      ],
      "text/plain": [
       "                                                    min  max       std  count  \\\n",
       "Input.text2                                                                     \n",
       "\"Home Room\" like \"Zero Day\" and \"Elephant\", was...    2    5  1.080123     10   \n",
       ". . . the photo's cleverness is paradoxically m...    3    5  0.823273     10   \n",
       "...not that all Disney films are garbage. Anywa...    3    5  0.699206     10   \n",
       "A great opportunity for and Indy director to ma...    2    5  0.966092     10   \n",
       "ALRIGHT, so check this out. I know I ha been lo...    1    5  1.178511     10   \n",
       "...                                                 ...  ...       ...    ...   \n",
       "there are touching moments in etoiles , but for...    1    5  1.229273     10   \n",
       "there's a solid woman- finding-herself story so...    3    5  0.632456     10   \n",
       "this hideously earnest inversion of the concubi...    1    5  1.197219     10   \n",
       "too clumsy in essential moments . . . to make a...    3    5  0.674949     10   \n",
       "when it's all wet , blue crush is highly enjoya...    3    5  0.699206     10   \n",
       "\n",
       "                                                    nunique  <lambda_0>  \n",
       "Input.text2                                                              \n",
       "\"Home Room\" like \"Zero Day\" and \"Elephant\", was...        3           5  \n",
       ". . . the photo's cleverness is paradoxically m...        3           5  \n",
       "...not that all Disney films are garbage. Anywa...        3           5  \n",
       "A great opportunity for and Indy director to ma...        3           5  \n",
       "ALRIGHT, so check this out. I know I ha been lo...        5           4  \n",
       "...                                                     ...         ...  \n",
       "there are touching moments in etoiles , but for...        3           5  \n",
       "there's a solid woman- finding-herself story so...        2           5  \n",
       "this hideously earnest inversion of the concubi...        3           4  \n",
       "too clumsy in essential moments . . . to make a...        3           5  \n",
       "when it's all wet , blue crush is highly enjoya...        3           5  \n",
       "\n",
       "[100 rows x 6 columns]"
      ]
     },
     "execution_count": 26,
     "metadata": {},
     "output_type": "execute_result"
    }
   ],
   "source": [
    "chosen_df.groupby('Input.text2')['label'].agg(['min', 'max', 'std', 'count', 'nunique', lambda x: x.value_counts().index[0]])"
   ]
  },
  {
   "cell_type": "code",
   "execution_count": 27,
   "metadata": {},
   "outputs": [
    {
     "data": {
      "text/plain": [
       "Input.text2\n",
       "OK letting's got right to the point. We have five recent colleges grads (must have majored in the F word) going out on a weekends camping trip. They run into somebody who is in needed of helped, but instead of attempting to assists him, they deciding to set him on fire instead. Nice bunch of people. Next some of them start go get sick - must be something in the water at the cabin they are staying at. However the neighbors seem to be OK. Oh well, when things starting getting really bad, they lock up one their companions instead of getting helped (attempts the neighbors by the way). Some locals don't take a liking to them. They chasing one on a high speed romp through the woods for many miles, until the truck breaks down. Somehow ten minutes later he shows up at the cabin (how he could find it and how he could journey at the speed of light to get there is a mystery). Another of the brain surgeon types at the cabin realizes something is amiss so he hides out in a cave to let this blow over. He then decides the next day to return to the cabin believing it must be some type of shrine. He is giddy with relief that he survived (he must have thought it was a 24 hour bug). Unfortuneatley he is met by some not so friendly police officers. Another couple decide to have sex while the flesh eating bug is working its magic, and then the women realizes she needs to shave her legs (taking a lot of the diseased skin with shaving cream). Anyway you get the idea. Nothing makes sense here. These are five people I would not want to be friend with. I was rooting for the flesh eating bacteria. Other characters were introduced who were also somewhat amusing but utterly unlikeable as well. Ninety minutes of good life wasted here.                                                                                                                                                                                                                                                                                                                                                                                                                                                                                                                                                                                                                                      3\n",
       "Usually, since we only ha dessert, I wouldn't review Midnight Diner until I went back for a full meal. The thing is I don't see that happening. While the decor is abundantly charming (a clean, bright rendition of the classic diner vibe), the hours are where it's at (all of them), and the cake that I tasted (a bite of chocolate and many bites of carrot) was rich and delicious the total experience was sour by the service. Our waiter hovered over our booths (his only table at the post-midnight time) and kept asking if we were ready to order even though he was literally watching us still discuss what to split. Only once we decided on the brownie sundae, which he had suggested, did he tell us they were out of some of the ingredients. Might it's because I genuinely hate feeling hurried or doing things twice, but by the time I ate fraction of my huge piece of cake I genuinely had no desired to revert. The food may be good, but there are other places to got good diner eating in the wee hours in CLT.                                                                                                                                                                                                                                                                                                                                                                                                                                                                                                                                                                                                                                                                                                                                                                                                                                                                                                                                                                                                                                                                                                                                                                                                                                                                                                                                                                                              4\n",
       "for a films that celebrate radical , nonconformist values , what to do in case of fire ? lazily and glumly settles into a most traditional , reserved genre of filmmaking .                                                                                                                                                                                                                                                                                                                                                                                                                                                                                                                                                                                                                                                                                                                                                                                                                                                                                                                                                                                                                                                                                                                                                                                                                                                                                                                                                                                                                                                                                                                                                                                                                                                                                                                                                                                                                                                                                                                                                                                                                                                                                                                                                                                                                                                                 4\n",
       "a tough go , but leigh's depth and rigor , and his skill at inspiring accomplished portrayals that are all the more impressive for their lack of showiness , offsets to a notable degree the film's often-mined and hopeless milieu .                                                                                                                                                                                                                                                                                                                                                                                                                                                                                                                                                                                                                                                                                                                                                                                                                                                                                                                                                                                                                                                                                                                                                                                                                                                                                                                                                                                                                                                                                                                                                                                                                                                                                                                                                                                                                                                                                                                                                                                                                                                                                                                                                                                                       4\n",
       "I remembering this show from Swedish television. I was only 7 years of age and it terrified me beyond belief. I would love to revisit this series and see if it was just as excellent as remember though i suspect my taste and demands have changed. Although this was released before alien and a plethora of other space-thrillers i suspect that it has its root in scary movies from the 50:s and the political climate of the 70:s. When i thought of it, this was a real sci-fi, a movie trying to discuss scientific and political questions about who we are and what we are. The term sci-fi has since then become bleak and coming to be the term for any movies that has space-ships in them.                                                                                                                                                                                                                                                                                                                                                                                                                                                                                                                                                                                                                                                                                                                                                                                                                                                                                                                                                                                                                                                                                                                                                                                                                                                                                                                                                                                                                                                                                                                                                                                                                                                                                                                                   4\n",
       "                                                                                                                                                                                                                                                                                                                                                                                                                                                                                                                                                                                                                                                                                                                                                                                                                                                                                                                                                                                                                                                                                                                                                                                                                                                                                                                                                                                                                                                                                                                                                                                                                                                                                                                                                                                                                                                                                                                                                                                                                                                                                                                                                                                                                                                                                                                                                                                                                                           ..\n",
       "too clumsy in essential moments . . . to make a big splash .                                                                                                                                                                                                                                                                                                                                                                                                                                                                                                                                                                                                                                                                                                                                                                                                                                                                                                                                                                                                                                                                                                                                                                                                                                                                                                                                                                                                                                                                                                                                                                                                                                                                                                                                                                                                                                                                                                                                                                                                                                                                                                                                                                                                                                                                                                                                                                                8\n",
       "skip the movies and buy the philip glass soundtrack cd .                                                                                                                                                                                                                                                                                                                                                                                                                                                                                                                                                                                                                                                                                                                                                                                                                                                                                                                                                                                                                                                                                                                                                                                                                                                                                                                                                                                                                                                                                                                                                                                                                                                                                                                                                                                                                                                                                                                                                                                                                                                                                                                                                                                                                                                                                                                                                                                    8\n",
       "feels weirdly hollow at its emotional core .                                                                                                                                                                                                                                                                                                                                                                                                                                                                                                                                                                                                                                                                                                                                                                                                                                                                                                                                                                                                                                                                                                                                                                                                                                                                                                                                                                                                                                                                                                                                                                                                                                                                                                                                                                                                                                                                                                                                                                                                                                                                                                                                                                                                                                                                                                                                                                                                9\n",
       "there's a solid woman- finding-herself story somewhere in here , but you'd have to dig quite deep to uncover it .                                                                                                                                                                                                                                                                                                                                                                                                                                                                                                                                                                                                                                                                                                                                                                                                                                                                                                                                                                                                                                                                                                                                                                                                                                                                                                                                                                                                                                                                                                                                                                                                                                                                                                                                                                                                                                                                                                                                                                                                                                                                                                                                                                                                                                                                                                                           9\n",
       "Tweaked a small bit, 'Nothing' could be a kids's film. It's a very clever concept, touches upon some interesting metaphysical topic, and goes against pretty much everything Hollywood convention you can thought of...what goes against everything more than, literally, \"nothing\"? Nothing is the story of two friends who wish the world away when everything goes wrong with their lives. All that's left is what they don't hate, and a big empty white space. It's hard to concentrates a story on just two actors for the majority of your movie, specially without any cuttings to anything going on outside the plot. It concentrates on pretty much one subject, but that's prime Vincenzo Natali territory. If you've seen 'Cube', you know already that he tends to like that types of situation. The \"nothing\" in this movie is apparently infinite space, but Natali somehow manages to make it somewhat claustrophobic, if only because there's literally nothing else, and nowhere else to go. The actors sell it, although you can tell these blokes are friends anyway. Two actors from 'Cube' reverted here (Worth and Kazan), but are altogether differing characters. They alter throughout the story, and while they're not the strongest actors in the world, they're at least believable. The reason I say this could be a children's film under the right tweaks, is because aside from a few f-bombs and a somewhat unnecessary bloody dream sequence, the whimsical and often silly feel of this movie could very much be digested easily by kids. So I find it an odd choice that the writers decided to added some crass language and a small amount of gore, especially considering there isn't very much of it. This could've gotten a PG rating easily had they simply cut a few things out and changed a little dialogue. There is very little objectionable about this film, but just enough to keep parents from wanting their kids to see it. I only say that's a shame because not because I support censorship, but because that may have been the only thing preventing this movie from having wider exposure. At any rate, this is a reasonably entertaining film, albeit with a few dragged-out scenes. But for literally being about nothing, and focused entirely on two characters and their interactions with absolutely nothing, they do a surprisingly good job for an independent film.    10\n",
       "Name: label, Length: 100, dtype: int64"
      ]
     },
     "execution_count": 27,
     "metadata": {},
     "output_type": "execute_result"
    }
   ],
   "source": [
    "chosen_df.groupby('Input.text2')['label'].agg(lambda x: x.value_counts().iloc[0]).sort_values()"
   ]
  },
  {
   "cell_type": "code",
   "execution_count": 28,
   "metadata": {},
   "outputs": [],
   "source": [
    "agreed_dist = chosen_df.groupby('Input.text2')['label'].agg(lambda x: x.value_counts().iloc[0]).sort_values()"
   ]
  },
  {
   "cell_type": "code",
   "execution_count": 29,
   "metadata": {},
   "outputs": [
    {
     "data": {
      "image/png": "[encoded data removed]",
      "text/plain": [
       "<Figure size 432x288 with 1 Axes>"
      ]
     },
     "metadata": {},
     "output_type": "display_data"
    }
   ],
   "source": [
    "d = np.diff(np.unique(agreed_dist)).min()\n",
    "left_of_first_bin = agreed_dist.min() - float(d)/2\n",
    "right_of_last_bin = agreed_dist.max() + float(d)/2\n",
    "plt.hist(agreed_dist, np.arange(left_of_first_bin, right_of_last_bin + d, d))\n",
    "plt.show()"
   ]
  },
  {
   "cell_type": "code",
   "execution_count": 31,
   "metadata": {},
   "outputs": [],
   "source": [
    "all_agreed_dist = bert_df.groupby(['Input.text2','Input.SE_Thresh'])['label'].agg(lambda x: x.value_counts().iloc[0]).sort_values()"
   ]
  },
  {
   "cell_type": "code",
   "execution_count": 32,
   "metadata": {},
   "outputs": [
    {
     "data": {
      "image/png": "[encoded data removed]",
      "text/plain": [
       "<Figure size 432x288 with 1 Axes>"
      ]
     },
     "metadata": {},
     "output_type": "display_data"
    }
   ],
   "source": [
    "d = np.diff(np.unique(all_agreed_dist)).min()\n",
    "left_of_first_bin = all_agreed_dist.min() - float(d)/2\n",
    "right_of_last_bin = all_agreed_dist.max() + float(d)/2\n",
    "plt.hist(all_agreed_dist, np.arange(left_of_first_bin, right_of_last_bin + d, d))\n",
    "plt.show()"
   ]
  },
  {
   "cell_type": "code",
   "execution_count": 33,
   "metadata": {},
   "outputs": [
    {
     "data": {
      "text/plain": [
       "5.384"
      ]
     },
     "execution_count": 33,
     "metadata": {},
     "output_type": "execute_result"
    }
   ],
   "source": [
    "all_agreed_dist.mean()"
   ]
  },
  {
   "cell_type": "code",
   "execution_count": 34,
   "metadata": {},
   "outputs": [
    {
     "data": {
      "text/plain": [
       "5.6"
      ]
     },
     "execution_count": 34,
     "metadata": {},
     "output_type": "execute_result"
    }
   ],
   "source": [
    "agreed_dist.mean()"
   ]
  },
  {
   "cell_type": "code",
   "execution_count": 36,
   "metadata": {},
   "outputs": [],
   "source": [
    "s4_agreed_dist = s4_df.groupby('Input.text2')['label'].agg(lambda x: x.value_counts().iloc[0]).sort_values()"
   ]
  },
  {
   "cell_type": "code",
   "execution_count": 37,
   "metadata": {},
   "outputs": [
    {
     "data": {
      "text/plain": [
       "5.0875"
      ]
     },
     "execution_count": 37,
     "metadata": {},
     "output_type": "execute_result"
    }
   ],
   "source": [
    "s4_agreed_dist.mean()"
   ]
  },
  {
   "cell_type": "code",
   "execution_count": null,
   "metadata": {},
   "outputs": [],
   "source": []
  }
 ],
 "metadata": {
  "kernelspec": {
   "display_name": "Python 3",
   "language": "python",
   "name": "python3"
  },
  "language_info": {
   "codemirror_mode": {
    "name": "ipython",
    "version": 3
   },
   "file_extension": ".py",
   "mimetype": "text/x-python",
   "name": "python",
   "nbconvert_exporter": "python",
   "pygments_lexer": "ipython3",
   "version": "3.7.7"
  }
 },
 "nbformat": 4,
 "nbformat_minor": 2
}
