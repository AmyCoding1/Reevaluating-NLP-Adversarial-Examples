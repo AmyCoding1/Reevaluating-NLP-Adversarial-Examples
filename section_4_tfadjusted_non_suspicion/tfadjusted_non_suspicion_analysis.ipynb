{
 "cells": [
  {
   "cell_type": "code",
   "execution_count": 1,
   "metadata": {},
   "outputs": [],
   "source": [
    "import pandas as pd"
   ]
  },
  {
   "cell_type": "code",
   "execution_count": 2,
   "metadata": {},
   "outputs": [
    {
     "name": "stdout",
     "output_type": "stream",
     "text": [
      "Index(['Input.text', 'Answer.sentiment.label', 'Input.label', 'Title',\n",
      "       'Description'],\n",
      "      dtype='object')\n"
     ]
    },
    {
     "data": {
      "text/html": [
       "<div>\n",
       "<style scoped>\n",
       "    .dataframe tbody tr th:only-of-type {\n",
       "        vertical-align: middle;\n",
       "    }\n",
       "\n",
       "    .dataframe tbody tr th {\n",
       "        vertical-align: top;\n",
       "    }\n",
       "\n",
       "    .dataframe thead th {\n",
       "        text-align: right;\n",
       "    }\n",
       "</style>\n",
       "<table border=\"1\" class=\"dataframe\">\n",
       "  <thead>\n",
       "    <tr style=\"text-align: right;\">\n",
       "      <th></th>\n",
       "      <th>Input.text</th>\n",
       "      <th>Answer.sentiment.label</th>\n",
       "      <th>Input.label</th>\n",
       "      <th>Title</th>\n",
       "      <th>Description</th>\n",
       "    </tr>\n",
       "  </thead>\n",
       "  <tbody>\n",
       "    <tr>\n",
       "      <th>0</th>\n",
       "      <td>the sinister inspiration that fuelled devito's...</td>\n",
       "      <td>Computer-altered</td>\n",
       "      <td>real</td>\n",
       "      <td>Guess reviews are real or fake</td>\n",
       "      <td>You will be randomly shown an online movie rev...</td>\n",
       "    </tr>\n",
       "    <tr>\n",
       "      <th>1</th>\n",
       "      <td>the sinister inspiration that fuelled devito's...</td>\n",
       "      <td>Real</td>\n",
       "      <td>real</td>\n",
       "      <td>Guess reviews are real or fake</td>\n",
       "      <td>You will be randomly shown an online movie rev...</td>\n",
       "    </tr>\n",
       "    <tr>\n",
       "      <th>2</th>\n",
       "      <td>the sinister inspiration that fuelled devito's...</td>\n",
       "      <td>Real</td>\n",
       "      <td>real</td>\n",
       "      <td>Guess reviews are real or fake</td>\n",
       "      <td>You will be randomly shown an online movie rev...</td>\n",
       "    </tr>\n",
       "    <tr>\n",
       "      <th>3</th>\n",
       "      <td>the sinister inspiration that fuelled devito's...</td>\n",
       "      <td>Computer-altered</td>\n",
       "      <td>real</td>\n",
       "      <td>Guess reviews are real or fake</td>\n",
       "      <td>You will be randomly shown an online movie rev...</td>\n",
       "    </tr>\n",
       "    <tr>\n",
       "      <th>4</th>\n",
       "      <td>the sinister inspiration that fuelled devito's...</td>\n",
       "      <td>Real</td>\n",
       "      <td>real</td>\n",
       "      <td>Guess reviews are real or fake</td>\n",
       "      <td>You will be randomly shown an online movie rev...</td>\n",
       "    </tr>\n",
       "  </tbody>\n",
       "</table>\n",
       "</div>"
      ],
      "text/plain": [
       "                                          Input.text Answer.sentiment.label  \\\n",
       "0  the sinister inspiration that fuelled devito's...       Computer-altered   \n",
       "1  the sinister inspiration that fuelled devito's...                   Real   \n",
       "2  the sinister inspiration that fuelled devito's...                   Real   \n",
       "3  the sinister inspiration that fuelled devito's...       Computer-altered   \n",
       "4  the sinister inspiration that fuelled devito's...                   Real   \n",
       "\n",
       "  Input.label                           Title  \\\n",
       "0        real  Guess reviews are real or fake   \n",
       "1        real  Guess reviews are real or fake   \n",
       "2        real  Guess reviews are real or fake   \n",
       "3        real  Guess reviews are real or fake   \n",
       "4        real  Guess reviews are real or fake   \n",
       "\n",
       "                                         Description  \n",
       "0  You will be randomly shown an online movie rev...  \n",
       "1  You will be randomly shown an online movie rev...  \n",
       "2  You will be randomly shown an online movie rev...  \n",
       "3  You will be randomly shown an online movie rev...  \n",
       "4  You will be randomly shown an online movie rev...  "
      ]
     },
     "execution_count": 2,
     "metadata": {},
     "output_type": "execute_result"
    }
   ],
   "source": [
    "df = pd.read_csv('tfadjusted_non_suspicion_results.csv')\n",
    "print(df.columns)\n",
    "df.head()"
   ]
  },
  {
   "cell_type": "code",
   "execution_count": 3,
   "metadata": {},
   "outputs": [
    {
     "name": "stdout",
     "output_type": "stream",
     "text": [
      "['real' 'fake']\n",
      "['Computer-altered' 'Real']\n"
     ]
    }
   ],
   "source": [
    "print(df['Input.label'].unique())\n",
    "print(df['Answer.sentiment.label'].unique())"
   ]
  },
  {
   "cell_type": "code",
   "execution_count": 4,
   "metadata": {},
   "outputs": [],
   "source": [
    "label_map = { 'Computer-altered': 'fake', 'Real': 'real'}\n",
    "df['label'] = df['Answer.sentiment.label'].map(lambda x: label_map[x])"
   ]
  },
  {
   "cell_type": "code",
   "execution_count": 5,
   "metadata": {},
   "outputs": [
    {
     "data": {
      "text/plain": [
       "True     1034\n",
       "False     726\n",
       "dtype: int64"
      ]
     },
     "execution_count": 5,
     "metadata": {},
     "output_type": "execute_result"
    }
   ],
   "source": [
    "(df['label'] == df['Input.label']).value_counts()"
   ]
  },
  {
   "cell_type": "code",
   "execution_count": 6,
   "metadata": {},
   "outputs": [
    {
     "data": {
      "text/plain": [
       "0.5875"
      ]
     },
     "execution_count": 6,
     "metadata": {},
     "output_type": "execute_result"
    }
   ],
   "source": [
    "1034 / (1034 + 726.)"
   ]
  },
  {
   "cell_type": "code",
   "execution_count": 7,
   "metadata": {},
   "outputs": [
    {
     "data": {
      "text/plain": [
       "real    1082\n",
       "fake     678\n",
       "Name: label, dtype: int64"
      ]
     },
     "execution_count": 7,
     "metadata": {},
     "output_type": "execute_result"
    }
   ],
   "source": [
    "df['label'].value_counts()"
   ]
  },
  {
   "cell_type": "code",
   "execution_count": 8,
   "metadata": {},
   "outputs": [
    {
     "data": {
      "text/plain": [
       "0.6147727272727272"
      ]
     },
     "execution_count": 8,
     "metadata": {},
     "output_type": "execute_result"
    }
   ],
   "source": [
    "1082/(1082+678.)"
   ]
  },
  {
   "cell_type": "code",
   "execution_count": 9,
   "metadata": {},
   "outputs": [
    {
     "data": {
      "text/plain": [
       "fake    416\n",
       "real    262\n",
       "Name: Input.label, dtype: int64"
      ]
     },
     "execution_count": 9,
     "metadata": {},
     "output_type": "execute_result"
    }
   ],
   "source": [
    "df[df['label'] == 'fake']['Input.label'].value_counts()"
   ]
  },
  {
   "cell_type": "code",
   "execution_count": 10,
   "metadata": {},
   "outputs": [
    {
     "data": {
      "text/plain": [
       "0.3864306784660767"
      ]
     },
     "execution_count": 10,
     "metadata": {},
     "output_type": "execute_result"
    }
   ],
   "source": [
    "262/(262+416.)"
   ]
  },
  {
   "cell_type": "code",
   "execution_count": 11,
   "metadata": {},
   "outputs": [
    {
     "data": {
      "text/plain": [
       "real    464\n",
       "fake    416\n",
       "Name: label, dtype: int64"
      ]
     },
     "execution_count": 11,
     "metadata": {},
     "output_type": "execute_result"
    }
   ],
   "source": [
    "df[df['Input.label'] == 'fake']['label'].value_counts()"
   ]
  },
  {
   "cell_type": "code",
   "execution_count": 12,
   "metadata": {},
   "outputs": [
    {
     "data": {
      "text/plain": [
       "0.4727272727272727"
      ]
     },
     "execution_count": 12,
     "metadata": {},
     "output_type": "execute_result"
    }
   ],
   "source": [
    "416/(464+416.)"
   ]
  },
  {
   "cell_type": "code",
   "execution_count": 13,
   "metadata": {},
   "outputs": [
    {
     "data": {
      "text/plain": [
       "real    1082\n",
       "fake     678\n",
       "Name: label, dtype: int64"
      ]
     },
     "execution_count": 13,
     "metadata": {},
     "output_type": "execute_result"
    }
   ],
   "source": [
    "df['label'].value_counts()"
   ]
  },
  {
   "cell_type": "code",
   "execution_count": 14,
   "metadata": {},
   "outputs": [
    {
     "data": {
      "text/plain": [
       "0.6147727272727272"
      ]
     },
     "execution_count": 14,
     "metadata": {},
     "output_type": "execute_result"
    }
   ],
   "source": [
    "1082/(1082+678.)"
   ]
  },
  {
   "cell_type": "code",
   "execution_count": 15,
   "metadata": {},
   "outputs": [
    {
     "data": {
      "text/plain": [
       "real    618\n",
       "fake    262\n",
       "Name: label, dtype: int64"
      ]
     },
     "execution_count": 15,
     "metadata": {},
     "output_type": "execute_result"
    }
   ],
   "source": [
    "df[df['Input.label'] == 'real']['label'].value_counts()"
   ]
  },
  {
   "cell_type": "code",
   "execution_count": 16,
   "metadata": {},
   "outputs": [
    {
     "data": {
      "text/plain": [
       "0.7022727272727273"
      ]
     },
     "execution_count": 16,
     "metadata": {},
     "output_type": "execute_result"
    }
   ],
   "source": [
    "618/(618+262.)"
   ]
  },
  {
   "cell_type": "code",
   "execution_count": null,
   "metadata": {},
   "outputs": [],
   "source": []
  }
 ],
 "metadata": {
  "kernelspec": {
   "display_name": "Python 3",
   "language": "python",
   "name": "python3"
  },
  "language_info": {
   "codemirror_mode": {
    "name": "ipython",
    "version": 3
   },
   "file_extension": ".py",
   "mimetype": "text/x-python",
   "name": "python",
   "nbconvert_exporter": "python",
   "pygments_lexer": "ipython3",
   "version": "3.7.7"
  }
 },
 "nbformat": 4,
 "nbformat_minor": 2
}
