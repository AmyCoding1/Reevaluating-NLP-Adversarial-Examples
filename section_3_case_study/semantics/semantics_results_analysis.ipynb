{
 "cells": [
  {
   "cell_type": "code",
   "execution_count": 3,
   "metadata": {},
   "outputs": [],
   "source": [
    "import pandas as pd\n",
    "df = pd.read_csv('semantics_results.csv')"
   ]
  },
  {
   "cell_type": "code",
   "execution_count": 4,
   "metadata": {},
   "outputs": [
    {
     "data": {
      "text/html": [
       "<div>\n",
       "<style scoped>\n",
       "    .dataframe tbody tr th:only-of-type {\n",
       "        vertical-align: middle;\n",
       "    }\n",
       "\n",
       "    .dataframe tbody tr th {\n",
       "        vertical-align: top;\n",
       "    }\n",
       "\n",
       "    .dataframe thead th {\n",
       "        text-align: right;\n",
       "    }\n",
       "</style>\n",
       "<table border=\"1\" class=\"dataframe\">\n",
       "  <thead>\n",
       "    <tr style=\"text-align: right;\">\n",
       "      <th></th>\n",
       "      <th>Input.text1</th>\n",
       "      <th>Input.text2</th>\n",
       "      <th>Answer.semantic-similarity.label</th>\n",
       "      <th>Input.run_type</th>\n",
       "      <th>Input.dataset</th>\n",
       "      <th>Title</th>\n",
       "      <th>Description</th>\n",
       "    </tr>\n",
       "  </thead>\n",
       "  <tbody>\n",
       "    <tr>\n",
       "      <th>0</th>\n",
       "      <td>oh dear, oh dear! what were they thinking of ?...</td>\n",
       "      <td>oh dear, oh dear! what were they thinking of ?...</td>\n",
       "      <td>Agree</td>\n",
       "      <td>jin</td>\n",
       "      <td>imdb</td>\n",
       "      <td>Does changing from text1 to text2 preserve mea...</td>\n",
       "      <td>Compare two short pieces of English text and d...</td>\n",
       "    </tr>\n",
       "    <tr>\n",
       "      <th>1</th>\n",
       "      <td>oh dear, oh dear! what were they thinking of ?...</td>\n",
       "      <td>oh dear, oh dear! what were they thinking of ?...</td>\n",
       "      <td>Agree</td>\n",
       "      <td>jin</td>\n",
       "      <td>imdb</td>\n",
       "      <td>Does changing from text1 to text2 preserve mea...</td>\n",
       "      <td>Compare two short pieces of English text and d...</td>\n",
       "    </tr>\n",
       "    <tr>\n",
       "      <th>2</th>\n",
       "      <td>oh dear, oh dear! what were they thinking of ?...</td>\n",
       "      <td>oh dear, oh dear! what were they thinking of ?...</td>\n",
       "      <td>Agree</td>\n",
       "      <td>jin</td>\n",
       "      <td>imdb</td>\n",
       "      <td>Does changing from text1 to text2 preserve mea...</td>\n",
       "      <td>Compare two short pieces of English text and d...</td>\n",
       "    </tr>\n",
       "    <tr>\n",
       "      <th>3</th>\n",
       "      <td>oh dear, oh dear! what were they thinking of ?...</td>\n",
       "      <td>oh dear, oh dear! what were they thinking of ?...</td>\n",
       "      <td>Agree</td>\n",
       "      <td>jin</td>\n",
       "      <td>imdb</td>\n",
       "      <td>Does changing from text1 to text2 preserve mea...</td>\n",
       "      <td>Compare two short pieces of English text and d...</td>\n",
       "    </tr>\n",
       "    <tr>\n",
       "      <th>4</th>\n",
       "      <td>oh dear, oh dear! what were they thinking of ?...</td>\n",
       "      <td>oh dear, oh dear! what were they thinking of ?...</td>\n",
       "      <td>Agree</td>\n",
       "      <td>jin</td>\n",
       "      <td>imdb</td>\n",
       "      <td>Does changing from text1 to text2 preserve mea...</td>\n",
       "      <td>Compare two short pieces of English text and d...</td>\n",
       "    </tr>\n",
       "  </tbody>\n",
       "</table>\n",
       "</div>"
      ],
      "text/plain": [
       "                                         Input.text1  \\\n",
       "0  oh dear, oh dear! what were they thinking of ?...   \n",
       "1  oh dear, oh dear! what were they thinking of ?...   \n",
       "2  oh dear, oh dear! what were they thinking of ?...   \n",
       "3  oh dear, oh dear! what were they thinking of ?...   \n",
       "4  oh dear, oh dear! what were they thinking of ?...   \n",
       "\n",
       "                                         Input.text2  \\\n",
       "0  oh dear, oh dear! what were they thinking of ?...   \n",
       "1  oh dear, oh dear! what were they thinking of ?...   \n",
       "2  oh dear, oh dear! what were they thinking of ?...   \n",
       "3  oh dear, oh dear! what were they thinking of ?...   \n",
       "4  oh dear, oh dear! what were they thinking of ?...   \n",
       "\n",
       "  Answer.semantic-similarity.label Input.run_type Input.dataset  \\\n",
       "0                            Agree            jin          imdb   \n",
       "1                            Agree            jin          imdb   \n",
       "2                            Agree            jin          imdb   \n",
       "3                            Agree            jin          imdb   \n",
       "4                            Agree            jin          imdb   \n",
       "\n",
       "                                               Title  \\\n",
       "0  Does changing from text1 to text2 preserve mea...   \n",
       "1  Does changing from text1 to text2 preserve mea...   \n",
       "2  Does changing from text1 to text2 preserve mea...   \n",
       "3  Does changing from text1 to text2 preserve mea...   \n",
       "4  Does changing from text1 to text2 preserve mea...   \n",
       "\n",
       "                                         Description  \n",
       "0  Compare two short pieces of English text and d...  \n",
       "1  Compare two short pieces of English text and d...  \n",
       "2  Compare two short pieces of English text and d...  \n",
       "3  Compare two short pieces of English text and d...  \n",
       "4  Compare two short pieces of English text and d...  "
      ]
     },
     "execution_count": 4,
     "metadata": {},
     "output_type": "execute_result"
    }
   ],
   "source": [
    "df.head()"
   ]
  },
  {
   "cell_type": "code",
   "execution_count": 5,
   "metadata": {},
   "outputs": [],
   "source": [
    "label_map = { 'Strongly Agree': 5, 'Agree': 4, 'Not sure': 3, 'Disagree': 2, 'Strongly Disagree': 1}\n",
    "df['label'] = df['Answer.semantic-similarity.label'].map(lambda s: label_map[s])"
   ]
  },
  {
   "cell_type": "code",
   "execution_count": 6,
   "metadata": {},
   "outputs": [
    {
     "data": {
      "text/plain": [
       "3.13225"
      ]
     },
     "execution_count": 6,
     "metadata": {},
     "output_type": "execute_result"
    }
   ],
   "source": [
    "df['label'].mean()"
   ]
  },
  {
   "cell_type": "code",
   "execution_count": 7,
   "metadata": {},
   "outputs": [
    {
     "data": {
      "text/plain": [
       "Index(['Input.text1', 'Input.text2', 'Answer.semantic-similarity.label',\n",
       "       'Input.run_type', 'Input.dataset', 'Title', 'Description', 'label'],\n",
       "      dtype='object')"
      ]
     },
     "execution_count": 7,
     "metadata": {},
     "output_type": "execute_result"
    }
   ],
   "source": [
    "df.columns"
   ]
  },
  {
   "cell_type": "code",
   "execution_count": 8,
   "metadata": {},
   "outputs": [
    {
     "data": {
      "text/plain": [
       "Input.run_type\n",
       "alzantot    2.695\n",
       "jin         3.278\n",
       "Name: label, dtype: float64"
      ]
     },
     "execution_count": 8,
     "metadata": {},
     "output_type": "execute_result"
    }
   ],
   "source": [
    "df.groupby('Input.run_type')['label'].mean()"
   ]
  },
  {
   "cell_type": "code",
   "execution_count": 9,
   "metadata": {},
   "outputs": [
    {
     "data": {
      "text/plain": [
       "array(['imdb', 'movie_review', 'yelp_polarity'], dtype=object)"
      ]
     },
     "execution_count": 9,
     "metadata": {},
     "output_type": "execute_result"
    }
   ],
   "source": [
    "df['Input.dataset'].unique()"
   ]
  },
  {
   "cell_type": "code",
   "execution_count": 17,
   "metadata": {},
   "outputs": [
    {
     "data": {
      "text/plain": [
       "Input.run_type  Input.dataset\n",
       "alzantot        imdb             2.695\n",
       "jin             imdb             3.414\n",
       "                movie_review     3.370\n",
       "                yelp_polarity    3.050\n",
       "Name: label, dtype: float64"
      ]
     },
     "execution_count": 17,
     "metadata": {},
     "output_type": "execute_result"
    }
   ],
   "source": [
    "df.groupby(['Input.run_type', 'Input.dataset'])['label'].mean()"
   ]
  }
 ],
 "metadata": {
  "kernelspec": {
   "display_name": "Python 3",
   "language": "python",
   "name": "python3"
  },
  "language_info": {
   "codemirror_mode": {
    "name": "ipython",
    "version": 3
   },
   "file_extension": ".py",
   "mimetype": "text/x-python",
   "name": "python",
   "nbconvert_exporter": "python",
   "pygments_lexer": "ipython3",
   "version": "3.7.7"
  }
 },
 "nbformat": 4,
 "nbformat_minor": 2
}
