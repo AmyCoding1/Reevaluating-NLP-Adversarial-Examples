{
 "cells": [
  {
   "cell_type": "code",
   "execution_count": 2,
   "metadata": {},
   "outputs": [],
   "source": [
    "import pandas as pd"
   ]
  },
  {
   "cell_type": "code",
   "execution_count": 3,
   "metadata": {},
   "outputs": [
    {
     "data": {
      "text/plain": [
       "Index(['index', 'label_1', 'label_2', 'passage_1', 'passage_2', 'score_1',\n",
       "       'score_2', 'SE_Thresh', 'dataset', 'SE_Model'],\n",
       "      dtype='object')"
      ]
     },
     "execution_count": 3,
     "metadata": {},
     "output_type": "execute_result"
    }
   ],
   "source": [
    "bert_df = pd.read_csv('bert-thresh-examples.csv')\n",
    "\n",
    "bert_df.columns"
   ]
  },
  {
   "cell_type": "code",
   "execution_count": 10,
   "metadata": {},
   "outputs": [
    {
     "name": "stdout",
     "output_type": "stream",
     "text": [
      "(88, 10)\n"
     ]
    },
    {
     "data": {
      "text/html": [
       "<div>\n",
       "<style scoped>\n",
       "    .dataframe tbody tr th:only-of-type {\n",
       "        vertical-align: middle;\n",
       "    }\n",
       "\n",
       "    .dataframe tbody tr th {\n",
       "        vertical-align: top;\n",
       "    }\n",
       "\n",
       "    .dataframe thead th {\n",
       "        text-align: right;\n",
       "    }\n",
       "</style>\n",
       "<table border=\"1\" class=\"dataframe\">\n",
       "  <thead>\n",
       "    <tr style=\"text-align: right;\">\n",
       "      <th></th>\n",
       "      <th>index</th>\n",
       "      <th>label_1</th>\n",
       "      <th>label_2</th>\n",
       "      <th>passage_1</th>\n",
       "      <th>passage_2</th>\n",
       "      <th>score_1</th>\n",
       "      <th>score_2</th>\n",
       "      <th>SE_Thresh</th>\n",
       "      <th>dataset</th>\n",
       "      <th>SE_Model</th>\n",
       "    </tr>\n",
       "  </thead>\n",
       "  <tbody>\n",
       "    <tr>\n",
       "      <th>840</th>\n",
       "      <td>0</td>\n",
       "      <td>1.0</td>\n",
       "      <td>0.0</td>\n",
       "      <td>paid in full is remarkably engaging despite be...</td>\n",
       "      <td>paid in full is surprisingly engage albeit bei...</td>\n",
       "      <td>0.979929</td>\n",
       "      <td>0.612623</td>\n",
       "      <td>0.98</td>\n",
       "      <td>mr</td>\n",
       "      <td>BERT</td>\n",
       "    </tr>\n",
       "    <tr>\n",
       "      <th>841</th>\n",
       "      <td>1</td>\n",
       "      <td>0.0</td>\n",
       "      <td>1.0</td>\n",
       "      <td>this movie , a certain scene in particular , b...</td>\n",
       "      <td>this movie , a certain scene in particular , b...</td>\n",
       "      <td>0.615160</td>\n",
       "      <td>0.597479</td>\n",
       "      <td>0.98</td>\n",
       "      <td>mr</td>\n",
       "      <td>BERT</td>\n",
       "    </tr>\n",
       "    <tr>\n",
       "      <th>842</th>\n",
       "      <td>2</td>\n",
       "      <td>0.0</td>\n",
       "      <td>1.0</td>\n",
       "      <td>mr . wedge and mr . saldanha handle the mix of...</td>\n",
       "      <td>mr . wedge and mr . saldanha handle the blendi...</td>\n",
       "      <td>0.767221</td>\n",
       "      <td>0.604759</td>\n",
       "      <td>0.98</td>\n",
       "      <td>mr</td>\n",
       "      <td>BERT</td>\n",
       "    </tr>\n",
       "    <tr>\n",
       "      <th>843</th>\n",
       "      <td>3</td>\n",
       "      <td>0.0</td>\n",
       "      <td>1.0</td>\n",
       "      <td>for a film that celebrates radical , nonconfor...</td>\n",
       "      <td>for a films that celebrate radical , nonconfor...</td>\n",
       "      <td>0.760463</td>\n",
       "      <td>0.541838</td>\n",
       "      <td>0.98</td>\n",
       "      <td>mr</td>\n",
       "      <td>BERT</td>\n",
       "    </tr>\n",
       "    <tr>\n",
       "      <th>844</th>\n",
       "      <td>4</td>\n",
       "      <td>0.0</td>\n",
       "      <td>1.0</td>\n",
       "      <td>…passable enough for a shoot-out in the o . k ...</td>\n",
       "      <td>…passable enough for a shoot-out in the o . k ...</td>\n",
       "      <td>0.736965</td>\n",
       "      <td>0.560818</td>\n",
       "      <td>0.98</td>\n",
       "      <td>mr</td>\n",
       "      <td>BERT</td>\n",
       "    </tr>\n",
       "  </tbody>\n",
       "</table>\n",
       "</div>"
      ],
      "text/plain": [
       "     index  label_1  label_2  \\\n",
       "840      0      1.0      0.0   \n",
       "841      1      0.0      1.0   \n",
       "842      2      0.0      1.0   \n",
       "843      3      0.0      1.0   \n",
       "844      4      0.0      1.0   \n",
       "\n",
       "                                             passage_1  \\\n",
       "840  paid in full is remarkably engaging despite be...   \n",
       "841  this movie , a certain scene in particular , b...   \n",
       "842  mr . wedge and mr . saldanha handle the mix of...   \n",
       "843  for a film that celebrates radical , nonconfor...   \n",
       "844  …passable enough for a shoot-out in the o . k ...   \n",
       "\n",
       "                                             passage_2   score_1   score_2  \\\n",
       "840  paid in full is surprisingly engage albeit bei...  0.979929  0.612623   \n",
       "841  this movie , a certain scene in particular , b...  0.615160  0.597479   \n",
       "842  mr . wedge and mr . saldanha handle the blendi...  0.767221  0.604759   \n",
       "843  for a films that celebrate radical , nonconfor...  0.760463  0.541838   \n",
       "844  …passable enough for a shoot-out in the o . k ...  0.736965  0.560818   \n",
       "\n",
       "     SE_Thresh dataset SE_Model  \n",
       "840       0.98      mr     BERT  \n",
       "841       0.98      mr     BERT  \n",
       "842       0.98      mr     BERT  \n",
       "843       0.98      mr     BERT  \n",
       "844       0.98      mr     BERT  "
      ]
     },
     "execution_count": 10,
     "metadata": {},
     "output_type": "execute_result"
    }
   ],
   "source": [
    "mr_df = bert_df[(bert_df['SE_Thresh'] == .98) & (bert_df['dataset'] == 'mr')]\n",
    "\n",
    "print(mr_df.shape)\n",
    "\n",
    "mr_df.head()"
   ]
  },
  {
   "cell_type": "code",
   "execution_count": 42,
   "metadata": {},
   "outputs": [
    {
     "name": "stdout",
     "output_type": "stream",
     "text": [
      "(176, 2)\n"
     ]
    },
    {
     "data": {
      "text/html": [
       "<div>\n",
       "<style scoped>\n",
       "    .dataframe tbody tr th:only-of-type {\n",
       "        vertical-align: middle;\n",
       "    }\n",
       "\n",
       "    .dataframe tbody tr th {\n",
       "        vertical-align: top;\n",
       "    }\n",
       "\n",
       "    .dataframe thead th {\n",
       "        text-align: right;\n",
       "    }\n",
       "</style>\n",
       "<table border=\"1\" class=\"dataframe\">\n",
       "  <thead>\n",
       "    <tr style=\"text-align: right;\">\n",
       "      <th></th>\n",
       "      <th>text</th>\n",
       "      <th>label</th>\n",
       "    </tr>\n",
       "  </thead>\n",
       "  <tbody>\n",
       "    <tr>\n",
       "      <th>0</th>\n",
       "      <td>the sinister inspiration that fuelled devito's...</td>\n",
       "      <td>real</td>\n",
       "    </tr>\n",
       "    <tr>\n",
       "      <th>1</th>\n",
       "      <td>the most memorable moment was when green threw...</td>\n",
       "      <td>real</td>\n",
       "    </tr>\n",
       "    <tr>\n",
       "      <th>2</th>\n",
       "      <td>watching it is rather like an overlong visit f...</td>\n",
       "      <td>real</td>\n",
       "    </tr>\n",
       "    <tr>\n",
       "      <th>3</th>\n",
       "      <td>the sinister inspiration that fueled devito's ...</td>\n",
       "      <td>fake</td>\n",
       "    </tr>\n",
       "    <tr>\n",
       "      <th>4</th>\n",
       "      <td>hilarious musical comedy though impeded by acc...</td>\n",
       "      <td>fake</td>\n",
       "    </tr>\n",
       "  </tbody>\n",
       "</table>\n",
       "</div>"
      ],
      "text/plain": [
       "                                                text label\n",
       "0  the sinister inspiration that fuelled devito's...  real\n",
       "1  the most memorable moment was when green threw...  real\n",
       "2  watching it is rather like an overlong visit f...  real\n",
       "3  the sinister inspiration that fueled devito's ...  fake\n",
       "4  hilarious musical comedy though impeded by acc...  fake"
      ]
     },
     "execution_count": 42,
     "metadata": {},
     "output_type": "execute_result"
    }
   ],
   "source": [
    "real_df = mr_df['passage_1'].to_frame()\n",
    "real_df.rename(columns={ 'passage_1': 'text'}, inplace=True)\n",
    "real_df['label'] = 'real'\n",
    "\n",
    "fake_df = mr_df['passage_2'].to_frame()\n",
    "fake_df.rename(columns={ 'passage_2': 'text'}, inplace=True)\n",
    "fake_df['label'] = 'fake'\n",
    "\n",
    "full_df = pd.concat((real_df, fake_df))\n",
    "print(full_df.shape)\n",
    "\n",
    "full_df = full_df.sample(frac=1).reset_index(drop=True)\n",
    "full_df.head()"
   ]
  },
  {
   "cell_type": "code",
   "execution_count": 43,
   "metadata": {},
   "outputs": [
    {
     "data": {
      "text/plain": [
       "176"
      ]
     },
     "execution_count": 43,
     "metadata": {},
     "output_type": "execute_result"
    }
   ],
   "source": [
    "full_df['text'].value_counts().sum()"
   ]
  },
  {
   "cell_type": "code",
   "execution_count": 44,
   "metadata": {},
   "outputs": [
    {
     "data": {
      "text/plain": [
       "real    88\n",
       "fake    88\n",
       "Name: label, dtype: int64"
      ]
     },
     "execution_count": 44,
     "metadata": {},
     "output_type": "execute_result"
    }
   ],
   "source": [
    "full_df['label'].value_counts()"
   ]
  },
  {
   "cell_type": "code",
   "execution_count": 45,
   "metadata": {},
   "outputs": [],
   "source": [
    "full_df.to_csv('tf-cf-0.9-bert-0.98.csv')"
   ]
  }
 ],
 "metadata": {
  "kernelspec": {
   "display_name": "Python 3",
   "language": "python",
   "name": "python3"
  },
  "language_info": {
   "codemirror_mode": {
    "name": "ipython",
    "version": 3
   },
   "file_extension": ".py",
   "mimetype": "text/x-python",
   "name": "python",
   "nbconvert_exporter": "python",
   "pygments_lexer": "ipython3",
   "version": "3.7.7"
  }
 },
 "nbformat": 4,
 "nbformat_minor": 2
}
