{
 "cells": [
  {
   "cell_type": "code",
   "execution_count": 4,
   "metadata": {
    "collapsed": true
   },
   "outputs": [],
   "source": [
    "import pandas as pd\n",
    "\n",
    "df = pd.read_csv('./results/section4-semantics-results.csv')"
   ]
  },
  {
   "cell_type": "code",
   "execution_count": 5,
   "metadata": {},
   "outputs": [
    {
     "data": {
      "text/html": [
       "<div>\n",
       "<style scoped>\n",
       "    .dataframe tbody tr th:only-of-type {\n",
       "        vertical-align: middle;\n",
       "    }\n",
       "\n",
       "    .dataframe tbody tr th {\n",
       "        vertical-align: top;\n",
       "    }\n",
       "\n",
       "    .dataframe thead th {\n",
       "        text-align: right;\n",
       "    }\n",
       "</style>\n",
       "<table border=\"1\" class=\"dataframe\">\n",
       "  <thead>\n",
       "    <tr style=\"text-align: right;\">\n",
       "      <th></th>\n",
       "      <th>HITId</th>\n",
       "      <th>HITTypeId</th>\n",
       "      <th>Title</th>\n",
       "      <th>Description</th>\n",
       "      <th>Keywords</th>\n",
       "      <th>Reward</th>\n",
       "      <th>CreationTime</th>\n",
       "      <th>MaxAssignments</th>\n",
       "      <th>RequesterAnnotation</th>\n",
       "      <th>AssignmentDurationInSeconds</th>\n",
       "      <th>...</th>\n",
       "      <th>Input.USE_similarity</th>\n",
       "      <th>Input.dataset</th>\n",
       "      <th>Input.original_class</th>\n",
       "      <th>Input.text1</th>\n",
       "      <th>Input.perturbed_class</th>\n",
       "      <th>Input.text2</th>\n",
       "      <th>Input.run_type</th>\n",
       "      <th>Answer.semantic-similarity.label</th>\n",
       "      <th>Approve</th>\n",
       "      <th>Reject</th>\n",
       "    </tr>\n",
       "  </thead>\n",
       "  <tbody>\n",
       "    <tr>\n",
       "      <th>0</th>\n",
       "      <td>302OLP89DZ7KHAHC09NLDJXQL03ACI</td>\n",
       "      <td>3I7X2GF4HITNMQNSI4TO4GC73O3RHH</td>\n",
       "      <td>Does changing from text1 to text2 preserve mea...</td>\n",
       "      <td>Compare two short pieces of English text and d...</td>\n",
       "      <td>meaning, semantic, similarity, text</td>\n",
       "      <td>$0.05</td>\n",
       "      <td>Sat Dec 07 11:25:03 PST 2019</td>\n",
       "      <td>10</td>\n",
       "      <td>BatchId:3862077;OriginalHitTemplateId:928390905;</td>\n",
       "      <td>180</td>\n",
       "      <td>...</td>\n",
       "      <td>0.987581</td>\n",
       "      <td>imdb</td>\n",
       "      <td>0</td>\n",
       "      <td>oh dear, oh dear! what were they thinking of ?...</td>\n",
       "      <td>1</td>\n",
       "      <td>oh dear, oh dear! what were they thinking of ?...</td>\n",
       "      <td>jin</td>\n",
       "      <td>Agree</td>\n",
       "      <td>NaN</td>\n",
       "      <td>NaN</td>\n",
       "    </tr>\n",
       "    <tr>\n",
       "      <th>1</th>\n",
       "      <td>302OLP89DZ7KHAHC09NLDJXQL03ACI</td>\n",
       "      <td>3I7X2GF4HITNMQNSI4TO4GC73O3RHH</td>\n",
       "      <td>Does changing from text1 to text2 preserve mea...</td>\n",
       "      <td>Compare two short pieces of English text and d...</td>\n",
       "      <td>meaning, semantic, similarity, text</td>\n",
       "      <td>$0.05</td>\n",
       "      <td>Sat Dec 07 11:25:03 PST 2019</td>\n",
       "      <td>10</td>\n",
       "      <td>BatchId:3862077;OriginalHitTemplateId:928390905;</td>\n",
       "      <td>180</td>\n",
       "      <td>...</td>\n",
       "      <td>0.987581</td>\n",
       "      <td>imdb</td>\n",
       "      <td>0</td>\n",
       "      <td>oh dear, oh dear! what were they thinking of ?...</td>\n",
       "      <td>1</td>\n",
       "      <td>oh dear, oh dear! what were they thinking of ?...</td>\n",
       "      <td>jin</td>\n",
       "      <td>Agree</td>\n",
       "      <td>NaN</td>\n",
       "      <td>NaN</td>\n",
       "    </tr>\n",
       "    <tr>\n",
       "      <th>2</th>\n",
       "      <td>302OLP89DZ7KHAHC09NLDJXQL03ACI</td>\n",
       "      <td>3I7X2GF4HITNMQNSI4TO4GC73O3RHH</td>\n",
       "      <td>Does changing from text1 to text2 preserve mea...</td>\n",
       "      <td>Compare two short pieces of English text and d...</td>\n",
       "      <td>meaning, semantic, similarity, text</td>\n",
       "      <td>$0.05</td>\n",
       "      <td>Sat Dec 07 11:25:03 PST 2019</td>\n",
       "      <td>10</td>\n",
       "      <td>BatchId:3862077;OriginalHitTemplateId:928390905;</td>\n",
       "      <td>180</td>\n",
       "      <td>...</td>\n",
       "      <td>0.987581</td>\n",
       "      <td>imdb</td>\n",
       "      <td>0</td>\n",
       "      <td>oh dear, oh dear! what were they thinking of ?...</td>\n",
       "      <td>1</td>\n",
       "      <td>oh dear, oh dear! what were they thinking of ?...</td>\n",
       "      <td>jin</td>\n",
       "      <td>Agree</td>\n",
       "      <td>NaN</td>\n",
       "      <td>NaN</td>\n",
       "    </tr>\n",
       "    <tr>\n",
       "      <th>3</th>\n",
       "      <td>302OLP89DZ7KHAHC09NLDJXQL03ACI</td>\n",
       "      <td>3I7X2GF4HITNMQNSI4TO4GC73O3RHH</td>\n",
       "      <td>Does changing from text1 to text2 preserve mea...</td>\n",
       "      <td>Compare two short pieces of English text and d...</td>\n",
       "      <td>meaning, semantic, similarity, text</td>\n",
       "      <td>$0.05</td>\n",
       "      <td>Sat Dec 07 11:25:03 PST 2019</td>\n",
       "      <td>10</td>\n",
       "      <td>BatchId:3862077;OriginalHitTemplateId:928390905;</td>\n",
       "      <td>180</td>\n",
       "      <td>...</td>\n",
       "      <td>0.987581</td>\n",
       "      <td>imdb</td>\n",
       "      <td>0</td>\n",
       "      <td>oh dear, oh dear! what were they thinking of ?...</td>\n",
       "      <td>1</td>\n",
       "      <td>oh dear, oh dear! what were they thinking of ?...</td>\n",
       "      <td>jin</td>\n",
       "      <td>Agree</td>\n",
       "      <td>NaN</td>\n",
       "      <td>NaN</td>\n",
       "    </tr>\n",
       "    <tr>\n",
       "      <th>4</th>\n",
       "      <td>302OLP89DZ7KHAHC09NLDJXQL03ACI</td>\n",
       "      <td>3I7X2GF4HITNMQNSI4TO4GC73O3RHH</td>\n",
       "      <td>Does changing from text1 to text2 preserve mea...</td>\n",
       "      <td>Compare two short pieces of English text and d...</td>\n",
       "      <td>meaning, semantic, similarity, text</td>\n",
       "      <td>$0.05</td>\n",
       "      <td>Sat Dec 07 11:25:03 PST 2019</td>\n",
       "      <td>10</td>\n",
       "      <td>BatchId:3862077;OriginalHitTemplateId:928390905;</td>\n",
       "      <td>180</td>\n",
       "      <td>...</td>\n",
       "      <td>0.987581</td>\n",
       "      <td>imdb</td>\n",
       "      <td>0</td>\n",
       "      <td>oh dear, oh dear! what were they thinking of ?...</td>\n",
       "      <td>1</td>\n",
       "      <td>oh dear, oh dear! what were they thinking of ?...</td>\n",
       "      <td>jin</td>\n",
       "      <td>Agree</td>\n",
       "      <td>NaN</td>\n",
       "      <td>NaN</td>\n",
       "    </tr>\n",
       "  </tbody>\n",
       "</table>\n",
       "<p>5 rows × 37 columns</p>\n",
       "</div>"
      ],
      "text/plain": [
       "                            HITId                       HITTypeId  \\\n",
       "0  302OLP89DZ7KHAHC09NLDJXQL03ACI  3I7X2GF4HITNMQNSI4TO4GC73O3RHH   \n",
       "1  302OLP89DZ7KHAHC09NLDJXQL03ACI  3I7X2GF4HITNMQNSI4TO4GC73O3RHH   \n",
       "2  302OLP89DZ7KHAHC09NLDJXQL03ACI  3I7X2GF4HITNMQNSI4TO4GC73O3RHH   \n",
       "3  302OLP89DZ7KHAHC09NLDJXQL03ACI  3I7X2GF4HITNMQNSI4TO4GC73O3RHH   \n",
       "4  302OLP89DZ7KHAHC09NLDJXQL03ACI  3I7X2GF4HITNMQNSI4TO4GC73O3RHH   \n",
       "\n",
       "                                               Title  \\\n",
       "0  Does changing from text1 to text2 preserve mea...   \n",
       "1  Does changing from text1 to text2 preserve mea...   \n",
       "2  Does changing from text1 to text2 preserve mea...   \n",
       "3  Does changing from text1 to text2 preserve mea...   \n",
       "4  Does changing from text1 to text2 preserve mea...   \n",
       "\n",
       "                                         Description  \\\n",
       "0  Compare two short pieces of English text and d...   \n",
       "1  Compare two short pieces of English text and d...   \n",
       "2  Compare two short pieces of English text and d...   \n",
       "3  Compare two short pieces of English text and d...   \n",
       "4  Compare two short pieces of English text and d...   \n",
       "\n",
       "                              Keywords Reward                  CreationTime  \\\n",
       "0  meaning, semantic, similarity, text  $0.05  Sat Dec 07 11:25:03 PST 2019   \n",
       "1  meaning, semantic, similarity, text  $0.05  Sat Dec 07 11:25:03 PST 2019   \n",
       "2  meaning, semantic, similarity, text  $0.05  Sat Dec 07 11:25:03 PST 2019   \n",
       "3  meaning, semantic, similarity, text  $0.05  Sat Dec 07 11:25:03 PST 2019   \n",
       "4  meaning, semantic, similarity, text  $0.05  Sat Dec 07 11:25:03 PST 2019   \n",
       "\n",
       "   MaxAssignments                               RequesterAnnotation  \\\n",
       "0              10  BatchId:3862077;OriginalHitTemplateId:928390905;   \n",
       "1              10  BatchId:3862077;OriginalHitTemplateId:928390905;   \n",
       "2              10  BatchId:3862077;OriginalHitTemplateId:928390905;   \n",
       "3              10  BatchId:3862077;OriginalHitTemplateId:928390905;   \n",
       "4              10  BatchId:3862077;OriginalHitTemplateId:928390905;   \n",
       "\n",
       "   AssignmentDurationInSeconds  ...  Input.USE_similarity Input.dataset  \\\n",
       "0                          180  ...              0.987581          imdb   \n",
       "1                          180  ...              0.987581          imdb   \n",
       "2                          180  ...              0.987581          imdb   \n",
       "3                          180  ...              0.987581          imdb   \n",
       "4                          180  ...              0.987581          imdb   \n",
       "\n",
       "   Input.original_class                                        Input.text1  \\\n",
       "0                     0  oh dear, oh dear! what were they thinking of ?...   \n",
       "1                     0  oh dear, oh dear! what were they thinking of ?...   \n",
       "2                     0  oh dear, oh dear! what were they thinking of ?...   \n",
       "3                     0  oh dear, oh dear! what were they thinking of ?...   \n",
       "4                     0  oh dear, oh dear! what were they thinking of ?...   \n",
       "\n",
       "  Input.perturbed_class                                        Input.text2  \\\n",
       "0                     1  oh dear, oh dear! what were they thinking of ?...   \n",
       "1                     1  oh dear, oh dear! what were they thinking of ?...   \n",
       "2                     1  oh dear, oh dear! what were they thinking of ?...   \n",
       "3                     1  oh dear, oh dear! what were they thinking of ?...   \n",
       "4                     1  oh dear, oh dear! what were they thinking of ?...   \n",
       "\n",
       "  Input.run_type Answer.semantic-similarity.label Approve Reject  \n",
       "0            jin                            Agree     NaN    NaN  \n",
       "1            jin                            Agree     NaN    NaN  \n",
       "2            jin                            Agree     NaN    NaN  \n",
       "3            jin                            Agree     NaN    NaN  \n",
       "4            jin                            Agree     NaN    NaN  \n",
       "\n",
       "[5 rows x 37 columns]"
      ]
     },
     "execution_count": 5,
     "metadata": {},
     "output_type": "execute_result"
    }
   ],
   "source": [
    "df.head()"
   ]
  },
  {
   "cell_type": "code",
   "execution_count": 6,
   "metadata": {
    "collapsed": true
   },
   "outputs": [],
   "source": [
    "label_map = { 'Strongly Agree': 5, 'Agree': 4, 'Not sure': 3, 'Disagree': 2, 'Strongly Disagree': 1}\n",
    "df['label'] = df['Answer.semantic-similarity.label'].map(lambda s: label_map[s])"
   ]
  },
  {
   "cell_type": "code",
   "execution_count": 8,
   "metadata": {},
   "outputs": [
    {
     "data": {
      "text/plain": [
       "3.13225"
      ]
     },
     "execution_count": 8,
     "metadata": {},
     "output_type": "execute_result"
    }
   ],
   "source": [
    "df['label'].mean()"
   ]
  },
  {
   "cell_type": "code",
   "execution_count": 9,
   "metadata": {},
   "outputs": [
    {
     "data": {
      "text/plain": [
       "Index(['HITId', 'HITTypeId', 'Title', 'Description', 'Keywords', 'Reward',\n",
       "       'CreationTime', 'MaxAssignments', 'RequesterAnnotation',\n",
       "       'AssignmentDurationInSeconds', 'AutoApprovalDelayInSeconds',\n",
       "       'Expiration', 'NumberOfSimilarHITs', 'LifetimeInSeconds',\n",
       "       'AssignmentId', 'WorkerId', 'AssignmentStatus', 'AcceptTime',\n",
       "       'SubmitTime', 'AutoApprovalTime', 'ApprovalTime', 'RejectionTime',\n",
       "       'RequesterFeedback', 'WorkTimeInSeconds', 'LifetimeApprovalRate',\n",
       "       'Last30DaysApprovalRate', 'Last7DaysApprovalRate',\n",
       "       'Input.USE_similarity', 'Input.dataset', 'Input.original_class',\n",
       "       'Input.text1', 'Input.perturbed_class', 'Input.text2', 'Input.run_type',\n",
       "       'Answer.semantic-similarity.label', 'Approve', 'Reject', 'label'],\n",
       "      dtype='object')"
      ]
     },
     "execution_count": 9,
     "metadata": {},
     "output_type": "execute_result"
    }
   ],
   "source": [
    "df.columns"
   ]
  },
  {
   "cell_type": "code",
   "execution_count": 10,
   "metadata": {},
   "outputs": [
    {
     "data": {
      "text/plain": [
       "Input.run_type\n",
       "alzantot    2.695\n",
       "jin         3.278\n",
       "Name: label, dtype: float64"
      ]
     },
     "execution_count": 10,
     "metadata": {},
     "output_type": "execute_result"
    }
   ],
   "source": [
    "df.groupby('Input.run_type')['label'].mean()"
   ]
  },
  {
   "cell_type": "code",
   "execution_count": 16,
   "metadata": {},
   "outputs": [
    {
     "data": {
      "text/plain": [
       "array(['imdb', 'movie_review', 'yelp_polarity'], dtype=object)"
      ]
     },
     "execution_count": 16,
     "metadata": {},
     "output_type": "execute_result"
    }
   ],
   "source": [
    "df['Input.dataset'].unique()"
   ]
  },
  {
   "cell_type": "code",
   "execution_count": 17,
   "metadata": {
    "collapsed": true
   },
   "outputs": [],
   "source": [
    "mr_df = df[df['Input.dataset'] == 'movie_review']"
   ]
  },
  {
   "cell_type": "code",
   "execution_count": 23,
   "metadata": {},
   "outputs": [
    {
     "name": "stderr",
     "output_type": "stream",
     "text": [
      "/u/edl9cy/.conda/envs/text-attack/lib/python3.7/site-packages/ipykernel_launcher.py:1: FutureWarning: Interpreting tuple 'by' as a list of keys, rather than a single key. Use 'by=[...]' instead of 'by=(...)'. In the future, a tuple will always mean a single key.\n",
      "  \"\"\"Entry point for launching an IPython kernel.\n"
     ]
    },
    {
     "data": {
      "text/plain": [
       "Input.text1                                                                                                                                                                                                                 Input.text2                                                                                                                                                                                                                        \n",
       "merely as a technical, logistical feat, russian ark marks a cinematic milestone                                                                                                                                             merely as a technical, logistical feat, ruble cra brands a scorsese milestones                                                                                                                                                         1.8\n",
       "the new film of anton chekhov's the cherry orchard puts the 'ick' in 'classic '                                                                                                                                             the innovative film of anton gorky's the cherry orchard puts the 'ick' in 'classic '                                                                                                                                                   1.9\n",
       "i found the movie as divided against itself as the dysfunctional family it portrays                                                                                                                                         i proved the movie as shared against itself as the dysfunctional family it portrays                                                                                                                                                    2.2\n",
       "like life on the island, the movie grows boring despite the scenery                                                                                                                                                         like life on the island, the photographer grows infuriating despite the scenery                                                                                                                                                        2.2\n",
       "the sweetest thing leaves a bitter taste                                                                                                                                                                                    the sweetest aspect foils a bitter taste                                                                                                                                                                                               2.3\n",
       "knows how to make our imagination wonder                                                                                                                                                                                    fathom how to doing our notions wonder                                                                                                                                                                                                 2.3\n",
       "one can't deny its seriousness and quality                                                                                                                                                                                  one can't repulsed its seriousness and qualifications                                                                                                                                                                                  2.4\n",
       "para hitler, o mundo era sua tela e o horror, seu pincel e max retrata este fato com elegante abandono, numa triste constata o da realidade hist rica                                                                       para hitler, o mundo era sua tela e o horror, seu pincel e max retrata este fato coms elegante abandono, numa distressing constata o solicitors realidade hist storied                                                                 2.4\n",
       "staggers between flaccid satire and what is supposed to be madcap farce                                                                                                                                                     staggers between jar wry and what is suspicions to happen wacky hilarity                                                                                                                                                               2.4\n",
       "flat, misguided comedy                                                                                                                                                                                                      flat, inordinate funny                                                                                                                                                                                                                 2.4\n",
       "never having seen the first two films in the series, i can't compare friday after next to them, but nothing would change the fact that what we have here is a load of clams left in the broiling sun for a good three days  never having seen the first two cinema in the series, i can't compares friday after next to them, but nothing would change the makes that what we have here is a brunt of clams exit in the simmering sunshine for a good two times    2.5\n",
       "the series' message about making the right choice in the face of tempting alternatives remains prominent, as do the girls' amusing personalities                                                                            the series' message about making the right choice in the face of tempting alternatives remains unsolved, as do the girls' amusing personalities                                                                                        2.5\n",
       "jagger, stoppard and director michael apted deliver a riveting and surprisingly romantic ride                                                                                                                               jagger, stoppard and director michael apted deliver a baffling and surprisingly sappy motorbike                                                                                                                                        2.5\n",
       "what could have been a pointed little chiller about the frightening seductiveness of new technology loses faith in its own viability and succumbs to joyless special effects excess                                         what could am been a noted scant chiller about the frightening seductiveness of new technologies looses religiously in its individually solidity and tempts to joyless special effect superior                                         2.5\n",
       "a thriller without a lot of thrills                                                                                                                                                                                         a engrossing without a fate of euphoria                                                                                                                                                                                                2.6\n",
       "roman polanski's autobiographical gesture at redemption is better than 'shindler's list' it is more than merely a holocaust movie                                                                                           roman polanski's prose signals at cashed is better than 'shindler's list' it is more than merely a auschwitz movie                                                                                                                     2.6\n",
       "holm does his sly, intricate magic, and iben hjelje is entirely appealing as pumpkin                                                                                                                                        holm does his sly, problematic magical, and iben hjelje is entirely appeals as pumpkin                                                                                                                                                 2.7\n",
       "an instantly forgettable snow and stuntwork extravaganza that likely will be upstaged by an avalanche of more appealing holiday season product                                                                              an effortlessly prosaic snow and stuntwork extravaganza that conceivably eagerness viens upstaged by an avalanche of more captivating holiday season goods                                                                             2.7\n",
       "as giddy and whimsical and relevant today as it was 270 years ago                                                                                                                                                           as giddy and whimsical and relevant yesterday as it was 270 aging ago                                                                                                                                                                  2.7\n",
       "a hypnotic cyber hymn and a cruel story of youth culture                                                                                                                                                                    a soporific web hymn and a cruel storybooks of minors cropping                                                                                                                                                                         2.7\n",
       "Name: label, dtype: float64"
      ]
     },
     "execution_count": 23,
     "metadata": {},
     "output_type": "execute_result"
    }
   ],
   "source": [
    "mr_df.groupby(('Input.text1','Input.text2'))['label'].mean().sort_values().head(n=20)"
   ]
  },
  {
   "cell_type": "code",
   "execution_count": null,
   "metadata": {
    "collapsed": true
   },
   "outputs": [],
   "source": []
  }
 ],
 "metadata": {
  "kernelspec": {
   "display_name": "Python 3",
   "language": "python",
   "name": "python3"
  },
  "language_info": {
   "codemirror_mode": {
    "name": "ipython",
    "version": 3
   },
   "file_extension": ".py",
   "mimetype": "text/x-python",
   "name": "python",
   "nbconvert_exporter": "python",
   "pygments_lexer": "ipython3",
   "version": "3.6.3"
  }
 },
 "nbformat": 4,
 "nbformat_minor": 2
}
