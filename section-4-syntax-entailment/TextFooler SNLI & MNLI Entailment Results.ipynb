{
 "cells": [
  {
   "cell_type": "code",
   "execution_count": 1,
   "metadata": {},
   "outputs": [],
   "source": [
    "SNLI_PATH = '/p/qdata/jm8wx/research_OLD/TextFooler_adv_results/snli_bert'\n",
    "\n",
    "MNLI_PATH = '/p/qdata/jm8wx/research_OLD/TextFooler_adv_results/mnli_matched_bert'"
   ]
  },
  {
   "cell_type": "code",
   "execution_count": 2,
   "metadata": {},
   "outputs": [],
   "source": [
    "import language_check"
   ]
  },
  {
   "cell_type": "code",
   "execution_count": 4,
   "metadata": {},
   "outputs": [],
   "source": [
    "lang_tool = language_check.LanguageTool(\"en-US\")"
   ]
  },
  {
   "cell_type": "code",
   "execution_count": 37,
   "metadata": {},
   "outputs": [],
   "source": [
    "def count_grammar_errors(text):\n",
    "        return len(lang_tool.check(text))"
   ]
  },
  {
   "cell_type": "code",
   "execution_count": 51,
   "metadata": {},
   "outputs": [],
   "source": [
    "import pandas as pd\n",
    "\n",
    "def df_from_tf_output(filename, join_orig_hypot=False):\n",
    "    lines = open(filename).readlines()\n",
    "    i = 0\n",
    "    objects = []\n",
    "    print(len(lines), 'lines')\n",
    "    while i < len(lines):\n",
    "        original_premise = lines[i].split('\\t')[1].strip()\n",
    "        i += 1\n",
    "        original_hypothesis = lines[i].split('\\t')[1].strip()\n",
    "        if join_orig_hypot: # if true, orig hypothesis is a list of tokens; join w spaces\n",
    "            original_hypothesis = ' '.join(eval(original_hypothesis))\n",
    "        i += 1\n",
    "        adv_hypothesis = lines[i].split('\\t')[1].strip()\n",
    "        i += 2\n",
    "        obj = { \n",
    "            'original_premise': original_premise , \n",
    "            'original_hypothesis': original_hypothesis, \n",
    "            'adv_hypothesis': adv_hypothesis\n",
    "         }\n",
    "        objects.append( obj )\n",
    "    return pd.DataFrame(objects)"
   ]
  },
  {
   "cell_type": "code",
   "execution_count": 52,
   "metadata": {},
   "outputs": [
    {
     "name": "stdout",
     "output_type": "stream",
     "text": [
      "3316 lines\n"
     ]
    },
    {
     "data": {
      "text/html": [
       "<div>\n",
       "<style scoped>\n",
       "    .dataframe tbody tr th:only-of-type {\n",
       "        vertical-align: middle;\n",
       "    }\n",
       "\n",
       "    .dataframe tbody tr th {\n",
       "        vertical-align: top;\n",
       "    }\n",
       "\n",
       "    .dataframe thead th {\n",
       "        text-align: right;\n",
       "    }\n",
       "</style>\n",
       "<table border=\"1\" class=\"dataframe\">\n",
       "  <thead>\n",
       "    <tr style=\"text-align: right;\">\n",
       "      <th></th>\n",
       "      <th>original_premise</th>\n",
       "      <th>original_hypothesis</th>\n",
       "      <th>adv_hypothesis</th>\n",
       "    </tr>\n",
       "  </thead>\n",
       "  <tbody>\n",
       "    <tr>\n",
       "      <th>0</th>\n",
       "      <td>A person in a black and green outfit is riding...</td>\n",
       "      <td>a colorfully dressed child rides a bike</td>\n",
       "      <td>a colorfully robed child rides a bike</td>\n",
       "    </tr>\n",
       "    <tr>\n",
       "      <th>1</th>\n",
       "      <td>A person rolls down a hill riding a wagon as a...</td>\n",
       "      <td>A child in a wagon rolls down a hill .</td>\n",
       "      <td>A baby in a wagon rolls down a hill .</td>\n",
       "    </tr>\n",
       "    <tr>\n",
       "      <th>2</th>\n",
       "      <td>A man in a black tank top wearing a red plaid hat</td>\n",
       "      <td>A man wearing football pads .</td>\n",
       "      <td>A man haven calcium cloths .</td>\n",
       "    </tr>\n",
       "    <tr>\n",
       "      <th>3</th>\n",
       "      <td>Families with strollers waiting in front of a ...</td>\n",
       "      <td>Families have some dogs in front of a carousel</td>\n",
       "      <td>Families have some pup in front of a carousel</td>\n",
       "    </tr>\n",
       "    <tr>\n",
       "      <th>4</th>\n",
       "      <td>A person with dark hair in a white shirt is si...</td>\n",
       "      <td>a person is relaxing on his day off</td>\n",
       "      <td>a person is relieve on his zi off</td>\n",
       "    </tr>\n",
       "  </tbody>\n",
       "</table>\n",
       "</div>"
      ],
      "text/plain": [
       "                                    original_premise  \\\n",
       "0  A person in a black and green outfit is riding...   \n",
       "1  A person rolls down a hill riding a wagon as a...   \n",
       "2  A man in a black tank top wearing a red plaid hat   \n",
       "3  Families with strollers waiting in front of a ...   \n",
       "4  A person with dark hair in a white shirt is si...   \n",
       "\n",
       "                              original_hypothesis  \\\n",
       "0         a colorfully dressed child rides a bike   \n",
       "1          A child in a wagon rolls down a hill .   \n",
       "2                   A man wearing football pads .   \n",
       "3  Families have some dogs in front of a carousel   \n",
       "4             a person is relaxing on his day off   \n",
       "\n",
       "                                  adv_hypothesis  \n",
       "0          a colorfully robed child rides a bike  \n",
       "1          A baby in a wagon rolls down a hill .  \n",
       "2                   A man haven calcium cloths .  \n",
       "3  Families have some pup in front of a carousel  \n",
       "4              a person is relieve on his zi off  "
      ]
     },
     "execution_count": 52,
     "metadata": {},
     "output_type": "execute_result"
    }
   ],
   "source": [
    "SNLI_DF = df_from_tf_output(SNLI_PATH)\n",
    "SNLI_DF.head()"
   ]
  },
  {
   "cell_type": "code",
   "execution_count": 34,
   "metadata": {},
   "outputs": [
    {
     "name": "stderr",
     "output_type": "stream",
     "text": [
      "/u/jm8wx/.conda/envs/torch/lib/python3.7/site-packages/tqdm/std.py:666: FutureWarning: The Panel class is removed from pandas. Accessing it from the top-level namespace will also be removed in the next version\n",
      "  from pandas import Panel\n"
     ]
    }
   ],
   "source": [
    "import tqdm; tqdm.tqdm.pandas()"
   ]
  },
  {
   "cell_type": "code",
   "execution_count": 38,
   "metadata": {},
   "outputs": [
    {
     "name": "stderr",
     "output_type": "stream",
     "text": [
      "100%|██████████| 829/829 [00:13<00:00, 59.89it/s]\n",
      "100%|██████████| 829/829 [00:09<00:00, 86.09it/s] \n"
     ]
    }
   ],
   "source": [
    "SNLI_DF['original_hypothesis_errors'] = SNLI_DF['original_hypothesis'].progress_map(count_grammar_errors)\n",
    "SNLI_DF['adv_hypothesis_errors'] = SNLI_DF['adv_hypothesis'].progress_map(count_grammar_errors)"
   ]
  },
  {
   "cell_type": "code",
   "execution_count": 46,
   "metadata": {},
   "outputs": [
    {
     "data": {
      "text/plain": [
       "0.26417370325693607"
      ]
     },
     "execution_count": 46,
     "metadata": {},
     "output_type": "execute_result"
    }
   ],
   "source": [
    "(SNLI_DF['adv_hypothesis_errors'] > SNLI_DF['original_hypothesis_errors']).sum() / len(SNLI_DF)"
   ]
  },
  {
   "cell_type": "code",
   "execution_count": 53,
   "metadata": {},
   "outputs": [
    {
     "name": "stderr",
     "output_type": "stream",
     "text": [
      "  1%|          | 7/755 [00:00<00:11, 62.98it/s]"
     ]
    },
    {
     "name": "stdout",
     "output_type": "stream",
     "text": [
      "3020 lines\n"
     ]
    },
    {
     "name": "stderr",
     "output_type": "stream",
     "text": [
      "100%|██████████| 755/755 [00:10<00:00, 74.48it/s] \n",
      "100%|██████████| 755/755 [00:12<00:00, 59.15it/s]\n"
     ]
    },
    {
     "data": {
      "text/html": [
       "<div>\n",
       "<style scoped>\n",
       "    .dataframe tbody tr th:only-of-type {\n",
       "        vertical-align: middle;\n",
       "    }\n",
       "\n",
       "    .dataframe tbody tr th {\n",
       "        vertical-align: top;\n",
       "    }\n",
       "\n",
       "    .dataframe thead th {\n",
       "        text-align: right;\n",
       "    }\n",
       "</style>\n",
       "<table border=\"1\" class=\"dataframe\">\n",
       "  <thead>\n",
       "    <tr style=\"text-align: right;\">\n",
       "      <th></th>\n",
       "      <th>original_premise</th>\n",
       "      <th>original_hypothesis</th>\n",
       "      <th>adv_hypothesis</th>\n",
       "      <th>original_hypothesis_errors</th>\n",
       "      <th>adv_hypothesis_errors</th>\n",
       "    </tr>\n",
       "  </thead>\n",
       "  <tbody>\n",
       "    <tr>\n",
       "      <th>0</th>\n",
       "      <td>In Temple Bar , the bookshop at the Gallery of...</td>\n",
       "      <td>There is a bookshop at the gallery .</td>\n",
       "      <td>There is a librarians at the gallery .</td>\n",
       "      <td>1</td>\n",
       "      <td>3</td>\n",
       "    </tr>\n",
       "    <tr>\n",
       "      <th>1</th>\n",
       "      <td>On Naxos , you can walk through the pretty vil...</td>\n",
       "      <td>Naxos is a place with beautiful scenery for le...</td>\n",
       "      <td>Naxos is a place with beautiful scenery for pa...</td>\n",
       "      <td>2</td>\n",
       "      <td>2</td>\n",
       "    </tr>\n",
       "    <tr>\n",
       "      <th>2</th>\n",
       "      <td>Expenses included in calculating net cost for ...</td>\n",
       "      <td>Net cost for education programs can be calcula...</td>\n",
       "      <td>Net cost for education programs can be calcula...</td>\n",
       "      <td>1</td>\n",
       "      <td>2</td>\n",
       "    </tr>\n",
       "    <tr>\n",
       "      <th>3</th>\n",
       "      <td>But the real dirty work had already been done .</td>\n",
       "      <td>There was still lots of dirty work left to be ...</td>\n",
       "      <td>There was equally lots of dirty work left to b...</td>\n",
       "      <td>1</td>\n",
       "      <td>1</td>\n",
       "    </tr>\n",
       "    <tr>\n",
       "      <th>4</th>\n",
       "      <td>I was pulled into the bar .</td>\n",
       "      <td>I managed to escape their grasp and ran just o...</td>\n",
       "      <td>I managed to jailbreak their grasp and ran jus...</td>\n",
       "      <td>1</td>\n",
       "      <td>1</td>\n",
       "    </tr>\n",
       "  </tbody>\n",
       "</table>\n",
       "</div>"
      ],
      "text/plain": [
       "                                    original_premise  \\\n",
       "0  In Temple Bar , the bookshop at the Gallery of...   \n",
       "1  On Naxos , you can walk through the pretty vil...   \n",
       "2  Expenses included in calculating net cost for ...   \n",
       "3    But the real dirty work had already been done .   \n",
       "4                        I was pulled into the bar .   \n",
       "\n",
       "                                 original_hypothesis  \\\n",
       "0               There is a bookshop at the gallery .   \n",
       "1  Naxos is a place with beautiful scenery for le...   \n",
       "2  Net cost for education programs can be calcula...   \n",
       "3  There was still lots of dirty work left to be ...   \n",
       "4  I managed to escape their grasp and ran just o...   \n",
       "\n",
       "                                      adv_hypothesis  \\\n",
       "0             There is a librarians at the gallery .   \n",
       "1  Naxos is a place with beautiful scenery for pa...   \n",
       "2  Net cost for education programs can be calcula...   \n",
       "3  There was equally lots of dirty work left to b...   \n",
       "4  I managed to jailbreak their grasp and ran jus...   \n",
       "\n",
       "   original_hypothesis_errors  adv_hypothesis_errors  \n",
       "0                           1                      3  \n",
       "1                           2                      2  \n",
       "2                           1                      2  \n",
       "3                           1                      1  \n",
       "4                           1                      1  "
      ]
     },
     "execution_count": 53,
     "metadata": {},
     "output_type": "execute_result"
    }
   ],
   "source": [
    "MNLI_DF = df_from_tf_output(MNLI_PATH, join_orig_hypot=True)\n",
    "\n",
    "MNLI_DF['original_hypothesis_errors'] = MNLI_DF['original_hypothesis'].progress_map(count_grammar_errors)\n",
    "MNLI_DF['adv_hypothesis_errors'] = MNLI_DF['adv_hypothesis'].progress_map(count_grammar_errors)\n",
    "\n",
    "MNLI_DF.head()"
   ]
  },
  {
   "cell_type": "code",
   "execution_count": 54,
   "metadata": {},
   "outputs": [
    {
     "data": {
      "text/plain": [
       "0.21059602649006623"
      ]
     },
     "execution_count": 54,
     "metadata": {},
     "output_type": "execute_result"
    }
   ],
   "source": [
    "(MNLI_DF['adv_hypothesis_errors'] > MNLI_DF['original_hypothesis_errors']).sum() / len(MNLI_DF)"
   ]
  },
  {
   "cell_type": "code",
   "execution_count": 50,
   "metadata": {},
   "outputs": [
    {
     "data": {
      "text/plain": [
       "['orig premise:\\tIn Temple Bar , the bookshop at the Gallery of Photography carries a large selection of photographic publications , and the Flying Pig is a secondhand bookshop .\\n',\n",
       " \"orig hypothesis:\\t['There', 'is', 'a', 'bookshop', 'at', 'the', 'gallery', '.']\\n\",\n",
       " 'adv hypothesis:\\tThere is a librarians at the gallery .\\n',\n",
       " '\\n']"
      ]
     },
     "execution_count": 50,
     "metadata": {},
     "output_type": "execute_result"
    }
   ],
   "source": [
    "open(MNLI_PATH).readlines()[:4]"
   ]
  },
  {
   "cell_type": "code",
   "execution_count": null,
   "metadata": {},
   "outputs": [],
   "source": []
  }
 ],
 "metadata": {
  "kernelspec": {
   "display_name": "torch",
   "language": "python",
   "name": "build_central"
  },
  "language_info": {
   "codemirror_mode": {
    "name": "ipython",
    "version": 3
   },
   "file_extension": ".py",
   "mimetype": "text/x-python",
   "name": "python",
   "nbconvert_exporter": "python",
   "pygments_lexer": "ipython3",
   "version": "3.7.7"
  }
 },
 "nbformat": 4,
 "nbformat_minor": 4
}
