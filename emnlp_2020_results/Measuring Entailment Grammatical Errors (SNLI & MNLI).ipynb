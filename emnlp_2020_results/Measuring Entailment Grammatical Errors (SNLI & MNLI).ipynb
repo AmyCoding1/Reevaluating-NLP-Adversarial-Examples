{
 "cells": [
  {
   "cell_type": "markdown",
   "metadata": {},
   "source": [
    "## Grammar checking\n",
    "\n",
    "I'm trying to compute the grammatical error before % for MNLI and SNLI results using the textfooler attack. \n",
    "\n",
    "**SNLI CSV path**: `/p/qdata/jm8wx/research/text_attacks/textattack/scripts/../outputs/attack-1581961069915.csv`\n",
    "\n",
    "**MNLI CSV path**: `/p/qdata/jm8wx/research/text_attacks/textattack/scripts/../outputs/attack-1581961847619.csv` "
   ]
  },
  {
   "cell_type": "code",
   "execution_count": 5,
   "metadata": {},
   "outputs": [
    {
     "data": {
      "text/html": [
       "<div>\n",
       "<style scoped>\n",
       "    .dataframe tbody tr th:only-of-type {\n",
       "        vertical-align: middle;\n",
       "    }\n",
       "\n",
       "    .dataframe tbody tr th {\n",
       "        vertical-align: top;\n",
       "    }\n",
       "\n",
       "    .dataframe thead th {\n",
       "        text-align: right;\n",
       "    }\n",
       "</style>\n",
       "<table border=\"1\" class=\"dataframe\">\n",
       "  <thead>\n",
       "    <tr style=\"text-align: right;\">\n",
       "      <th></th>\n",
       "      <th>label_1</th>\n",
       "      <th>label_2</th>\n",
       "      <th>passage_1</th>\n",
       "      <th>passage_2</th>\n",
       "      <th>score_1</th>\n",
       "      <th>score_2</th>\n",
       "    </tr>\n",
       "  </thead>\n",
       "  <tbody>\n",
       "    <tr>\n",
       "      <th>0</th>\n",
       "      <td>0.0</td>\n",
       "      <td>0.0</td>\n",
       "      <td>A person in a black and green outfit is riding...</td>\n",
       "      <td>A person in a black and green outfit is riding...</td>\n",
       "      <td>NaN</td>\n",
       "      <td>NaN</td>\n",
       "    </tr>\n",
       "    <tr>\n",
       "      <th>1</th>\n",
       "      <td>1.0</td>\n",
       "      <td>2.0</td>\n",
       "      <td>A person rolls down a hill riding a wagon as a...</td>\n",
       "      <td>A person rolls down a hill riding a wagon as a...</td>\n",
       "      <td>0.905764</td>\n",
       "      <td>0.934774</td>\n",
       "    </tr>\n",
       "    <tr>\n",
       "      <th>2</th>\n",
       "      <td>2.0</td>\n",
       "      <td>1.0</td>\n",
       "      <td>A man in a black [[tank]] [[top]] wearing a re...</td>\n",
       "      <td>A man in a black [[container]] [[major]] weari...</td>\n",
       "      <td>0.824115</td>\n",
       "      <td>0.547622</td>\n",
       "    </tr>\n",
       "    <tr>\n",
       "      <th>3</th>\n",
       "      <td>2.0</td>\n",
       "      <td>0.0</td>\n",
       "      <td>pedestrian walking on the [[street]]\\n\\nA pers...</td>\n",
       "      <td>pedestrian walking on the [[calle]]\\n\\nA perso...</td>\n",
       "      <td>0.996155</td>\n",
       "      <td>0.812361</td>\n",
       "    </tr>\n",
       "    <tr>\n",
       "      <th>4</th>\n",
       "      <td>2.0</td>\n",
       "      <td>1.0</td>\n",
       "      <td>Families with [[strollers]] waiting in front o...</td>\n",
       "      <td>Families with [[pram]] waiting in front of a c...</td>\n",
       "      <td>0.833854</td>\n",
       "      <td>0.822400</td>\n",
       "    </tr>\n",
       "  </tbody>\n",
       "</table>\n",
       "</div>"
      ],
      "text/plain": [
       "   label_1  label_2                                          passage_1  \\\n",
       "0      0.0      0.0  A person in a black and green outfit is riding...   \n",
       "1      1.0      2.0  A person rolls down a hill riding a wagon as a...   \n",
       "2      2.0      1.0  A man in a black [[tank]] [[top]] wearing a re...   \n",
       "3      2.0      0.0  pedestrian walking on the [[street]]\\n\\nA pers...   \n",
       "4      2.0      1.0  Families with [[strollers]] waiting in front o...   \n",
       "\n",
       "                                           passage_2   score_1   score_2  \n",
       "0  A person in a black and green outfit is riding...       NaN       NaN  \n",
       "1  A person rolls down a hill riding a wagon as a...  0.905764  0.934774  \n",
       "2  A man in a black [[container]] [[major]] weari...  0.824115  0.547622  \n",
       "3  pedestrian walking on the [[calle]]\\n\\nA perso...  0.996155  0.812361  \n",
       "4  Families with [[pram]] waiting in front of a c...  0.833854  0.822400  "
      ]
     },
     "execution_count": 5,
     "metadata": {},
     "output_type": "execute_result"
    }
   ],
   "source": [
    "import pandas as pd\n",
    "SNLI_CSV_PATH = '/p/qdata/jm8wx/research/text_attacks/textattack/scripts/../outputs/attack-1581961069915.csv'\n",
    "snli_df = pd.read_csv(SNLI_CSV_PATH)\n",
    "snli_df.head()"
   ]
  },
  {
   "cell_type": "code",
   "execution_count": 1,
   "metadata": {},
   "outputs": [],
   "source": [
    "import language_check\n",
    "lang_tool = language_check.LanguageTool(\"en-US\")"
   ]
  },
  {
   "cell_type": "code",
   "execution_count": 13,
   "metadata": {},
   "outputs": [],
   "source": [
    "def count_errors(text): return len(lang_tool.check(text))"
   ]
  },
  {
   "cell_type": "code",
   "execution_count": 9,
   "metadata": {},
   "outputs": [
    {
     "data": {
      "text/html": [
       "<div>\n",
       "<style scoped>\n",
       "    .dataframe tbody tr th:only-of-type {\n",
       "        vertical-align: middle;\n",
       "    }\n",
       "\n",
       "    .dataframe tbody tr th {\n",
       "        vertical-align: top;\n",
       "    }\n",
       "\n",
       "    .dataframe thead th {\n",
       "        text-align: right;\n",
       "    }\n",
       "</style>\n",
       "<table border=\"1\" class=\"dataframe\">\n",
       "  <thead>\n",
       "    <tr style=\"text-align: right;\">\n",
       "      <th></th>\n",
       "      <th>label_1</th>\n",
       "      <th>label_2</th>\n",
       "      <th>passage_1</th>\n",
       "      <th>passage_2</th>\n",
       "      <th>score_1</th>\n",
       "      <th>score_2</th>\n",
       "    </tr>\n",
       "  </thead>\n",
       "  <tbody>\n",
       "    <tr>\n",
       "      <th>0</th>\n",
       "      <td>0.0</td>\n",
       "      <td>2.0</td>\n",
       "      <td>On Naxos , you can walk through the pretty vil...</td>\n",
       "      <td>On Naxos , you can walk through the pretty vil...</td>\n",
       "      <td>0.736450</td>\n",
       "      <td>0.929400</td>\n",
       "    </tr>\n",
       "    <tr>\n",
       "      <th>1</th>\n",
       "      <td>0.0</td>\n",
       "      <td>1.0</td>\n",
       "      <td>In Temple Bar , the bookshop at the Gallery of...</td>\n",
       "      <td>In Temple Bar , the bookshop at the Gallery of...</td>\n",
       "      <td>0.995406</td>\n",
       "      <td>0.862427</td>\n",
       "    </tr>\n",
       "    <tr>\n",
       "      <th>2</th>\n",
       "      <td>2.0</td>\n",
       "      <td>0.0</td>\n",
       "      <td>But the real dirty work had already been done ...</td>\n",
       "      <td>But the real dirty work had already been done ...</td>\n",
       "      <td>0.991133</td>\n",
       "      <td>0.949488</td>\n",
       "    </tr>\n",
       "    <tr>\n",
       "      <th>3</th>\n",
       "      <td>1.0</td>\n",
       "      <td>2.0</td>\n",
       "      <td>[[Impossible]] .\\n\\n[[Impossible]] , unless ci...</td>\n",
       "      <td>[[Impassable]] .\\n\\n[[Utopian]] , unless circu...</td>\n",
       "      <td>0.999438</td>\n",
       "      <td>0.844229</td>\n",
       "    </tr>\n",
       "    <tr>\n",
       "      <th>4</th>\n",
       "      <td>0.0</td>\n",
       "      <td>1.0</td>\n",
       "      <td>Expenses included in calculating net cost for ...</td>\n",
       "      <td>Expenses included in calculating net cost for ...</td>\n",
       "      <td>0.986872</td>\n",
       "      <td>0.984315</td>\n",
       "    </tr>\n",
       "  </tbody>\n",
       "</table>\n",
       "</div>"
      ],
      "text/plain": [
       "   label_1  label_2                                          passage_1  \\\n",
       "0      0.0      2.0  On Naxos , you can walk through the pretty vil...   \n",
       "1      0.0      1.0  In Temple Bar , the bookshop at the Gallery of...   \n",
       "2      2.0      0.0  But the real dirty work had already been done ...   \n",
       "3      1.0      2.0  [[Impossible]] .\\n\\n[[Impossible]] , unless ci...   \n",
       "4      0.0      1.0  Expenses included in calculating net cost for ...   \n",
       "\n",
       "                                           passage_2   score_1   score_2  \n",
       "0  On Naxos , you can walk through the pretty vil...  0.736450  0.929400  \n",
       "1  In Temple Bar , the bookshop at the Gallery of...  0.995406  0.862427  \n",
       "2  But the real dirty work had already been done ...  0.991133  0.949488  \n",
       "3  [[Impassable]] .\\n\\n[[Utopian]] , unless circu...  0.999438  0.844229  \n",
       "4  Expenses included in calculating net cost for ...  0.986872  0.984315  "
      ]
     },
     "execution_count": 9,
     "metadata": {},
     "output_type": "execute_result"
    }
   ],
   "source": [
    "MNLI_CSV_PATH = '/p/qdata/jm8wx/research/text_attacks/textattack/scripts/../outputs/attack-1581961847619.csv'\n",
    "mnli_df = pd.read_csv(MNLI_CSV_PATH)\n",
    "mnli_df.head()"
   ]
  },
  {
   "cell_type": "code",
   "execution_count": 14,
   "metadata": {},
   "outputs": [],
   "source": [
    "mnli_df['p1_errors'] = mnli_df['passage_1'].map(count_errors)\n",
    "mnli_df['p2_errors'] = mnli_df['passage_2'].map(count_errors)"
   ]
  },
  {
   "cell_type": "code",
   "execution_count": 30,
   "metadata": {},
   "outputs": [
    {
     "data": {
      "text/plain": [
       "217"
      ]
     },
     "execution_count": 30,
     "metadata": {},
     "output_type": "execute_result"
    }
   ],
   "source": [
    "(mnli_df['p2_errors'] > mnli_df['p1_errors']).sum()"
   ]
  },
  {
   "cell_type": "code",
   "execution_count": 26,
   "metadata": {},
   "outputs": [
    {
     "name": "stderr",
     "output_type": "stream",
     "text": [
      "/u/jm8wx/.conda/envs/newtorch/lib/python3.7/site-packages/tqdm/std.py:658: FutureWarning: The Panel class is removed from pandas. Accessing it from the top-level namespace will also be removed in the next version\n",
      "  from pandas import Panel\n",
      "100%|██████████| 958/958 [00:33<00:00, 28.32it/s]\n",
      "100%|██████████| 958/958 [00:26<00:00, 35.59it/s]\n"
     ]
    }
   ],
   "source": [
    "import tqdm\n",
    "tqdm.tqdm.pandas()\n",
    "\n",
    "snli_df['p1_errors'] = mnli_df['passage_1'].progress_map(count_errors)\n",
    "snli_df['p2_errors'] = mnli_df['passage_2'].progress_map(count_errors)"
   ]
  },
  {
   "cell_type": "code",
   "execution_count": 29,
   "metadata": {},
   "outputs": [
    {
     "data": {
      "text/plain": [
       "216"
      ]
     },
     "execution_count": 29,
     "metadata": {},
     "output_type": "execute_result"
    }
   ],
   "source": [
    "(snli_df['p2_errors'] > snli_df['p1_errors']).sum()"
   ]
  },
  {
   "cell_type": "code",
   "execution_count": null,
   "metadata": {
    "collapsed": true
   },
   "outputs": [],
   "source": []
  }
 ],
 "metadata": {
  "kernelspec": {
   "display_name": "newtorch",
   "language": "python",
   "name": "newtorch"
  },
  "language_info": {
   "codemirror_mode": {
    "name": "ipython",
    "version": 3
   },
   "file_extension": ".py",
   "mimetype": "text/x-python",
   "name": "python",
   "nbconvert_exporter": "python",
   "pygments_lexer": "ipython3",
   "version": "3.7.6"
  }
 },
 "nbformat": 4,
 "nbformat_minor": 2
}
