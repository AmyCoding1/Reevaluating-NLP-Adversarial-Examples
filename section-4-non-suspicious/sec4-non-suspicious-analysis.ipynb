{
 "cells": [
  {
   "cell_type": "code",
   "execution_count": 3,
   "metadata": {},
   "outputs": [],
   "source": [
    "import pandas as pd\n",
    "\n",
    "df = pd.read_csv('./section4-non-suspicious-results.csv')"
   ]
  },
  {
   "cell_type": "code",
   "execution_count": 4,
   "metadata": {},
   "outputs": [
    {
     "data": {
      "text/html": [
       "<div>\n",
       "<style scoped>\n",
       "    .dataframe tbody tr th:only-of-type {\n",
       "        vertical-align: middle;\n",
       "    }\n",
       "\n",
       "    .dataframe tbody tr th {\n",
       "        vertical-align: top;\n",
       "    }\n",
       "\n",
       "    .dataframe thead th {\n",
       "        text-align: right;\n",
       "    }\n",
       "</style>\n",
       "<table border=\"1\" class=\"dataframe\">\n",
       "  <thead>\n",
       "    <tr style=\"text-align: right;\">\n",
       "      <th></th>\n",
       "      <th>HITId</th>\n",
       "      <th>HITTypeId</th>\n",
       "      <th>Title</th>\n",
       "      <th>Description</th>\n",
       "      <th>Keywords</th>\n",
       "      <th>Reward</th>\n",
       "      <th>CreationTime</th>\n",
       "      <th>MaxAssignments</th>\n",
       "      <th>RequesterAnnotation</th>\n",
       "      <th>AssignmentDurationInSeconds</th>\n",
       "      <th>...</th>\n",
       "      <th>Last30DaysApprovalRate</th>\n",
       "      <th>Last7DaysApprovalRate</th>\n",
       "      <th>Input.USE_similarity</th>\n",
       "      <th>Input.dataset</th>\n",
       "      <th>Input.original</th>\n",
       "      <th>Input.run_type</th>\n",
       "      <th>Input.text</th>\n",
       "      <th>Answer.sentiment.label</th>\n",
       "      <th>Approve</th>\n",
       "      <th>Reject</th>\n",
       "    </tr>\n",
       "  </thead>\n",
       "  <tbody>\n",
       "    <tr>\n",
       "      <th>0</th>\n",
       "      <td>3XABXM4AJ15ASNYG8T421XGCSMBQ8P</td>\n",
       "      <td>32CVJ4DS80V6HN5HX91VI5H2GB2VK0</td>\n",
       "      <td>Guess reviews are real or fake</td>\n",
       "      <td>You will be randomly shown an online review fr...</td>\n",
       "      <td>real, computer_altered, text</td>\n",
       "      <td>$0.05</td>\n",
       "      <td>Sun Sep 22 14:52:21 PDT 2019</td>\n",
       "      <td>10</td>\n",
       "      <td>BatchId:3775607;OriginalHitTemplateId:928390909;</td>\n",
       "      <td>120</td>\n",
       "      <td>...</td>\n",
       "      <td>100% (200/200)</td>\n",
       "      <td>100% (200/200)</td>\n",
       "      <td>0.901939</td>\n",
       "      <td>movie_review</td>\n",
       "      <td>True</td>\n",
       "      <td>mit</td>\n",
       "      <td>though writer director bart freundlich's film ...</td>\n",
       "      <td>Real</td>\n",
       "      <td>NaN</td>\n",
       "      <td>NaN</td>\n",
       "    </tr>\n",
       "    <tr>\n",
       "      <th>1</th>\n",
       "      <td>3XABXM4AJ15ASNYG8T421XGCSMBQ8P</td>\n",
       "      <td>32CVJ4DS80V6HN5HX91VI5H2GB2VK0</td>\n",
       "      <td>Guess reviews are real or fake</td>\n",
       "      <td>You will be randomly shown an online review fr...</td>\n",
       "      <td>real, computer_altered, text</td>\n",
       "      <td>$0.05</td>\n",
       "      <td>Sun Sep 22 14:52:21 PDT 2019</td>\n",
       "      <td>10</td>\n",
       "      <td>BatchId:3775607;OriginalHitTemplateId:928390909;</td>\n",
       "      <td>120</td>\n",
       "      <td>...</td>\n",
       "      <td>100% (171/171)</td>\n",
       "      <td>100% (171/171)</td>\n",
       "      <td>0.901939</td>\n",
       "      <td>movie_review</td>\n",
       "      <td>True</td>\n",
       "      <td>mit</td>\n",
       "      <td>though writer director bart freundlich's film ...</td>\n",
       "      <td>Real</td>\n",
       "      <td>NaN</td>\n",
       "      <td>NaN</td>\n",
       "    </tr>\n",
       "    <tr>\n",
       "      <th>2</th>\n",
       "      <td>3XABXM4AJ15ASNYG8T421XGCSMBQ8P</td>\n",
       "      <td>32CVJ4DS80V6HN5HX91VI5H2GB2VK0</td>\n",
       "      <td>Guess reviews are real or fake</td>\n",
       "      <td>You will be randomly shown an online review fr...</td>\n",
       "      <td>real, computer_altered, text</td>\n",
       "      <td>$0.05</td>\n",
       "      <td>Sun Sep 22 14:52:21 PDT 2019</td>\n",
       "      <td>10</td>\n",
       "      <td>BatchId:3775607;OriginalHitTemplateId:928390909;</td>\n",
       "      <td>120</td>\n",
       "      <td>...</td>\n",
       "      <td>100% (80/80)</td>\n",
       "      <td>100% (80/80)</td>\n",
       "      <td>0.901939</td>\n",
       "      <td>movie_review</td>\n",
       "      <td>True</td>\n",
       "      <td>mit</td>\n",
       "      <td>though writer director bart freundlich's film ...</td>\n",
       "      <td>Real</td>\n",
       "      <td>NaN</td>\n",
       "      <td>NaN</td>\n",
       "    </tr>\n",
       "    <tr>\n",
       "      <th>3</th>\n",
       "      <td>3XABXM4AJ15ASNYG8T421XGCSMBQ8P</td>\n",
       "      <td>32CVJ4DS80V6HN5HX91VI5H2GB2VK0</td>\n",
       "      <td>Guess reviews are real or fake</td>\n",
       "      <td>You will be randomly shown an online review fr...</td>\n",
       "      <td>real, computer_altered, text</td>\n",
       "      <td>$0.05</td>\n",
       "      <td>Sun Sep 22 14:52:21 PDT 2019</td>\n",
       "      <td>10</td>\n",
       "      <td>BatchId:3775607;OriginalHitTemplateId:928390909;</td>\n",
       "      <td>120</td>\n",
       "      <td>...</td>\n",
       "      <td>100% (198/198)</td>\n",
       "      <td>100% (198/198)</td>\n",
       "      <td>0.901939</td>\n",
       "      <td>movie_review</td>\n",
       "      <td>True</td>\n",
       "      <td>mit</td>\n",
       "      <td>though writer director bart freundlich's film ...</td>\n",
       "      <td>Real</td>\n",
       "      <td>NaN</td>\n",
       "      <td>NaN</td>\n",
       "    </tr>\n",
       "    <tr>\n",
       "      <th>4</th>\n",
       "      <td>3XABXM4AJ15ASNYG8T421XGCSMBQ8P</td>\n",
       "      <td>32CVJ4DS80V6HN5HX91VI5H2GB2VK0</td>\n",
       "      <td>Guess reviews are real or fake</td>\n",
       "      <td>You will be randomly shown an online review fr...</td>\n",
       "      <td>real, computer_altered, text</td>\n",
       "      <td>$0.05</td>\n",
       "      <td>Sun Sep 22 14:52:21 PDT 2019</td>\n",
       "      <td>10</td>\n",
       "      <td>BatchId:3775607;OriginalHitTemplateId:928390909;</td>\n",
       "      <td>120</td>\n",
       "      <td>...</td>\n",
       "      <td>100% (108/108)</td>\n",
       "      <td>100% (108/108)</td>\n",
       "      <td>0.901939</td>\n",
       "      <td>movie_review</td>\n",
       "      <td>True</td>\n",
       "      <td>mit</td>\n",
       "      <td>though writer director bart freundlich's film ...</td>\n",
       "      <td>Real</td>\n",
       "      <td>NaN</td>\n",
       "      <td>NaN</td>\n",
       "    </tr>\n",
       "  </tbody>\n",
       "</table>\n",
       "<p>5 rows × 35 columns</p>\n",
       "</div>"
      ],
      "text/plain": [
       "                            HITId                       HITTypeId  \\\n",
       "0  3XABXM4AJ15ASNYG8T421XGCSMBQ8P  32CVJ4DS80V6HN5HX91VI5H2GB2VK0   \n",
       "1  3XABXM4AJ15ASNYG8T421XGCSMBQ8P  32CVJ4DS80V6HN5HX91VI5H2GB2VK0   \n",
       "2  3XABXM4AJ15ASNYG8T421XGCSMBQ8P  32CVJ4DS80V6HN5HX91VI5H2GB2VK0   \n",
       "3  3XABXM4AJ15ASNYG8T421XGCSMBQ8P  32CVJ4DS80V6HN5HX91VI5H2GB2VK0   \n",
       "4  3XABXM4AJ15ASNYG8T421XGCSMBQ8P  32CVJ4DS80V6HN5HX91VI5H2GB2VK0   \n",
       "\n",
       "                            Title  \\\n",
       "0  Guess reviews are real or fake   \n",
       "1  Guess reviews are real or fake   \n",
       "2  Guess reviews are real or fake   \n",
       "3  Guess reviews are real or fake   \n",
       "4  Guess reviews are real or fake   \n",
       "\n",
       "                                         Description  \\\n",
       "0  You will be randomly shown an online review fr...   \n",
       "1  You will be randomly shown an online review fr...   \n",
       "2  You will be randomly shown an online review fr...   \n",
       "3  You will be randomly shown an online review fr...   \n",
       "4  You will be randomly shown an online review fr...   \n",
       "\n",
       "                       Keywords Reward                  CreationTime  \\\n",
       "0  real, computer_altered, text  $0.05  Sun Sep 22 14:52:21 PDT 2019   \n",
       "1  real, computer_altered, text  $0.05  Sun Sep 22 14:52:21 PDT 2019   \n",
       "2  real, computer_altered, text  $0.05  Sun Sep 22 14:52:21 PDT 2019   \n",
       "3  real, computer_altered, text  $0.05  Sun Sep 22 14:52:21 PDT 2019   \n",
       "4  real, computer_altered, text  $0.05  Sun Sep 22 14:52:21 PDT 2019   \n",
       "\n",
       "   MaxAssignments                               RequesterAnnotation  \\\n",
       "0              10  BatchId:3775607;OriginalHitTemplateId:928390909;   \n",
       "1              10  BatchId:3775607;OriginalHitTemplateId:928390909;   \n",
       "2              10  BatchId:3775607;OriginalHitTemplateId:928390909;   \n",
       "3              10  BatchId:3775607;OriginalHitTemplateId:928390909;   \n",
       "4              10  BatchId:3775607;OriginalHitTemplateId:928390909;   \n",
       "\n",
       "   AssignmentDurationInSeconds  ...  Last30DaysApprovalRate  \\\n",
       "0                          120  ...          100% (200/200)   \n",
       "1                          120  ...          100% (171/171)   \n",
       "2                          120  ...            100% (80/80)   \n",
       "3                          120  ...          100% (198/198)   \n",
       "4                          120  ...          100% (108/108)   \n",
       "\n",
       "  Last7DaysApprovalRate  Input.USE_similarity  Input.dataset Input.original  \\\n",
       "0        100% (200/200)              0.901939   movie_review           True   \n",
       "1        100% (171/171)              0.901939   movie_review           True   \n",
       "2          100% (80/80)              0.901939   movie_review           True   \n",
       "3        100% (198/198)              0.901939   movie_review           True   \n",
       "4        100% (108/108)              0.901939   movie_review           True   \n",
       "\n",
       "  Input.run_type                                         Input.text  \\\n",
       "0            mit  though writer director bart freundlich's film ...   \n",
       "1            mit  though writer director bart freundlich's film ...   \n",
       "2            mit  though writer director bart freundlich's film ...   \n",
       "3            mit  though writer director bart freundlich's film ...   \n",
       "4            mit  though writer director bart freundlich's film ...   \n",
       "\n",
       "  Answer.sentiment.label Approve Reject  \n",
       "0                   Real     NaN    NaN  \n",
       "1                   Real     NaN    NaN  \n",
       "2                   Real     NaN    NaN  \n",
       "3                   Real     NaN    NaN  \n",
       "4                   Real     NaN    NaN  \n",
       "\n",
       "[5 rows x 35 columns]"
      ]
     },
     "execution_count": 4,
     "metadata": {},
     "output_type": "execute_result"
    }
   ],
   "source": [
    "df.head()"
   ]
  },
  {
   "cell_type": "code",
   "execution_count": 5,
   "metadata": {},
   "outputs": [
    {
     "data": {
      "text/plain": [
       "array(['Real', 'Computer-altered'], dtype=object)"
      ]
     },
     "execution_count": 5,
     "metadata": {},
     "output_type": "execute_result"
    }
   ],
   "source": [
    "df['Answer.sentiment.label'].unique()"
   ]
  },
  {
   "cell_type": "code",
   "execution_count": 9,
   "metadata": {},
   "outputs": [
    {
     "data": {
      "text/plain": [
       "Index(['HITId', 'HITTypeId', 'Title', 'Description', 'Keywords', 'Reward',\n",
       "       'CreationTime', 'MaxAssignments', 'RequesterAnnotation',\n",
       "       'AssignmentDurationInSeconds', 'AutoApprovalDelayInSeconds',\n",
       "       'Expiration', 'NumberOfSimilarHITs', 'LifetimeInSeconds',\n",
       "       'AssignmentId', 'WorkerId', 'AssignmentStatus', 'AcceptTime',\n",
       "       'SubmitTime', 'AutoApprovalTime', 'ApprovalTime', 'RejectionTime',\n",
       "       'RequesterFeedback', 'WorkTimeInSeconds', 'LifetimeApprovalRate',\n",
       "       'Last30DaysApprovalRate', 'Last7DaysApprovalRate',\n",
       "       'Input.USE_similarity', 'Input.dataset', 'Input.original',\n",
       "       'Input.run_type', 'Input.text', 'Answer.sentiment.label', 'Approve',\n",
       "       'Reject'],\n",
       "      dtype='object')"
      ]
     },
     "execution_count": 9,
     "metadata": {},
     "output_type": "execute_result"
    }
   ],
   "source": [
    "df.columns"
   ]
  },
  {
   "cell_type": "code",
   "execution_count": 10,
   "metadata": {},
   "outputs": [
    {
     "data": {
      "text/plain": [
       "array([ True, False])"
      ]
     },
     "execution_count": 10,
     "metadata": {},
     "output_type": "execute_result"
    }
   ],
   "source": [
    "df['Input.original'].unique()"
   ]
  },
  {
   "cell_type": "code",
   "execution_count": 23,
   "metadata": {},
   "outputs": [],
   "source": [
    "def fix(x):\n",
    "    return 'Real' if x else 'Computer-altered'\n",
    "\n",
    "df['Orig'] = df['Input.original'].apply(fix)"
   ]
  },
  {
   "cell_type": "code",
   "execution_count": 26,
   "metadata": {},
   "outputs": [
    {
     "data": {
      "text/plain": [
       "1384"
      ]
     },
     "execution_count": 26,
     "metadata": {},
     "output_type": "execute_result"
    }
   ],
   "source": [
    "df['Correct'] = df['Orig'] == df['Answer.sentiment.label']\n",
    "len(df[df['Correct']])"
   ]
  },
  {
   "cell_type": "code",
   "execution_count": 30,
   "metadata": {},
   "outputs": [],
   "source": [
    "df_corr = df[df['Correct']]"
   ]
  },
  {
   "cell_type": "code",
   "execution_count": 33,
   "metadata": {},
   "outputs": [
    {
     "data": {
      "text/plain": [
       "1001"
      ]
     },
     "execution_count": 33,
     "metadata": {},
     "output_type": "execute_result"
    }
   ],
   "source": [
    "df_sus_corr = df[df['Orig'] == 'Computer-altered']\n",
    "len(df_sus_corr)"
   ]
  },
  {
   "cell_type": "code",
   "execution_count": 40,
   "metadata": {},
   "outputs": [
    {
     "data": {
      "text/plain": [
       "Input.text\n",
       "like a eastwards of the constraint melrose place                                                                                                                                                                                        11\n",
       "has an uppity musical beat that you can ballroom to, but its energy can't versus to the wit, humor and snappy dialogue of the original if i want music, i 'll buy the soundtrack if i want a real movie, i 'll buy the criterion dvd    10\n",
       "despite its floating narrative, this is a remarkably doable and harmonies kino                                                                                                                                                          10\n",
       "doesn't inbound close to excuses the hype that surrounded its debut at the sundance film festival two years ago                                                                                                                         10\n",
       "done in mostly by a delicate script that can't succour the odyssey heal                                                                                                                                                                 10\n",
       "endured from a stable scenarios and a lean estimation                                                                                                                                                                                   10\n",
       "equal parts nightie ripper and thundering costume drama                                                                                                                                                                                 10\n",
       "flat out amusing, sometimes endearing and frequently mega, with a dependable cast, prodigious roles, luscious dialogue and a wholesale affords of actionable viewpoint gag                                                              10\n",
       "flavor of roasting and hack working from start to iend                                                                                                                                                                                  10\n",
       "for once, a movie wanting not proclaim the veracity about three loves slugged somebodies, but lets them lengths and distance to convinced our of that all on their exclusively                                                          10\n",
       "freda is surely no disasters, but neither is it the kahlo cinema frida fans have been watching for                                                                                                                                      10\n",
       "gargantuan character interaction                                                                                                                                                                                                        10\n",
       "how decent this film might be, depends if you believe that the shocking conclusion is too much of a plunge or not                                                                                                                       10\n",
       "just like the delicatessen steak plenty of prosciutto, alot of cheese, with a neurotic sweet coating to disguise its excrescence until just after ( or during ) consuming of its second half                                            10\n",
       "i definitely behold that a fine film gaming film is gonna to reflect up fast i also suppose that resident evil is not it                                                                                                                10\n",
       "i rained this film a lot                                                                                                                                                                                                                10\n",
       "if steven soderbergh's 'solaris' is a failure it is a lustrous failure                                                                                                                                                                  10\n",
       "it is too improve to expect robin williams turn 180 degrees from the cable of insultingly innocuous and sappy fiascoes he's been making for the last several years                                                                      10\n",
       "it lacks the selfless, better natured humour and the level of insight that made eyre's first film something of a sleeper success                                                                                                        10\n",
       "it's a harsh movie about otherwise dull subjects                                                                                                                                                                                        10\n",
       "Name: Title, dtype: int64"
      ]
     },
     "execution_count": 40,
     "metadata": {},
     "output_type": "execute_result"
    }
   ],
   "source": [
    "df_sus_corr.groupby('Input.text')['Title'].count().sort_values(ascending=False).head(n=20)"
   ]
  },
  {
   "cell_type": "code",
   "execution_count": null,
   "metadata": {},
   "outputs": [],
   "source": []
  }
 ],
 "metadata": {
  "kernelspec": {
   "display_name": "Python 3",
   "language": "python",
   "name": "python3"
  },
  "language_info": {
   "codemirror_mode": {
    "name": "ipython",
    "version": 3
   },
   "file_extension": ".py",
   "mimetype": "text/x-python",
   "name": "python",
   "nbconvert_exporter": "python",
   "pygments_lexer": "ipython3",
   "version": "3.7.5"
  }
 },
 "nbformat": 4,
 "nbformat_minor": 2
}
