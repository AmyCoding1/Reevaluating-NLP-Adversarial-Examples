{
 "cells": [
  {
   "cell_type": "code",
   "execution_count": 3,
   "metadata": {},
   "outputs": [],
   "source": [
    "import pandas as pd\n",
    "\n",
    "df = pd.read_csv('./section4-non-suspicious-results.csv')"
   ]
  },
  {
   "cell_type": "code",
   "execution_count": 4,
   "metadata": {},
   "outputs": [
    {
     "data": {
      "text/html": [
       "<div>\n",
       "<style scoped>\n",
       "    .dataframe tbody tr th:only-of-type {\n",
       "        vertical-align: middle;\n",
       "    }\n",
       "\n",
       "    .dataframe tbody tr th {\n",
       "        vertical-align: top;\n",
       "    }\n",
       "\n",
       "    .dataframe thead th {\n",
       "        text-align: right;\n",
       "    }\n",
       "</style>\n",
       "<table border=\"1\" class=\"dataframe\">\n",
       "  <thead>\n",
       "    <tr style=\"text-align: right;\">\n",
       "      <th></th>\n",
       "      <th>HITId</th>\n",
       "      <th>HITTypeId</th>\n",
       "      <th>Title</th>\n",
       "      <th>Description</th>\n",
       "      <th>Keywords</th>\n",
       "      <th>Reward</th>\n",
       "      <th>CreationTime</th>\n",
       "      <th>MaxAssignments</th>\n",
       "      <th>RequesterAnnotation</th>\n",
       "      <th>AssignmentDurationInSeconds</th>\n",
       "      <th>...</th>\n",
       "      <th>Last30DaysApprovalRate</th>\n",
       "      <th>Last7DaysApprovalRate</th>\n",
       "      <th>Input.USE_similarity</th>\n",
       "      <th>Input.dataset</th>\n",
       "      <th>Input.original</th>\n",
       "      <th>Input.run_type</th>\n",
       "      <th>Input.text</th>\n",
       "      <th>Answer.sentiment.label</th>\n",
       "      <th>Approve</th>\n",
       "      <th>Reject</th>\n",
       "    </tr>\n",
       "  </thead>\n",
       "  <tbody>\n",
       "    <tr>\n",
       "      <th>0</th>\n",
       "      <td>3XABXM4AJ15ASNYG8T421XGCSMBQ8P</td>\n",
       "      <td>32CVJ4DS80V6HN5HX91VI5H2GB2VK0</td>\n",
       "      <td>Guess reviews are real or fake</td>\n",
       "      <td>You will be randomly shown an online review fr...</td>\n",
       "      <td>real, computer_altered, text</td>\n",
       "      <td>$0.05</td>\n",
       "      <td>Sun Sep 22 14:52:21 PDT 2019</td>\n",
       "      <td>10</td>\n",
       "      <td>BatchId:3775607;OriginalHitTemplateId:928390909;</td>\n",
       "      <td>120</td>\n",
       "      <td>...</td>\n",
       "      <td>100% (200/200)</td>\n",
       "      <td>100% (200/200)</td>\n",
       "      <td>0.901939</td>\n",
       "      <td>movie_review</td>\n",
       "      <td>True</td>\n",
       "      <td>mit</td>\n",
       "      <td>though writer director bart freundlich's film ...</td>\n",
       "      <td>Real</td>\n",
       "      <td>NaN</td>\n",
       "      <td>NaN</td>\n",
       "    </tr>\n",
       "    <tr>\n",
       "      <th>1</th>\n",
       "      <td>3XABXM4AJ15ASNYG8T421XGCSMBQ8P</td>\n",
       "      <td>32CVJ4DS80V6HN5HX91VI5H2GB2VK0</td>\n",
       "      <td>Guess reviews are real or fake</td>\n",
       "      <td>You will be randomly shown an online review fr...</td>\n",
       "      <td>real, computer_altered, text</td>\n",
       "      <td>$0.05</td>\n",
       "      <td>Sun Sep 22 14:52:21 PDT 2019</td>\n",
       "      <td>10</td>\n",
       "      <td>BatchId:3775607;OriginalHitTemplateId:928390909;</td>\n",
       "      <td>120</td>\n",
       "      <td>...</td>\n",
       "      <td>100% (171/171)</td>\n",
       "      <td>100% (171/171)</td>\n",
       "      <td>0.901939</td>\n",
       "      <td>movie_review</td>\n",
       "      <td>True</td>\n",
       "      <td>mit</td>\n",
       "      <td>though writer director bart freundlich's film ...</td>\n",
       "      <td>Real</td>\n",
       "      <td>NaN</td>\n",
       "      <td>NaN</td>\n",
       "    </tr>\n",
       "    <tr>\n",
       "      <th>2</th>\n",
       "      <td>3XABXM4AJ15ASNYG8T421XGCSMBQ8P</td>\n",
       "      <td>32CVJ4DS80V6HN5HX91VI5H2GB2VK0</td>\n",
       "      <td>Guess reviews are real or fake</td>\n",
       "      <td>You will be randomly shown an online review fr...</td>\n",
       "      <td>real, computer_altered, text</td>\n",
       "      <td>$0.05</td>\n",
       "      <td>Sun Sep 22 14:52:21 PDT 2019</td>\n",
       "      <td>10</td>\n",
       "      <td>BatchId:3775607;OriginalHitTemplateId:928390909;</td>\n",
       "      <td>120</td>\n",
       "      <td>...</td>\n",
       "      <td>100% (80/80)</td>\n",
       "      <td>100% (80/80)</td>\n",
       "      <td>0.901939</td>\n",
       "      <td>movie_review</td>\n",
       "      <td>True</td>\n",
       "      <td>mit</td>\n",
       "      <td>though writer director bart freundlich's film ...</td>\n",
       "      <td>Real</td>\n",
       "      <td>NaN</td>\n",
       "      <td>NaN</td>\n",
       "    </tr>\n",
       "    <tr>\n",
       "      <th>3</th>\n",
       "      <td>3XABXM4AJ15ASNYG8T421XGCSMBQ8P</td>\n",
       "      <td>32CVJ4DS80V6HN5HX91VI5H2GB2VK0</td>\n",
       "      <td>Guess reviews are real or fake</td>\n",
       "      <td>You will be randomly shown an online review fr...</td>\n",
       "      <td>real, computer_altered, text</td>\n",
       "      <td>$0.05</td>\n",
       "      <td>Sun Sep 22 14:52:21 PDT 2019</td>\n",
       "      <td>10</td>\n",
       "      <td>BatchId:3775607;OriginalHitTemplateId:928390909;</td>\n",
       "      <td>120</td>\n",
       "      <td>...</td>\n",
       "      <td>100% (198/198)</td>\n",
       "      <td>100% (198/198)</td>\n",
       "      <td>0.901939</td>\n",
       "      <td>movie_review</td>\n",
       "      <td>True</td>\n",
       "      <td>mit</td>\n",
       "      <td>though writer director bart freundlich's film ...</td>\n",
       "      <td>Real</td>\n",
       "      <td>NaN</td>\n",
       "      <td>NaN</td>\n",
       "    </tr>\n",
       "    <tr>\n",
       "      <th>4</th>\n",
       "      <td>3XABXM4AJ15ASNYG8T421XGCSMBQ8P</td>\n",
       "      <td>32CVJ4DS80V6HN5HX91VI5H2GB2VK0</td>\n",
       "      <td>Guess reviews are real or fake</td>\n",
       "      <td>You will be randomly shown an online review fr...</td>\n",
       "      <td>real, computer_altered, text</td>\n",
       "      <td>$0.05</td>\n",
       "      <td>Sun Sep 22 14:52:21 PDT 2019</td>\n",
       "      <td>10</td>\n",
       "      <td>BatchId:3775607;OriginalHitTemplateId:928390909;</td>\n",
       "      <td>120</td>\n",
       "      <td>...</td>\n",
       "      <td>100% (108/108)</td>\n",
       "      <td>100% (108/108)</td>\n",
       "      <td>0.901939</td>\n",
       "      <td>movie_review</td>\n",
       "      <td>True</td>\n",
       "      <td>mit</td>\n",
       "      <td>though writer director bart freundlich's film ...</td>\n",
       "      <td>Real</td>\n",
       "      <td>NaN</td>\n",
       "      <td>NaN</td>\n",
       "    </tr>\n",
       "  </tbody>\n",
       "</table>\n",
       "<p>5 rows × 35 columns</p>\n",
       "</div>"
      ],
      "text/plain": [
       "                            HITId                       HITTypeId  \\\n",
       "0  3XABXM4AJ15ASNYG8T421XGCSMBQ8P  32CVJ4DS80V6HN5HX91VI5H2GB2VK0   \n",
       "1  3XABXM4AJ15ASNYG8T421XGCSMBQ8P  32CVJ4DS80V6HN5HX91VI5H2GB2VK0   \n",
       "2  3XABXM4AJ15ASNYG8T421XGCSMBQ8P  32CVJ4DS80V6HN5HX91VI5H2GB2VK0   \n",
       "3  3XABXM4AJ15ASNYG8T421XGCSMBQ8P  32CVJ4DS80V6HN5HX91VI5H2GB2VK0   \n",
       "4  3XABXM4AJ15ASNYG8T421XGCSMBQ8P  32CVJ4DS80V6HN5HX91VI5H2GB2VK0   \n",
       "\n",
       "                            Title  \\\n",
       "0  Guess reviews are real or fake   \n",
       "1  Guess reviews are real or fake   \n",
       "2  Guess reviews are real or fake   \n",
       "3  Guess reviews are real or fake   \n",
       "4  Guess reviews are real or fake   \n",
       "\n",
       "                                         Description  \\\n",
       "0  You will be randomly shown an online review fr...   \n",
       "1  You will be randomly shown an online review fr...   \n",
       "2  You will be randomly shown an online review fr...   \n",
       "3  You will be randomly shown an online review fr...   \n",
       "4  You will be randomly shown an online review fr...   \n",
       "\n",
       "                       Keywords Reward                  CreationTime  \\\n",
       "0  real, computer_altered, text  $0.05  Sun Sep 22 14:52:21 PDT 2019   \n",
       "1  real, computer_altered, text  $0.05  Sun Sep 22 14:52:21 PDT 2019   \n",
       "2  real, computer_altered, text  $0.05  Sun Sep 22 14:52:21 PDT 2019   \n",
       "3  real, computer_altered, text  $0.05  Sun Sep 22 14:52:21 PDT 2019   \n",
       "4  real, computer_altered, text  $0.05  Sun Sep 22 14:52:21 PDT 2019   \n",
       "\n",
       "   MaxAssignments                               RequesterAnnotation  \\\n",
       "0              10  BatchId:3775607;OriginalHitTemplateId:928390909;   \n",
       "1              10  BatchId:3775607;OriginalHitTemplateId:928390909;   \n",
       "2              10  BatchId:3775607;OriginalHitTemplateId:928390909;   \n",
       "3              10  BatchId:3775607;OriginalHitTemplateId:928390909;   \n",
       "4              10  BatchId:3775607;OriginalHitTemplateId:928390909;   \n",
       "\n",
       "   AssignmentDurationInSeconds  ...  Last30DaysApprovalRate  \\\n",
       "0                          120  ...          100% (200/200)   \n",
       "1                          120  ...          100% (171/171)   \n",
       "2                          120  ...            100% (80/80)   \n",
       "3                          120  ...          100% (198/198)   \n",
       "4                          120  ...          100% (108/108)   \n",
       "\n",
       "  Last7DaysApprovalRate  Input.USE_similarity  Input.dataset Input.original  \\\n",
       "0        100% (200/200)              0.901939   movie_review           True   \n",
       "1        100% (171/171)              0.901939   movie_review           True   \n",
       "2          100% (80/80)              0.901939   movie_review           True   \n",
       "3        100% (198/198)              0.901939   movie_review           True   \n",
       "4        100% (108/108)              0.901939   movie_review           True   \n",
       "\n",
       "  Input.run_type                                         Input.text  \\\n",
       "0            mit  though writer director bart freundlich's film ...   \n",
       "1            mit  though writer director bart freundlich's film ...   \n",
       "2            mit  though writer director bart freundlich's film ...   \n",
       "3            mit  though writer director bart freundlich's film ...   \n",
       "4            mit  though writer director bart freundlich's film ...   \n",
       "\n",
       "  Answer.sentiment.label Approve Reject  \n",
       "0                   Real     NaN    NaN  \n",
       "1                   Real     NaN    NaN  \n",
       "2                   Real     NaN    NaN  \n",
       "3                   Real     NaN    NaN  \n",
       "4                   Real     NaN    NaN  \n",
       "\n",
       "[5 rows x 35 columns]"
      ]
     },
     "execution_count": 4,
     "metadata": {},
     "output_type": "execute_result"
    }
   ],
   "source": [
    "df.head()"
   ]
  },
  {
   "cell_type": "code",
   "execution_count": 5,
   "metadata": {},
   "outputs": [
    {
     "data": {
      "text/plain": [
       "array(['Real', 'Computer-altered'], dtype=object)"
      ]
     },
     "execution_count": 5,
     "metadata": {},
     "output_type": "execute_result"
    }
   ],
   "source": [
    "df['Answer.sentiment.label'].unique()"
   ]
  },
  {
   "cell_type": "code",
   "execution_count": 9,
   "metadata": {},
   "outputs": [
    {
     "data": {
      "text/plain": [
       "Index(['HITId', 'HITTypeId', 'Title', 'Description', 'Keywords', 'Reward',\n",
       "       'CreationTime', 'MaxAssignments', 'RequesterAnnotation',\n",
       "       'AssignmentDurationInSeconds', 'AutoApprovalDelayInSeconds',\n",
       "       'Expiration', 'NumberOfSimilarHITs', 'LifetimeInSeconds',\n",
       "       'AssignmentId', 'WorkerId', 'AssignmentStatus', 'AcceptTime',\n",
       "       'SubmitTime', 'AutoApprovalTime', 'ApprovalTime', 'RejectionTime',\n",
       "       'RequesterFeedback', 'WorkTimeInSeconds', 'LifetimeApprovalRate',\n",
       "       'Last30DaysApprovalRate', 'Last7DaysApprovalRate',\n",
       "       'Input.USE_similarity', 'Input.dataset', 'Input.original',\n",
       "       'Input.run_type', 'Input.text', 'Answer.sentiment.label', 'Approve',\n",
       "       'Reject'],\n",
       "      dtype='object')"
      ]
     },
     "execution_count": 9,
     "metadata": {},
     "output_type": "execute_result"
    }
   ],
   "source": [
    "df.columns"
   ]
  },
  {
   "cell_type": "code",
   "execution_count": 10,
   "metadata": {},
   "outputs": [
    {
     "data": {
      "text/plain": [
       "array([ True, False])"
      ]
     },
     "execution_count": 10,
     "metadata": {},
     "output_type": "execute_result"
    }
   ],
   "source": [
    "df['Input.original'].unique()"
   ]
  },
  {
   "cell_type": "code",
   "execution_count": 23,
   "metadata": {},
   "outputs": [],
   "source": [
    "def fix(x):\n",
    "    return 'Real' if x else 'Computer-altered'\n",
    "\n",
    "df['Orig'] = df['Input.original'].apply(fix)"
   ]
  },
  {
   "cell_type": "code",
   "execution_count": 26,
   "metadata": {},
   "outputs": [
    {
     "data": {
      "text/plain": [
       "1384"
      ]
     },
     "execution_count": 26,
     "metadata": {},
     "output_type": "execute_result"
    }
   ],
   "source": [
    "df['Correct'] = df['Orig'] == df['Answer.sentiment.label']\n",
    "len(df[df['Correct']])"
   ]
  },
  {
   "cell_type": "code",
   "execution_count": 42,
   "metadata": {},
   "outputs": [],
   "source": [
    "df_corr = df[df['Correct']]"
   ]
  },
  {
   "cell_type": "code",
   "execution_count": 44,
   "metadata": {},
   "outputs": [
    {
     "data": {
      "text/plain": [
       "570"
      ]
     },
     "execution_count": 44,
     "metadata": {},
     "output_type": "execute_result"
    }
   ],
   "source": [
    "df_sus_corr = df_corr[df_corr['Orig'] == 'Computer-altered']\n",
    "len(df_sus_corr)"
   ]
  },
  {
   "cell_type": "code",
   "execution_count": 45,
   "metadata": {},
   "outputs": [
    {
     "data": {
      "text/plain": [
       "Input.text\n",
       "like a eastwards of the constraint melrose place                                                                                                                                                                  10\n",
       "' hopkins doesn't so much mobiles in his performance as fax it no, even that's too committed he enjoys his secretary to faxed it                                                                                   9\n",
       "a grates, lanky flick                                                                                                                                                                                              9\n",
       "i rained this film a lot                                                                                                                                                                                           9\n",
       "flavor of roasting and hack working from start to iend                                                                                                                                                             9\n",
       "endured from a stable scenarios and a lean estimation                                                                                                                                                              8\n",
       "rarely has skin looked as super, preferable, even delectable, as it does in trouble every days                                                                                                                     8\n",
       "the actors heave out all the stopping in intimately every scene, but to narrowing influencing the characters never change                                                                                          8\n",
       "much of the movie's tempt lies in the utter cuteness of stuart and margolo their computer animated faces are very melodious                                                                                        8\n",
       "match neorealism's affected by showed the humans of a war ruptured land filled with people who just want to live their lives                                                                                       8\n",
       "the first blunders, i doubted, is pouring shatner as a sublime pedagogy and kunis as a fantastic ecole pupil where's palo lakeshore as the blast science ?                                                         8\n",
       "it's more enjoyable than i awaited, though, and that's than the giggling come from fairly cardinal comedic constructs theatrical pratfalls given a labor over the cast is slick on and the mood is thrown back     8\n",
       "the story ultimately opting hold and dukes hard                                                                                                                                                                    8\n",
       "gargantuan character interaction                                                                                                                                                                                   8\n",
       "there may have been a fine films in trouble every days, but it is not what is on the screens                                                                                                                       8\n",
       "somewhere in the eastwards, the film commits, as demme experimentation he captures a few scene moment gems, but the field of roughage dominance                                                                    8\n",
       "an even more foreseen, cliche ascended business than its prelude                                                                                                                                                   8\n",
       "with virtually no exhilarating dimension for an audiences to focus on, chelsea walls is a triangular espresso stamina challenges                                                                                   8\n",
       "conceivably leblanc knew, farewell, the film about the hardball breed chimpanzees was harshest                                                                                                                     8\n",
       "with resolutely organised efficient, dissimilar flashbacks and a constant verge of strained, miller's movie is one of 2002's involvingly grownup bewildered                                                        8\n",
       "Name: Title, dtype: int64"
      ]
     },
     "execution_count": 45,
     "metadata": {},
     "output_type": "execute_result"
    }
   ],
   "source": [
    "df_sus_corr.groupby('Input.text')['Title'].count().sort_values(ascending=False).head(n=20)"
   ]
  },
  {
   "cell_type": "code",
   "execution_count": 46,
   "metadata": {},
   "outputs": [],
   "source": [
    "df_non_sus_corr = df_corr[df_corr['Orig'] == 'Real']"
   ]
  },
  {
   "cell_type": "code",
   "execution_count": 47,
   "metadata": {},
   "outputs": [
    {
     "data": {
      "text/plain": [
       "Input.text\n",
       "the film is darkly funny in its observation of just how much more grueling and time consuming the illusion of work is than actual work                                                                                        10\n",
       "a high spirited buddy movie about the reunion of berlin anarchists who face arrest 15 years after their crime                                                                                                                 10\n",
       "davis is so enamored of her own creation that she can't see how insufferable the character is                                                                                                                                 10\n",
       "doesn't come close to justifying the hype that surrounded its debut at the sundance film festival two years ago                                                                                                               10\n",
       "payne has created a beautiful canvas, and nicholson proves once again that he's the best brush in the business                                                                                                                10\n",
       "never having seen the first two films in the series, i can't compare friday after next to them, but nothing would change the fact that what we have here is a load of clams left in the broiling sun for a good three days    10\n",
       "a strangely compelling and brilliantly acted psychological drama                                                                                                                                                              10\n",
       "great character interaction                                                                                                                                                                                                   10\n",
       "i firmly believe that a good video game movie is going to show up soon i also believe that resident evil is not it                                                                                                            10\n",
       "this is one of those war movies that focuses on human interaction rather than battle and action sequences and it's all the stronger because of it                                                                             10\n",
       "it lacks the compassion, good natured humor and the level of insight that made eyre's first film something of a sleeper success                                                                                               10\n",
       "watching this film, what we feel isn't mainly suspense or excitement the dominant feeling is something like nostalgia                                                                                                         10\n",
       "a combination of standard, stiff tv style animation and snazzy looking digital effects that do little to disguise the fact that the characters barely move                                                                    10\n",
       "leigh succeeds in delivering a dramatic slap in the face that's simultaneously painful and refreshing                                                                                                                         10\n",
       "for once, a movie does not proclaim the truth about two love struck somebodies, but permits them time and space to convince us of that all on their own                                                                        9\n",
       "suffers from a flat script and a low budget                                                                                                                                                                                    9\n",
       "strange and beautiful film                                                                                                                                                                                                     9\n",
       "despite its floating narrative, this is a remarkably accessible and haunting film                                                                                                                                              9\n",
       "rosenthal ( halloween ii ) seems to have forgotten everything he ever knew about generating suspense                                                                                                                           9\n",
       "it's crafty, energetic and smart the kid is sort of like a fourteen year old ferris bueller                                                                                                                                    9\n",
       "Name: Title, dtype: int64"
      ]
     },
     "execution_count": 47,
     "metadata": {},
     "output_type": "execute_result"
    }
   ],
   "source": [
    "df_non_sus_corr.groupby('Input.text')['Title'].count().sort_values(ascending=False).head(n=20)"
   ]
  },
  {
   "cell_type": "code",
   "execution_count": null,
   "metadata": {},
   "outputs": [],
   "source": []
  }
 ],
 "metadata": {
  "kernelspec": {
   "display_name": "Python 3",
   "language": "python",
   "name": "python3"
  },
  "language_info": {
   "codemirror_mode": {
    "name": "ipython",
    "version": 3
   },
   "file_extension": ".py",
   "mimetype": "text/x-python",
   "name": "python",
   "nbconvert_exporter": "python",
   "pygments_lexer": "ipython3",
   "version": "3.7.5"
  }
 },
 "nbformat": 4,
 "nbformat_minor": 2
}
